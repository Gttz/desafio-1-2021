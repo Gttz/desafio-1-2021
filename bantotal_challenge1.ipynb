{
 "cells": [
  {
   "cell_type": "markdown",
   "metadata": {
    "collapsed": true
   },
   "source": [
    "# Desafio 1 - Maratona Behind the Code 2021"
   ]
  },
  {
   "cell_type": "markdown",
   "metadata": {},
   "source": [
    "## 1. Exploração do dataset\n",
    "\n",
    "O primeiro passo para o desenvolvimento de um bom modelo de Machine Learning é explorar bem os dados que temos para trabalhar. Devemos entender o melhor possível a relevância de cada dado para o valor que queremos predizer. Afinal, a predição do modelo é inteiramente baseada nos dados com que treinou.\n",
    "\n",
    "Existem muitas bibliotecas em Python que podem ser utilizadas para tratamento e visualização de dados. Nesses exemplos, vamos usar Pandas, Seaborn e Matplotlib."
   ]
  },
  {
   "cell_type": "markdown",
   "metadata": {},
   "source": [
    "### 1.1 Importações das Bibliotecas"
   ]
  },
  {
   "cell_type": "code",
   "execution_count": 1,
   "metadata": {},
   "outputs": [],
   "source": [
    "# Análise e manipulação\n",
    "import pandas as pd\n",
    "import numpy as np\n",
    "import sys\n",
    "# Visualizações\n",
    "import matplotlib.pyplot as plt\n",
    "import seaborn as sns\n",
    "# Transformações e treinamentos\n",
    "from sklearn.utils import resample\n",
    "from sklearn.model_selection import train_test_split\n",
    "from sklearn.base import BaseEstimator, TransformerMixin\n",
    "from sklearn.compose import ColumnTransformer\n",
    "from sklearn.pipeline import Pipeline\n",
    "from sklearn.impute import SimpleImputer\n",
    "from sklearn.preprocessing import StandardScaler, OneHotEncoder, LabelEncoder\n",
    "from sklearn.model_selection import RandomizedSearchCV, GridSearchCV\n",
    "from sklearn.model_selection import cross_val_score\n",
    "# Modelos para problemas de Classificação\n",
    "from sklearn.tree import DecisionTreeClassifier\n",
    "from sklearn.ensemble import RandomForestClassifier\n",
    "from sklearn.ensemble import ExtraTreesClassifier\n",
    "from sklearn.linear_model import LogisticRegression\n",
    "from lightgbm import LGBMClassifier\n",
    "from tensorflow.keras.layers import Dense\n",
    "from tensorflow.keras.models import Sequential\n",
    "from tensorflow.keras.layers import Dense, Dropout\n",
    "from tensorflow.keras.wrappers.scikit_learn import KerasClassifier\n",
    "from sklearn.ensemble import VotingClassifier\n",
    "# Métricas de Classificação\n",
    "from sklearn.metrics import accuracy_score, confusion_matrix, classification_report, recall_score, precision_score, f1_score, roc_auc_score, roc_curve\n",
    "\n",
    "# IBM\n",
    "\n",
    "# Importação do dataset\n",
    "# import os, types\n",
    "# from botocore.client import Config\n",
    "# import ibm_boto3\n",
    "# Submissão do desafio\n",
    "# from ibm_watson_machine_learning import APIClient"
   ]
  },
  {
   "cell_type": "markdown",
   "metadata": {},
   "source": [
    "### 1.2 Importação dos datasets"
   ]
  },
  {
   "cell_type": "code",
   "execution_count": 2,
   "metadata": {},
   "outputs": [],
   "source": [
    "loans = pd.read_csv(\"LOANS.csv\")\n",
    "accounts = pd.read_csv(\"ACCOUNTS.CSV\")\n",
    "demographics = pd.read_csv(\"DEMOGRAPHICS.csv\")"
   ]
  },
  {
   "cell_type": "code",
   "execution_count": null,
   "metadata": {},
   "outputs": [],
   "source": [
    "def __iter__(self): return 0\n",
    "\n",
    "if os.environ.get('RUNTIME_ENV_LOCATION_TYPE') == 'external':\n",
    "    endpoint_2132d677bb63455b8959b261ed2e9853 = 'https://s3.us.cloud-object-storage.appdomain.cloud'\n",
    "else:\n",
    "    endpoint_2132d677bb63455b8959b261ed2e9853 = 'https://s3.private.us.cloud-object-storage.appdomain.cloud'\n",
    "\n",
    "client_2132d677bb63455b8959b261ed2e9853 = ibm_boto3.client(service_name='s3',\n",
    "    ibm_api_key_id='8ouCa7KdhCoAUM7mv6HcGzl2n0Z5K5MoYPTqc7Zc9l59',\n",
    "    ibm_auth_endpoint=\"https://iam.cloud.ibm.com/oidc/token\",\n",
    "    config=Config(signature_version='oauth'),\n",
    "    endpoint_url=endpoint_2132d677bb63455b8959b261ed2e9853)\n",
    "\n",
    "body = client_2132d677bb63455b8959b261ed2e9853.get_object(Bucket='desafio1bantotal2021-donotdelete-pr-bnovckcxfuffpe',Key='LOANS.csv')['Body']\n",
    "\n",
    "if not hasattr(body, \"__iter__\"): body.__iter__ = types.MethodType( __iter__, body )\n",
    "\n",
    "loans = pd.read_csv(body)\n",
    "display(loans.head())\n",
    "display(loans.shape)\n",
    "\n",
    "body = client_2132d677bb63455b8959b261ed2e9853.get_object(Bucket='desafio1bantotal2021-donotdelete-pr-bnovckcxfuffpe',Key='ACCOUNTS.csv')['Body']\n",
    "\n",
    "if not hasattr(body, \"__iter__\"): body.__iter__ = types.MethodType( __iter__, body )\n",
    "\n",
    "accounts = pd.read_csv(body)\n",
    "display(accounts.head())\n",
    "display(accounts.shape)\n",
    "\n",
    "body = client_2132d677bb63455b8959b261ed2e9853.get_object(Bucket='desafio1bantotal2021-donotdelete-pr-bnovckcxfuffpe',Key='DEMOGRAPHICS.csv')['Body']\n",
    "\n",
    "if not hasattr(body, \"__iter__\"): body.__iter__ = types.MethodType( __iter__, body )\n",
    "\n",
    "demographics = pd.read_csv(body)\n",
    "display(demographics.head())\n",
    "display(demographics.shape)"
   ]
  },
  {
   "cell_type": "markdown",
   "metadata": {},
   "source": [
    "### 1.2. Dicionário dos dados\n",
    "\n",
    "Descrição de cada coluna presente no dataset:\n",
    "\n",
    "    \"ID\"                         - número do identificador do cliente\n",
    "    \"CHECKING_BALANCE\"           - Saldo que o cliente tem em sua conta\n",
    "    \"PAYMENT_TERM\"               - Número de dias que o cliente tem para pagar o empréstimo\n",
    "    \"CREDIT_HISTORY\"             - Situação de crédito anterior do cliente\n",
    "    \"LOAN_PURPOSE\"               - Motivo do empréstimo\n",
    "    \"LOAN_AMOUNT\"                - Montante do empréstimo\n",
    "    \"EXISTING_SAVINGS\"           - saldo da conta poupança\n",
    "    \"EMPLOYMENT_DURATION\"        - Há quantos anos o cliente está empregado\n",
    "    \"INSTALLMENT_PERCENT\"        - Valor das parcelas em que o empréstimo deve ser pago\n",
    "    \"SEX\"                        - sexo do cliente\n",
    "    \"OTHERS_ON_LOAN\"             - Denota a existência de um fiador ou outro solicitante de empréstimo\n",
    "    \"CURRENT_RESIDENCE_DURATION\" - anos que o cliente está em sua última residência\n",
    "    \"PROPRIETY\"                  - Indica se o cliente possui alguma propriedade em seu nome\n",
    "    \"AGE\"                        - idade do cliente\n",
    "    \"INSTALLMENT_PLANS\"          - Plano de financiamento, que pode ser bancário, externo ou nenhum\n",
    "    \"HABILITY\"                   - Indica se o cliente é dono de casa própria\n",
    "    \"EXISTING_CREDITS_COUNT\"     - Número de empréstimos concedidos ao cliente no passado\n",
    "    \"JOB_TYPE\"                   - Tipo de emprego: 0 - desempregado, 1 - não qualificado, 2 - autônomo, 3 - qualificado\n",
    "    \"DEPENDENTS\"                 - Número de pessoas com acesso à conta\n",
    "    \"TELEPHONE\"                  - Indica se o cliente possui um número de telefone cadastrado\n",
    "    \"FOREIGN_WORKER\"             - Indica se o cliente trabalha em um país fora do banco"
   ]
  },
  {
   "cell_type": "code",
   "execution_count": 3,
   "metadata": {},
   "outputs": [],
   "source": [
    "ld = pd.merge(loans, demographics, on=\"ID\", how=\"left\")\n",
    "df = pd.merge(ld, accounts, on=\"ID\", how = 'left')"
   ]
  },
  {
   "cell_type": "markdown",
   "metadata": {},
   "source": [
    "### 1.3 Dataset ACCOUNTS"
   ]
  },
  {
   "cell_type": "code",
   "execution_count": 4,
   "metadata": {
    "scrolled": true
   },
   "outputs": [
    {
     "data": {
      "text/html": [
       "<div>\n",
       "<style scoped>\n",
       "    .dataframe tbody tr th:only-of-type {\n",
       "        vertical-align: middle;\n",
       "    }\n",
       "\n",
       "    .dataframe tbody tr th {\n",
       "        vertical-align: top;\n",
       "    }\n",
       "\n",
       "    .dataframe thead th {\n",
       "        text-align: right;\n",
       "    }\n",
       "</style>\n",
       "<table border=\"1\" class=\"dataframe\">\n",
       "  <thead>\n",
       "    <tr style=\"text-align: right;\">\n",
       "      <th></th>\n",
       "      <th>ID</th>\n",
       "      <th>PAYMENT_TERM</th>\n",
       "      <th>INSTALLMENT_PERCENT</th>\n",
       "      <th>LOAN_AMOUNT</th>\n",
       "      <th>ALLOW</th>\n",
       "      <th>AGE</th>\n",
       "      <th>JOB_TYPE</th>\n",
       "      <th>DEPENDENTS</th>\n",
       "      <th>TELEPHONE</th>\n",
       "      <th>FOREIGN_WORKER</th>\n",
       "      <th>EMPLOYMENT_DURATION</th>\n",
       "      <th>CURRENT_RESIDENCE_DURATION</th>\n",
       "      <th>EXISTING_CREDITS_COUNT</th>\n",
       "    </tr>\n",
       "  </thead>\n",
       "  <tbody>\n",
       "    <tr>\n",
       "      <th>count</th>\n",
       "      <td>3.999000e+03</td>\n",
       "      <td>3975.000000</td>\n",
       "      <td>3974.000000</td>\n",
       "      <td>3981.000000</td>\n",
       "      <td>3999.000000</td>\n",
       "      <td>3918.000000</td>\n",
       "      <td>3910.000000</td>\n",
       "      <td>3915.000000</td>\n",
       "      <td>3915.000000</td>\n",
       "      <td>3909.000000</td>\n",
       "      <td>3923.000000</td>\n",
       "      <td>3917.000000</td>\n",
       "      <td>2463.000000</td>\n",
       "    </tr>\n",
       "    <tr>\n",
       "      <th>mean</th>\n",
       "      <td>6.603562e+05</td>\n",
       "      <td>653.796981</td>\n",
       "      <td>2.981379</td>\n",
       "      <td>3479.168802</td>\n",
       "      <td>0.664166</td>\n",
       "      <td>36.032925</td>\n",
       "      <td>2.429923</td>\n",
       "      <td>1.161175</td>\n",
       "      <td>0.412005</td>\n",
       "      <td>0.975697</td>\n",
       "      <td>4.238848</td>\n",
       "      <td>2.865458</td>\n",
       "      <td>1.469752</td>\n",
       "    </tr>\n",
       "    <tr>\n",
       "      <th>std</th>\n",
       "      <td>3.728332e+05</td>\n",
       "      <td>338.723239</td>\n",
       "      <td>1.121448</td>\n",
       "      <td>2489.961917</td>\n",
       "      <td>0.472340</td>\n",
       "      <td>10.617743</td>\n",
       "      <td>0.931842</td>\n",
       "      <td>0.367739</td>\n",
       "      <td>0.492259</td>\n",
       "      <td>0.154008</td>\n",
       "      <td>3.595680</td>\n",
       "      <td>1.115873</td>\n",
       "      <td>0.569142</td>\n",
       "    </tr>\n",
       "    <tr>\n",
       "      <th>min</th>\n",
       "      <td>9.800000e+01</td>\n",
       "      <td>120.000000</td>\n",
       "      <td>1.000000</td>\n",
       "      <td>250.000000</td>\n",
       "      <td>0.000000</td>\n",
       "      <td>19.000000</td>\n",
       "      <td>0.000000</td>\n",
       "      <td>1.000000</td>\n",
       "      <td>0.000000</td>\n",
       "      <td>0.000000</td>\n",
       "      <td>0.000000</td>\n",
       "      <td>1.000000</td>\n",
       "      <td>1.000000</td>\n",
       "    </tr>\n",
       "    <tr>\n",
       "      <th>25%</th>\n",
       "      <td>3.418460e+05</td>\n",
       "      <td>390.000000</td>\n",
       "      <td>2.000000</td>\n",
       "      <td>1330.000000</td>\n",
       "      <td>0.000000</td>\n",
       "      <td>28.000000</td>\n",
       "      <td>2.000000</td>\n",
       "      <td>1.000000</td>\n",
       "      <td>0.000000</td>\n",
       "      <td>1.000000</td>\n",
       "      <td>1.000000</td>\n",
       "      <td>2.000000</td>\n",
       "      <td>1.000000</td>\n",
       "    </tr>\n",
       "    <tr>\n",
       "      <th>50%</th>\n",
       "      <td>6.670610e+05</td>\n",
       "      <td>651.000000</td>\n",
       "      <td>3.000000</td>\n",
       "      <td>3237.000000</td>\n",
       "      <td>1.000000</td>\n",
       "      <td>36.000000</td>\n",
       "      <td>3.000000</td>\n",
       "      <td>1.000000</td>\n",
       "      <td>0.000000</td>\n",
       "      <td>1.000000</td>\n",
       "      <td>4.000000</td>\n",
       "      <td>3.000000</td>\n",
       "      <td>1.000000</td>\n",
       "    </tr>\n",
       "    <tr>\n",
       "      <th>75%</th>\n",
       "      <td>9.778745e+05</td>\n",
       "      <td>899.000000</td>\n",
       "      <td>4.000000</td>\n",
       "      <td>5334.000000</td>\n",
       "      <td>1.000000</td>\n",
       "      <td>44.000000</td>\n",
       "      <td>3.000000</td>\n",
       "      <td>1.000000</td>\n",
       "      <td>1.000000</td>\n",
       "      <td>1.000000</td>\n",
       "      <td>7.000000</td>\n",
       "      <td>4.000000</td>\n",
       "      <td>2.000000</td>\n",
       "    </tr>\n",
       "    <tr>\n",
       "      <th>max</th>\n",
       "      <td>1.320082e+06</td>\n",
       "      <td>1984.000000</td>\n",
       "      <td>6.000000</td>\n",
       "      <td>11676.000000</td>\n",
       "      <td>1.000000</td>\n",
       "      <td>74.000000</td>\n",
       "      <td>3.000000</td>\n",
       "      <td>2.000000</td>\n",
       "      <td>1.000000</td>\n",
       "      <td>1.000000</td>\n",
       "      <td>18.000000</td>\n",
       "      <td>6.000000</td>\n",
       "      <td>3.000000</td>\n",
       "    </tr>\n",
       "  </tbody>\n",
       "</table>\n",
       "</div>"
      ],
      "text/plain": [
       "                 ID  PAYMENT_TERM  INSTALLMENT_PERCENT   LOAN_AMOUNT  \\\n",
       "count  3.999000e+03   3975.000000          3974.000000   3981.000000   \n",
       "mean   6.603562e+05    653.796981             2.981379   3479.168802   \n",
       "std    3.728332e+05    338.723239             1.121448   2489.961917   \n",
       "min    9.800000e+01    120.000000             1.000000    250.000000   \n",
       "25%    3.418460e+05    390.000000             2.000000   1330.000000   \n",
       "50%    6.670610e+05    651.000000             3.000000   3237.000000   \n",
       "75%    9.778745e+05    899.000000             4.000000   5334.000000   \n",
       "max    1.320082e+06   1984.000000             6.000000  11676.000000   \n",
       "\n",
       "             ALLOW          AGE     JOB_TYPE   DEPENDENTS    TELEPHONE  \\\n",
       "count  3999.000000  3918.000000  3910.000000  3915.000000  3915.000000   \n",
       "mean      0.664166    36.032925     2.429923     1.161175     0.412005   \n",
       "std       0.472340    10.617743     0.931842     0.367739     0.492259   \n",
       "min       0.000000    19.000000     0.000000     1.000000     0.000000   \n",
       "25%       0.000000    28.000000     2.000000     1.000000     0.000000   \n",
       "50%       1.000000    36.000000     3.000000     1.000000     0.000000   \n",
       "75%       1.000000    44.000000     3.000000     1.000000     1.000000   \n",
       "max       1.000000    74.000000     3.000000     2.000000     1.000000   \n",
       "\n",
       "       FOREIGN_WORKER  EMPLOYMENT_DURATION  CURRENT_RESIDENCE_DURATION  \\\n",
       "count     3909.000000          3923.000000                 3917.000000   \n",
       "mean         0.975697             4.238848                    2.865458   \n",
       "std          0.154008             3.595680                    1.115873   \n",
       "min          0.000000             0.000000                    1.000000   \n",
       "25%          1.000000             1.000000                    2.000000   \n",
       "50%          1.000000             4.000000                    3.000000   \n",
       "75%          1.000000             7.000000                    4.000000   \n",
       "max          1.000000            18.000000                    6.000000   \n",
       "\n",
       "       EXISTING_CREDITS_COUNT  \n",
       "count             2463.000000  \n",
       "mean                 1.469752  \n",
       "std                  0.569142  \n",
       "min                  1.000000  \n",
       "25%                  1.000000  \n",
       "50%                  1.000000  \n",
       "75%                  2.000000  \n",
       "max                  3.000000  "
      ]
     },
     "execution_count": 4,
     "metadata": {},
     "output_type": "execute_result"
    }
   ],
   "source": [
    "df.describe()"
   ]
  },
  {
   "cell_type": "code",
   "execution_count": 5,
   "metadata": {
    "scrolled": true
   },
   "outputs": [
    {
     "data": {
      "text/html": [
       "<div>\n",
       "<style scoped>\n",
       "    .dataframe tbody tr th:only-of-type {\n",
       "        vertical-align: middle;\n",
       "    }\n",
       "\n",
       "    .dataframe tbody tr th {\n",
       "        vertical-align: top;\n",
       "    }\n",
       "\n",
       "    .dataframe thead th {\n",
       "        text-align: right;\n",
       "    }\n",
       "</style>\n",
       "<table border=\"1\" class=\"dataframe\">\n",
       "  <thead>\n",
       "    <tr style=\"text-align: right;\">\n",
       "      <th></th>\n",
       "      <th>INSTALLMENT_PLANS</th>\n",
       "      <th>LOAN_PURPOSE</th>\n",
       "      <th>OTHERS_ON_LOAN</th>\n",
       "      <th>SEX</th>\n",
       "      <th>PROPERTY</th>\n",
       "      <th>HOUSING</th>\n",
       "      <th>CHECKING_BALANCE</th>\n",
       "      <th>CREDIT_HISTORY</th>\n",
       "      <th>EXISTING_SAVINGS</th>\n",
       "    </tr>\n",
       "  </thead>\n",
       "  <tbody>\n",
       "    <tr>\n",
       "      <th>count</th>\n",
       "      <td>3978</td>\n",
       "      <td>3979</td>\n",
       "      <td>3977</td>\n",
       "      <td>3920</td>\n",
       "      <td>3918</td>\n",
       "      <td>3912</td>\n",
       "      <td>2467</td>\n",
       "      <td>2462</td>\n",
       "      <td>2467</td>\n",
       "    </tr>\n",
       "    <tr>\n",
       "      <th>unique</th>\n",
       "      <td>3</td>\n",
       "      <td>11</td>\n",
       "      <td>3</td>\n",
       "      <td>2</td>\n",
       "      <td>4</td>\n",
       "      <td>3</td>\n",
       "      <td>1396</td>\n",
       "      <td>5</td>\n",
       "      <td>2238</td>\n",
       "    </tr>\n",
       "    <tr>\n",
       "      <th>top</th>\n",
       "      <td>NONE</td>\n",
       "      <td>CAR_NEW</td>\n",
       "      <td>NONE</td>\n",
       "      <td>M</td>\n",
       "      <td>SAVINGS_INSURANCE</td>\n",
       "      <td>OWN</td>\n",
       "      <td>NO_CHECKING</td>\n",
       "      <td>PRIOR_PAYMENTS_DELAYED</td>\n",
       "      <td>UNKNOWN</td>\n",
       "    </tr>\n",
       "    <tr>\n",
       "      <th>freq</th>\n",
       "      <td>2782</td>\n",
       "      <td>748</td>\n",
       "      <td>3306</td>\n",
       "      <td>2419</td>\n",
       "      <td>1302</td>\n",
       "      <td>2506</td>\n",
       "      <td>988</td>\n",
       "      <td>848</td>\n",
       "      <td>176</td>\n",
       "    </tr>\n",
       "  </tbody>\n",
       "</table>\n",
       "</div>"
      ],
      "text/plain": [
       "       INSTALLMENT_PLANS LOAN_PURPOSE OTHERS_ON_LOAN   SEX           PROPERTY  \\\n",
       "count               3978         3979           3977  3920               3918   \n",
       "unique                 3           11              3     2                  4   \n",
       "top                 NONE      CAR_NEW           NONE     M  SAVINGS_INSURANCE   \n",
       "freq                2782          748           3306  2419               1302   \n",
       "\n",
       "       HOUSING CHECKING_BALANCE          CREDIT_HISTORY EXISTING_SAVINGS  \n",
       "count     3912             2467                    2462             2467  \n",
       "unique       3             1396                       5             2238  \n",
       "top        OWN      NO_CHECKING  PRIOR_PAYMENTS_DELAYED          UNKNOWN  \n",
       "freq      2506              988                     848              176  "
      ]
     },
     "execution_count": 5,
     "metadata": {},
     "output_type": "execute_result"
    }
   ],
   "source": [
    "df.describe(include = 'O')"
   ]
  },
  {
   "cell_type": "markdown",
   "metadata": {},
   "source": [
    "#### 1.3.1 Valores faltantes"
   ]
  },
  {
   "cell_type": "code",
   "execution_count": 6,
   "metadata": {
    "scrolled": true
   },
   "outputs": [
    {
     "name": "stdout",
     "output_type": "stream",
     "text": [
      "Valores nulos antes da transformação: \n",
      "\n",
      "ID                               0\n",
      "PAYMENT_TERM                    24\n",
      "INSTALLMENT_PLANS               21\n",
      "INSTALLMENT_PERCENT             25\n",
      "LOAN_PURPOSE                    20\n",
      "LOAN_AMOUNT                     18\n",
      "OTHERS_ON_LOAN                  22\n",
      "ALLOW                            0\n",
      "SEX                             79\n",
      "AGE                             81\n",
      "JOB_TYPE                        89\n",
      "DEPENDENTS                      84\n",
      "TELEPHONE                       84\n",
      "FOREIGN_WORKER                  90\n",
      "EMPLOYMENT_DURATION             76\n",
      "PROPERTY                        81\n",
      "HOUSING                         87\n",
      "CURRENT_RESIDENCE_DURATION      82\n",
      "CHECKING_BALANCE              1532\n",
      "CREDIT_HISTORY                1537\n",
      "EXISTING_SAVINGS              1532\n",
      "EXISTING_CREDITS_COUNT        1536\n",
      "dtype: int64\n",
      "\n"
     ]
    }
   ],
   "source": [
    "print(\"Valores nulos antes da transformação: \\n\\n{}\\n\".format(df.isnull().sum(axis = 0)))"
   ]
  },
  {
   "cell_type": "code",
   "execution_count": 7,
   "metadata": {
    "scrolled": true
   },
   "outputs": [
    {
     "data": {
      "text/plain": [
       "NO_CHECKING    988\n",
       "0               71\n",
       "42.83            3\n",
       "97.41            3\n",
       "-139.48          2\n",
       "              ... \n",
       "86.69            1\n",
       "-258.67          1\n",
       "-176.43          1\n",
       "5227.39          1\n",
       "8243.55          1\n",
       "Name: CHECKING_BALANCE, Length: 1396, dtype: int64"
      ]
     },
     "execution_count": 7,
     "metadata": {},
     "output_type": "execute_result"
    }
   ],
   "source": [
    "df['CHECKING_BALANCE'].value_counts()"
   ]
  },
  {
   "cell_type": "code",
   "execution_count": 8,
   "metadata": {
    "scrolled": true
   },
   "outputs": [
    {
     "data": {
      "text/plain": [
       "PRIOR_PAYMENTS_DELAYED    848\n",
       "CREDITS_PAID_TO_DATE      725\n",
       "OUTSTANDING_CREDIT        453\n",
       "ALL_CREDITS_PAID_BACK     375\n",
       "NO_CREDITS                 61\n",
       "Name: CREDIT_HISTORY, dtype: int64"
      ]
     },
     "execution_count": 8,
     "metadata": {},
     "output_type": "execute_result"
    }
   ],
   "source": [
    "df['CREDIT_HISTORY'].value_counts()"
   ]
  },
  {
   "cell_type": "code",
   "execution_count": 9,
   "metadata": {
    "scrolled": false
   },
   "outputs": [
    {
     "data": {
      "text/plain": [
       "UNKNOWN    176\n",
       "28.92        3\n",
       "100.89       3\n",
       "16.4         2\n",
       "28.88        2\n",
       "          ... \n",
       "8.26         1\n",
       "400.64       1\n",
       "852.24       1\n",
       "558.92       1\n",
       "6.83         1\n",
       "Name: EXISTING_SAVINGS, Length: 2238, dtype: int64"
      ]
     },
     "execution_count": 9,
     "metadata": {},
     "output_type": "execute_result"
    }
   ],
   "source": [
    "df['EXISTING_SAVINGS'].value_counts()"
   ]
  },
  {
   "cell_type": "code",
   "execution_count": 10,
   "metadata": {},
   "outputs": [
    {
     "data": {
      "text/plain": [
       "1.0    1398\n",
       "2.0     973\n",
       "3.0      92\n",
       "Name: EXISTING_CREDITS_COUNT, dtype: int64"
      ]
     },
     "execution_count": 10,
     "metadata": {},
     "output_type": "execute_result"
    }
   ],
   "source": [
    "df['EXISTING_CREDITS_COUNT'].value_counts()"
   ]
  },
  {
   "cell_type": "code",
   "execution_count": 11,
   "metadata": {},
   "outputs": [],
   "source": [
    "# Trocando pelo valor mais frequente\n",
    "df = df.fillna(value = {'CHECKING_BALANCE': 'UNKNOWN', \n",
    "                                    'CREDIT_HISTORY': 'NO_CREDITS', \n",
    "                                    'EXISTING_SAVINGS': 'UNKNOWN',\n",
    "                                    'EXISTING_CREDITS_COUNT': 1.0})"
   ]
  },
  {
   "cell_type": "code",
   "execution_count": 12,
   "metadata": {
    "scrolled": true
   },
   "outputs": [
    {
     "name": "stdout",
     "output_type": "stream",
     "text": [
      "Valores nulos após a transformação: \n",
      "\n",
      "ID                             0\n",
      "PAYMENT_TERM                  24\n",
      "INSTALLMENT_PLANS             21\n",
      "INSTALLMENT_PERCENT           25\n",
      "LOAN_PURPOSE                  20\n",
      "LOAN_AMOUNT                   18\n",
      "OTHERS_ON_LOAN                22\n",
      "ALLOW                          0\n",
      "SEX                           79\n",
      "AGE                           81\n",
      "JOB_TYPE                      89\n",
      "DEPENDENTS                    84\n",
      "TELEPHONE                     84\n",
      "FOREIGN_WORKER                90\n",
      "EMPLOYMENT_DURATION           76\n",
      "PROPERTY                      81\n",
      "HOUSING                       87\n",
      "CURRENT_RESIDENCE_DURATION    82\n",
      "CHECKING_BALANCE               0\n",
      "CREDIT_HISTORY                 0\n",
      "EXISTING_SAVINGS               0\n",
      "EXISTING_CREDITS_COUNT         0\n",
      "dtype: int64\n",
      "\n"
     ]
    }
   ],
   "source": [
    "print(\"Valores nulos após a transformação: \\n\\n{}\\n\".format(df.isnull().sum(axis = 0)))"
   ]
  },
  {
   "cell_type": "markdown",
   "metadata": {},
   "source": [
    "#### 1.3.2 Verificação e tratamento do tipo das colunas"
   ]
  },
  {
   "cell_type": "code",
   "execution_count": 13,
   "metadata": {
    "scrolled": false
   },
   "outputs": [
    {
     "data": {
      "text/html": [
       "<div>\n",
       "<style scoped>\n",
       "    .dataframe tbody tr th:only-of-type {\n",
       "        vertical-align: middle;\n",
       "    }\n",
       "\n",
       "    .dataframe tbody tr th {\n",
       "        vertical-align: top;\n",
       "    }\n",
       "\n",
       "    .dataframe thead th {\n",
       "        text-align: right;\n",
       "    }\n",
       "</style>\n",
       "<table border=\"1\" class=\"dataframe\">\n",
       "  <thead>\n",
       "    <tr style=\"text-align: right;\">\n",
       "      <th></th>\n",
       "      <th>ID</th>\n",
       "      <th>PAYMENT_TERM</th>\n",
       "      <th>INSTALLMENT_PLANS</th>\n",
       "      <th>INSTALLMENT_PERCENT</th>\n",
       "      <th>LOAN_PURPOSE</th>\n",
       "      <th>LOAN_AMOUNT</th>\n",
       "      <th>OTHERS_ON_LOAN</th>\n",
       "      <th>ALLOW</th>\n",
       "      <th>SEX</th>\n",
       "      <th>AGE</th>\n",
       "      <th>...</th>\n",
       "      <th>TELEPHONE</th>\n",
       "      <th>FOREIGN_WORKER</th>\n",
       "      <th>EMPLOYMENT_DURATION</th>\n",
       "      <th>PROPERTY</th>\n",
       "      <th>HOUSING</th>\n",
       "      <th>CURRENT_RESIDENCE_DURATION</th>\n",
       "      <th>CHECKING_BALANCE</th>\n",
       "      <th>CREDIT_HISTORY</th>\n",
       "      <th>EXISTING_SAVINGS</th>\n",
       "      <th>EXISTING_CREDITS_COUNT</th>\n",
       "    </tr>\n",
       "  </thead>\n",
       "  <tbody>\n",
       "    <tr>\n",
       "      <th>3891</th>\n",
       "      <td>914380</td>\n",
       "      <td>120.0</td>\n",
       "      <td>NONE</td>\n",
       "      <td>2.0</td>\n",
       "      <td>RADIO_TV</td>\n",
       "      <td>2561.0</td>\n",
       "      <td>NONE</td>\n",
       "      <td>1</td>\n",
       "      <td>F</td>\n",
       "      <td>29.0</td>\n",
       "      <td>...</td>\n",
       "      <td>0.0</td>\n",
       "      <td>1.0</td>\n",
       "      <td>0.0</td>\n",
       "      <td>REAL_ESTATE</td>\n",
       "      <td>OWN</td>\n",
       "      <td>2.0</td>\n",
       "      <td>10.3</td>\n",
       "      <td>ALL_CREDITS_PAID_BACK</td>\n",
       "      <td>85.28</td>\n",
       "      <td>1.0</td>\n",
       "    </tr>\n",
       "  </tbody>\n",
       "</table>\n",
       "<p>1 rows × 22 columns</p>\n",
       "</div>"
      ],
      "text/plain": [
       "          ID  PAYMENT_TERM INSTALLMENT_PLANS  INSTALLMENT_PERCENT  \\\n",
       "3891  914380         120.0              NONE                  2.0   \n",
       "\n",
       "     LOAN_PURPOSE  LOAN_AMOUNT OTHERS_ON_LOAN  ALLOW SEX   AGE  ...  \\\n",
       "3891     RADIO_TV       2561.0           NONE      1   F  29.0  ...   \n",
       "\n",
       "      TELEPHONE  FOREIGN_WORKER  EMPLOYMENT_DURATION     PROPERTY  HOUSING  \\\n",
       "3891        0.0             1.0                  0.0  REAL_ESTATE      OWN   \n",
       "\n",
       "     CURRENT_RESIDENCE_DURATION CHECKING_BALANCE         CREDIT_HISTORY  \\\n",
       "3891                        2.0             10.3  ALL_CREDITS_PAID_BACK   \n",
       "\n",
       "     EXISTING_SAVINGS EXISTING_CREDITS_COUNT  \n",
       "3891            85.28                    1.0  \n",
       "\n",
       "[1 rows x 22 columns]"
      ]
     },
     "execution_count": 13,
     "metadata": {},
     "output_type": "execute_result"
    }
   ],
   "source": [
    "df.sample()"
   ]
  },
  {
   "cell_type": "code",
   "execution_count": 14,
   "metadata": {
    "scrolled": false
   },
   "outputs": [
    {
     "name": "stdout",
     "output_type": "stream",
     "text": [
      "<class 'pandas.core.frame.DataFrame'>\n",
      "Int64Index: 3999 entries, 0 to 3998\n",
      "Data columns (total 22 columns):\n",
      " #   Column                      Non-Null Count  Dtype  \n",
      "---  ------                      --------------  -----  \n",
      " 0   ID                          3999 non-null   int64  \n",
      " 1   PAYMENT_TERM                3975 non-null   float64\n",
      " 2   INSTALLMENT_PLANS           3978 non-null   object \n",
      " 3   INSTALLMENT_PERCENT         3974 non-null   float64\n",
      " 4   LOAN_PURPOSE                3979 non-null   object \n",
      " 5   LOAN_AMOUNT                 3981 non-null   float64\n",
      " 6   OTHERS_ON_LOAN              3977 non-null   object \n",
      " 7   ALLOW                       3999 non-null   int64  \n",
      " 8   SEX                         3920 non-null   object \n",
      " 9   AGE                         3918 non-null   float64\n",
      " 10  JOB_TYPE                    3910 non-null   float64\n",
      " 11  DEPENDENTS                  3915 non-null   float64\n",
      " 12  TELEPHONE                   3915 non-null   float64\n",
      " 13  FOREIGN_WORKER              3909 non-null   float64\n",
      " 14  EMPLOYMENT_DURATION         3923 non-null   float64\n",
      " 15  PROPERTY                    3918 non-null   object \n",
      " 16  HOUSING                     3912 non-null   object \n",
      " 17  CURRENT_RESIDENCE_DURATION  3917 non-null   float64\n",
      " 18  CHECKING_BALANCE            3999 non-null   object \n",
      " 19  CREDIT_HISTORY              3999 non-null   object \n",
      " 20  EXISTING_SAVINGS            3999 non-null   object \n",
      " 21  EXISTING_CREDITS_COUNT      3999 non-null   float64\n",
      "dtypes: float64(11), int64(2), object(9)\n",
      "memory usage: 718.6+ KB\n"
     ]
    }
   ],
   "source": [
    "df.info()"
   ]
  },
  {
   "cell_type": "markdown",
   "metadata": {},
   "source": [
    "Podemos observar que algumas colunas nós podemos realizar a alteração do tipo, como nas colunas a seguir:\n",
    "\n",
    "    CHECKING_BALANCE - de NO_CHECKING e UNKNOWN para 0\n",
    "    EXISTING_SAVINGS - De UNKNOWN para 0"
   ]
  },
  {
   "cell_type": "code",
   "execution_count": 15,
   "metadata": {},
   "outputs": [],
   "source": [
    "df.loc[df['CHECKING_BALANCE'] == \"UNKNOWN\", 'CHECKING_BALANCE'] = 'NO_CHECKING'"
   ]
  },
  {
   "cell_type": "code",
   "execution_count": 16,
   "metadata": {},
   "outputs": [],
   "source": [
    "df['CHECKING'] = df.loc[df['CHECKING_BALANCE'] == \"NO_CHECKING\", 'CHECKING_BALANCE']"
   ]
  },
  {
   "cell_type": "code",
   "execution_count": 17,
   "metadata": {
    "scrolled": true
   },
   "outputs": [
    {
     "data": {
      "text/plain": [
       "NO_CHECKING    2520\n",
       "Name: CHECKING, dtype: int64"
      ]
     },
     "execution_count": 17,
     "metadata": {},
     "output_type": "execute_result"
    }
   ],
   "source": [
    "df['CHECKING'].value_counts()"
   ]
  },
  {
   "cell_type": "code",
   "execution_count": 18,
   "metadata": {},
   "outputs": [],
   "source": [
    "df = df.fillna(value = {'CHECKING': 'CHECKING'})"
   ]
  },
  {
   "cell_type": "code",
   "execution_count": 19,
   "metadata": {},
   "outputs": [
    {
     "data": {
      "text/plain": [
       "NO_CHECKING    2520\n",
       "CHECKING       1479\n",
       "Name: CHECKING, dtype: int64"
      ]
     },
     "execution_count": 19,
     "metadata": {},
     "output_type": "execute_result"
    }
   ],
   "source": [
    "df['CHECKING'].value_counts()"
   ]
  },
  {
   "cell_type": "code",
   "execution_count": 20,
   "metadata": {},
   "outputs": [
    {
     "data": {
      "text/plain": [
       "UNKNOWN    1708\n",
       "28.92         3\n",
       "100.89        3\n",
       "16.4          2\n",
       "28.88         2\n",
       "           ... \n",
       "8.26          1\n",
       "400.64        1\n",
       "852.24        1\n",
       "558.92        1\n",
       "6.83          1\n",
       "Name: EXISTING_SAVINGS, Length: 2238, dtype: int64"
      ]
     },
     "execution_count": 20,
     "metadata": {},
     "output_type": "execute_result"
    }
   ],
   "source": [
    "df['EXISTING_SAVINGS'].value_counts()"
   ]
  },
  {
   "cell_type": "code",
   "execution_count": 21,
   "metadata": {},
   "outputs": [],
   "source": [
    "df.loc[df['CHECKING_BALANCE'] == \"NO_CHECKING\", 'CHECKING_BALANCE'] = 0\n",
    "df.loc[df['EXISTING_SAVINGS'] == \"UNKNOWN\", 'EXISTING_SAVINGS'] = 0"
   ]
  },
  {
   "cell_type": "code",
   "execution_count": 22,
   "metadata": {},
   "outputs": [],
   "source": [
    "df['CHECKING_BALANCE'] = df['CHECKING_BALANCE'].astype(float)\n",
    "df['EXISTING_SAVINGS'] = df['EXISTING_SAVINGS'].astype(float)"
   ]
  },
  {
   "cell_type": "markdown",
   "metadata": {},
   "source": [
    "#### 1.3.3 Verificação de dados inconsistentes"
   ]
  },
  {
   "cell_type": "code",
   "execution_count": 23,
   "metadata": {},
   "outputs": [
    {
     "data": {
      "text/html": [
       "<div>\n",
       "<style scoped>\n",
       "    .dataframe tbody tr th:only-of-type {\n",
       "        vertical-align: middle;\n",
       "    }\n",
       "\n",
       "    .dataframe tbody tr th {\n",
       "        vertical-align: top;\n",
       "    }\n",
       "\n",
       "    .dataframe thead th {\n",
       "        text-align: right;\n",
       "    }\n",
       "</style>\n",
       "<table border=\"1\" class=\"dataframe\">\n",
       "  <thead>\n",
       "    <tr style=\"text-align: right;\">\n",
       "      <th></th>\n",
       "      <th>ID</th>\n",
       "      <th>PAYMENT_TERM</th>\n",
       "      <th>INSTALLMENT_PERCENT</th>\n",
       "      <th>LOAN_AMOUNT</th>\n",
       "      <th>ALLOW</th>\n",
       "      <th>AGE</th>\n",
       "      <th>JOB_TYPE</th>\n",
       "      <th>DEPENDENTS</th>\n",
       "      <th>TELEPHONE</th>\n",
       "      <th>FOREIGN_WORKER</th>\n",
       "      <th>EMPLOYMENT_DURATION</th>\n",
       "      <th>CURRENT_RESIDENCE_DURATION</th>\n",
       "      <th>CHECKING_BALANCE</th>\n",
       "      <th>EXISTING_SAVINGS</th>\n",
       "      <th>EXISTING_CREDITS_COUNT</th>\n",
       "    </tr>\n",
       "  </thead>\n",
       "  <tbody>\n",
       "    <tr>\n",
       "      <th>count</th>\n",
       "      <td>3.999000e+03</td>\n",
       "      <td>3975.000000</td>\n",
       "      <td>3974.000000</td>\n",
       "      <td>3981.000000</td>\n",
       "      <td>3999.000000</td>\n",
       "      <td>3918.000000</td>\n",
       "      <td>3910.000000</td>\n",
       "      <td>3915.000000</td>\n",
       "      <td>3915.000000</td>\n",
       "      <td>3909.000000</td>\n",
       "      <td>3923.000000</td>\n",
       "      <td>3917.000000</td>\n",
       "      <td>3999.000000</td>\n",
       "      <td>3999.000000</td>\n",
       "      <td>3999.000000</td>\n",
       "    </tr>\n",
       "    <tr>\n",
       "      <th>mean</th>\n",
       "      <td>6.603562e+05</td>\n",
       "      <td>653.796981</td>\n",
       "      <td>2.981379</td>\n",
       "      <td>3479.168802</td>\n",
       "      <td>0.664166</td>\n",
       "      <td>36.032925</td>\n",
       "      <td>2.429923</td>\n",
       "      <td>1.161175</td>\n",
       "      <td>0.412005</td>\n",
       "      <td>0.975697</td>\n",
       "      <td>4.238848</td>\n",
       "      <td>2.865458</td>\n",
       "      <td>191.636574</td>\n",
       "      <td>782.220998</td>\n",
       "      <td>1.289322</td>\n",
       "    </tr>\n",
       "    <tr>\n",
       "      <th>std</th>\n",
       "      <td>3.728332e+05</td>\n",
       "      <td>338.723239</td>\n",
       "      <td>1.121448</td>\n",
       "      <td>2489.961917</td>\n",
       "      <td>0.472340</td>\n",
       "      <td>10.617743</td>\n",
       "      <td>0.931842</td>\n",
       "      <td>0.367739</td>\n",
       "      <td>0.492259</td>\n",
       "      <td>0.154008</td>\n",
       "      <td>3.595680</td>\n",
       "      <td>1.115873</td>\n",
       "      <td>1714.194189</td>\n",
       "      <td>3668.728044</td>\n",
       "      <td>0.501687</td>\n",
       "    </tr>\n",
       "    <tr>\n",
       "      <th>min</th>\n",
       "      <td>9.800000e+01</td>\n",
       "      <td>120.000000</td>\n",
       "      <td>1.000000</td>\n",
       "      <td>250.000000</td>\n",
       "      <td>0.000000</td>\n",
       "      <td>19.000000</td>\n",
       "      <td>0.000000</td>\n",
       "      <td>1.000000</td>\n",
       "      <td>0.000000</td>\n",
       "      <td>0.000000</td>\n",
       "      <td>0.000000</td>\n",
       "      <td>1.000000</td>\n",
       "      <td>-2797.250000</td>\n",
       "      <td>0.000000</td>\n",
       "      <td>1.000000</td>\n",
       "    </tr>\n",
       "    <tr>\n",
       "      <th>25%</th>\n",
       "      <td>3.418460e+05</td>\n",
       "      <td>390.000000</td>\n",
       "      <td>2.000000</td>\n",
       "      <td>1330.000000</td>\n",
       "      <td>0.000000</td>\n",
       "      <td>28.000000</td>\n",
       "      <td>2.000000</td>\n",
       "      <td>1.000000</td>\n",
       "      <td>0.000000</td>\n",
       "      <td>1.000000</td>\n",
       "      <td>1.000000</td>\n",
       "      <td>2.000000</td>\n",
       "      <td>0.000000</td>\n",
       "      <td>0.000000</td>\n",
       "      <td>1.000000</td>\n",
       "    </tr>\n",
       "    <tr>\n",
       "      <th>50%</th>\n",
       "      <td>6.670610e+05</td>\n",
       "      <td>651.000000</td>\n",
       "      <td>3.000000</td>\n",
       "      <td>3237.000000</td>\n",
       "      <td>1.000000</td>\n",
       "      <td>36.000000</td>\n",
       "      <td>3.000000</td>\n",
       "      <td>1.000000</td>\n",
       "      <td>0.000000</td>\n",
       "      <td>1.000000</td>\n",
       "      <td>4.000000</td>\n",
       "      <td>3.000000</td>\n",
       "      <td>0.000000</td>\n",
       "      <td>33.560000</td>\n",
       "      <td>1.000000</td>\n",
       "    </tr>\n",
       "    <tr>\n",
       "      <th>75%</th>\n",
       "      <td>9.778745e+05</td>\n",
       "      <td>899.000000</td>\n",
       "      <td>4.000000</td>\n",
       "      <td>5334.000000</td>\n",
       "      <td>1.000000</td>\n",
       "      <td>44.000000</td>\n",
       "      <td>3.000000</td>\n",
       "      <td>1.000000</td>\n",
       "      <td>1.000000</td>\n",
       "      <td>1.000000</td>\n",
       "      <td>7.000000</td>\n",
       "      <td>4.000000</td>\n",
       "      <td>0.000000</td>\n",
       "      <td>377.005000</td>\n",
       "      <td>2.000000</td>\n",
       "    </tr>\n",
       "    <tr>\n",
       "      <th>max</th>\n",
       "      <td>1.320082e+06</td>\n",
       "      <td>1984.000000</td>\n",
       "      <td>6.000000</td>\n",
       "      <td>11676.000000</td>\n",
       "      <td>1.000000</td>\n",
       "      <td>74.000000</td>\n",
       "      <td>3.000000</td>\n",
       "      <td>2.000000</td>\n",
       "      <td>1.000000</td>\n",
       "      <td>1.000000</td>\n",
       "      <td>18.000000</td>\n",
       "      <td>6.000000</td>\n",
       "      <td>28041.160000</td>\n",
       "      <td>50177.310000</td>\n",
       "      <td>3.000000</td>\n",
       "    </tr>\n",
       "  </tbody>\n",
       "</table>\n",
       "</div>"
      ],
      "text/plain": [
       "                 ID  PAYMENT_TERM  INSTALLMENT_PERCENT   LOAN_AMOUNT  \\\n",
       "count  3.999000e+03   3975.000000          3974.000000   3981.000000   \n",
       "mean   6.603562e+05    653.796981             2.981379   3479.168802   \n",
       "std    3.728332e+05    338.723239             1.121448   2489.961917   \n",
       "min    9.800000e+01    120.000000             1.000000    250.000000   \n",
       "25%    3.418460e+05    390.000000             2.000000   1330.000000   \n",
       "50%    6.670610e+05    651.000000             3.000000   3237.000000   \n",
       "75%    9.778745e+05    899.000000             4.000000   5334.000000   \n",
       "max    1.320082e+06   1984.000000             6.000000  11676.000000   \n",
       "\n",
       "             ALLOW          AGE     JOB_TYPE   DEPENDENTS    TELEPHONE  \\\n",
       "count  3999.000000  3918.000000  3910.000000  3915.000000  3915.000000   \n",
       "mean      0.664166    36.032925     2.429923     1.161175     0.412005   \n",
       "std       0.472340    10.617743     0.931842     0.367739     0.492259   \n",
       "min       0.000000    19.000000     0.000000     1.000000     0.000000   \n",
       "25%       0.000000    28.000000     2.000000     1.000000     0.000000   \n",
       "50%       1.000000    36.000000     3.000000     1.000000     0.000000   \n",
       "75%       1.000000    44.000000     3.000000     1.000000     1.000000   \n",
       "max       1.000000    74.000000     3.000000     2.000000     1.000000   \n",
       "\n",
       "       FOREIGN_WORKER  EMPLOYMENT_DURATION  CURRENT_RESIDENCE_DURATION  \\\n",
       "count     3909.000000          3923.000000                 3917.000000   \n",
       "mean         0.975697             4.238848                    2.865458   \n",
       "std          0.154008             3.595680                    1.115873   \n",
       "min          0.000000             0.000000                    1.000000   \n",
       "25%          1.000000             1.000000                    2.000000   \n",
       "50%          1.000000             4.000000                    3.000000   \n",
       "75%          1.000000             7.000000                    4.000000   \n",
       "max          1.000000            18.000000                    6.000000   \n",
       "\n",
       "       CHECKING_BALANCE  EXISTING_SAVINGS  EXISTING_CREDITS_COUNT  \n",
       "count       3999.000000       3999.000000             3999.000000  \n",
       "mean         191.636574        782.220998                1.289322  \n",
       "std         1714.194189       3668.728044                0.501687  \n",
       "min        -2797.250000          0.000000                1.000000  \n",
       "25%            0.000000          0.000000                1.000000  \n",
       "50%            0.000000         33.560000                1.000000  \n",
       "75%            0.000000        377.005000                2.000000  \n",
       "max        28041.160000      50177.310000                3.000000  "
      ]
     },
     "execution_count": 23,
     "metadata": {},
     "output_type": "execute_result"
    }
   ],
   "source": [
    "df.describe()"
   ]
  },
  {
   "cell_type": "markdown",
   "metadata": {},
   "source": [
    "Dados que são considerados como outliers:\n",
    "\n",
    "- ``CHECKING_BALANCE`` possui um valor máximo de 28041.1\n",
    "- ``EXISTING_SAVINGS`` possui um valor máximo de 50177.3\t"
   ]
  },
  {
   "cell_type": "markdown",
   "metadata": {},
   "source": [
    "Filtros realizados:\n",
    "\n",
    "    -2795 até 0     - <=0\n",
    "    -do 0 até o fim - >0\n",
    "\n",
    "accounts_test = accounts_test[accounts_test.CHECKING_BALANCE > 0]\n",
    "accounts_test['CHECKING_BALANCE'] = pd.cut(accounts_test['CHECKING_BALANCE'], \n",
    "                    bins = [-2795, 0, 1000, sys.maxsize], \n",
    "                    labels = ['<=0', '>0', 'Altos valores'])\n",
    "\n",
    "accounts_test['CHECKING_BALANCE'] = accounts_test['CHECKING_BALANCE'].astype(object)"
   ]
  },
  {
   "cell_type": "code",
   "execution_count": 24,
   "metadata": {
    "scrolled": false
   },
   "outputs": [
    {
     "data": {
      "text/html": [
       "<div>\n",
       "<style scoped>\n",
       "    .dataframe tbody tr th:only-of-type {\n",
       "        vertical-align: middle;\n",
       "    }\n",
       "\n",
       "    .dataframe tbody tr th {\n",
       "        vertical-align: top;\n",
       "    }\n",
       "\n",
       "    .dataframe thead th {\n",
       "        text-align: right;\n",
       "    }\n",
       "</style>\n",
       "<table border=\"1\" class=\"dataframe\">\n",
       "  <thead>\n",
       "    <tr style=\"text-align: right;\">\n",
       "      <th></th>\n",
       "      <th>CHECKING_BALANCE</th>\n",
       "    </tr>\n",
       "    <tr>\n",
       "      <th>CHECKING_BALANCE</th>\n",
       "      <th></th>\n",
       "    </tr>\n",
       "  </thead>\n",
       "  <tbody>\n",
       "    <tr>\n",
       "      <th>-2797.25</th>\n",
       "      <td>1</td>\n",
       "    </tr>\n",
       "    <tr>\n",
       "      <th>-2617.35</th>\n",
       "      <td>1</td>\n",
       "    </tr>\n",
       "    <tr>\n",
       "      <th>-2582.29</th>\n",
       "      <td>1</td>\n",
       "    </tr>\n",
       "    <tr>\n",
       "      <th>-2531.05</th>\n",
       "      <td>1</td>\n",
       "    </tr>\n",
       "    <tr>\n",
       "      <th>-2347.87</th>\n",
       "      <td>1</td>\n",
       "    </tr>\n",
       "    <tr>\n",
       "      <th>...</th>\n",
       "      <td>...</td>\n",
       "    </tr>\n",
       "    <tr>\n",
       "      <th>17391.41</th>\n",
       "      <td>1</td>\n",
       "    </tr>\n",
       "    <tr>\n",
       "      <th>17525.50</th>\n",
       "      <td>1</td>\n",
       "    </tr>\n",
       "    <tr>\n",
       "      <th>18814.19</th>\n",
       "      <td>1</td>\n",
       "    </tr>\n",
       "    <tr>\n",
       "      <th>20104.12</th>\n",
       "      <td>1</td>\n",
       "    </tr>\n",
       "    <tr>\n",
       "      <th>28041.16</th>\n",
       "      <td>1</td>\n",
       "    </tr>\n",
       "  </tbody>\n",
       "</table>\n",
       "<p>1395 rows × 1 columns</p>\n",
       "</div>"
      ],
      "text/plain": [
       "                  CHECKING_BALANCE\n",
       "CHECKING_BALANCE                  \n",
       "-2797.25                         1\n",
       "-2617.35                         1\n",
       "-2582.29                         1\n",
       "-2531.05                         1\n",
       "-2347.87                         1\n",
       "...                            ...\n",
       " 17391.41                        1\n",
       " 17525.50                        1\n",
       " 18814.19                        1\n",
       " 20104.12                        1\n",
       " 28041.16                        1\n",
       "\n",
       "[1395 rows x 1 columns]"
      ]
     },
     "execution_count": 24,
     "metadata": {},
     "output_type": "execute_result"
    }
   ],
   "source": [
    "df.groupby('CHECKING_BALANCE').agg({'CHECKING_BALANCE': 'count'})"
   ]
  },
  {
   "cell_type": "code",
   "execution_count": 25,
   "metadata": {},
   "outputs": [
    {
     "data": {
      "text/plain": [
       "count     3999.000000\n",
       "mean       191.636574\n",
       "std       1714.194189\n",
       "min      -2797.250000\n",
       "25%          0.000000\n",
       "50%          0.000000\n",
       "75%          0.000000\n",
       "max      28041.160000\n",
       "Name: CHECKING_BALANCE, dtype: float64"
      ]
     },
     "metadata": {},
     "output_type": "display_data"
    },
    {
     "data": {
      "text/plain": [
       "<matplotlib.axes._subplots.AxesSubplot at 0x3ef2760088>"
      ]
     },
     "execution_count": 25,
     "metadata": {},
     "output_type": "execute_result"
    },
    {
     "data": {
      "image/png": "[encoded data removed]",
      "text/plain": [
       "<Figure size 432x288 with 1 Axes>"
      ]
     },
     "metadata": {
      "needs_background": "light"
     },
     "output_type": "display_data"
    }
   ],
   "source": [
    "display(df['CHECKING_BALANCE'].describe())\n",
    "\n",
    "sns.boxplot(x=df[\"CHECKING_BALANCE\"])"
   ]
  },
  {
   "cell_type": "code",
   "execution_count": 26,
   "metadata": {
    "scrolled": false
   },
   "outputs": [
    {
     "data": {
      "text/plain": [
       "count     3989.000000\n",
       "mean       146.185688\n",
       "std       1445.156506\n",
       "min      -2797.250000\n",
       "25%          0.000000\n",
       "50%          0.000000\n",
       "75%          0.000000\n",
       "max      14928.780000\n",
       "Name: CHECKING_BALANCE, dtype: float64"
      ]
     },
     "metadata": {},
     "output_type": "display_data"
    },
    {
     "data": {
      "text/plain": [
       "<matplotlib.axes._subplots.AxesSubplot at 0x3ef4753708>"
      ]
     },
     "execution_count": 26,
     "metadata": {},
     "output_type": "execute_result"
    },
    {
     "data": {
      "image/png": "[encoded data removed]",
      "text/plain": [
       "<Figure size 432x288 with 1 Axes>"
      ]
     },
     "metadata": {
      "needs_background": "light"
     },
     "output_type": "display_data"
    }
   ],
   "source": [
    "df = df[df.CHECKING_BALANCE <= 15000]\n",
    "\n",
    "display(df['CHECKING_BALANCE'].describe())\n",
    "\n",
    "sns.boxplot(x=df[\"CHECKING_BALANCE\"])"
   ]
  },
  {
   "cell_type": "code",
   "execution_count": 27,
   "metadata": {},
   "outputs": [
    {
     "data": {
      "text/html": [
       "<div>\n",
       "<style scoped>\n",
       "    .dataframe tbody tr th:only-of-type {\n",
       "        vertical-align: middle;\n",
       "    }\n",
       "\n",
       "    .dataframe tbody tr th {\n",
       "        vertical-align: top;\n",
       "    }\n",
       "\n",
       "    .dataframe thead th {\n",
       "        text-align: right;\n",
       "    }\n",
       "</style>\n",
       "<table border=\"1\" class=\"dataframe\">\n",
       "  <thead>\n",
       "    <tr style=\"text-align: right;\">\n",
       "      <th></th>\n",
       "      <th>CHECKING_BALANCE_DP</th>\n",
       "    </tr>\n",
       "    <tr>\n",
       "      <th>CHECKING_BALANCE_DP</th>\n",
       "      <th></th>\n",
       "    </tr>\n",
       "  </thead>\n",
       "  <tbody>\n",
       "    <tr>\n",
       "      <th>Negativo</th>\n",
       "      <td>683</td>\n",
       "    </tr>\n",
       "    <tr>\n",
       "      <th>Positivo</th>\n",
       "      <td>713</td>\n",
       "    </tr>\n",
       "    <tr>\n",
       "      <th>Zerado</th>\n",
       "      <td>2593</td>\n",
       "    </tr>\n",
       "  </tbody>\n",
       "</table>\n",
       "</div>"
      ],
      "text/plain": [
       "                     CHECKING_BALANCE_DP\n",
       "CHECKING_BALANCE_DP                     \n",
       "Negativo                             683\n",
       "Positivo                             713\n",
       "Zerado                              2593"
      ]
     },
     "execution_count": 27,
     "metadata": {},
     "output_type": "execute_result"
    }
   ],
   "source": [
    "df['CHECKING_BALANCE_DP'] = pd.cut(df['CHECKING_BALANCE'], \n",
    "                    bins = [-sys.maxsize -1, -1, 0, sys.maxsize], \n",
    "                    labels = ['Negativo', 'Zerado', 'Positivo'])\n",
    "\n",
    "df['CHECKING_BALANCE_DP'] = df['CHECKING_BALANCE_DP'].astype(object)\n",
    "\n",
    "# agrupando por número de acomodações\n",
    "df.groupby('CHECKING_BALANCE_DP').agg({'CHECKING_BALANCE_DP': 'count'})"
   ]
  },
  {
   "cell_type": "code",
   "execution_count": 28,
   "metadata": {
    "scrolled": false
   },
   "outputs": [
    {
     "data": {
      "text/plain": [
       "count     3989.000000\n",
       "mean       781.360637\n",
       "std       3672.026085\n",
       "min          0.000000\n",
       "25%          0.000000\n",
       "50%         33.520000\n",
       "75%        376.400000\n",
       "max      50177.310000\n",
       "Name: EXISTING_SAVINGS, dtype: float64"
      ]
     },
     "metadata": {},
     "output_type": "display_data"
    },
    {
     "data": {
      "text/plain": [
       "<matplotlib.axes._subplots.AxesSubplot at 0x3ef4c13488>"
      ]
     },
     "execution_count": 28,
     "metadata": {},
     "output_type": "execute_result"
    },
    {
     "data": {
      "image/png": "[encoded data removed]",
      "text/plain": [
       "<Figure size 432x288 with 1 Axes>"
      ]
     },
     "metadata": {
      "needs_background": "light"
     },
     "output_type": "display_data"
    }
   ],
   "source": [
    "display(df['EXISTING_SAVINGS'].describe())\n",
    "\n",
    "sns.boxplot(x=df[\"EXISTING_SAVINGS\"])"
   ]
  },
  {
   "cell_type": "code",
   "execution_count": 29,
   "metadata": {},
   "outputs": [
    {
     "data": {
      "text/plain": [
       "count     3971.000000\n",
       "mean       612.445749\n",
       "std       2654.301650\n",
       "min          0.000000\n",
       "25%          0.000000\n",
       "50%         32.720000\n",
       "75%        364.845000\n",
       "max      29203.900000\n",
       "Name: EXISTING_SAVINGS, dtype: float64"
      ]
     },
     "metadata": {},
     "output_type": "display_data"
    },
    {
     "data": {
      "text/plain": [
       "<matplotlib.axes._subplots.AxesSubplot at 0x3ef4c73e88>"
      ]
     },
     "execution_count": 29,
     "metadata": {},
     "output_type": "execute_result"
    },
    {
     "data": {
      "image/png": "[encoded data removed]",
      "text/plain": [
       "<Figure size 432x288 with 1 Axes>"
      ]
     },
     "metadata": {
      "needs_background": "light"
     },
     "output_type": "display_data"
    }
   ],
   "source": [
    "df = df[df.EXISTING_SAVINGS <= 30000]\n",
    "\n",
    "display(df['EXISTING_SAVINGS'].describe())\n",
    "\n",
    "sns.boxplot(x=df[\"EXISTING_SAVINGS\"])"
   ]
  },
  {
   "cell_type": "markdown",
   "metadata": {},
   "source": [
    "### 1.4 Dataset DEMOGRAPHICS"
   ]
  },
  {
   "cell_type": "code",
   "execution_count": 30,
   "metadata": {
    "scrolled": true
   },
   "outputs": [
    {
     "data": {
      "text/html": [
       "<div>\n",
       "<style scoped>\n",
       "    .dataframe tbody tr th:only-of-type {\n",
       "        vertical-align: middle;\n",
       "    }\n",
       "\n",
       "    .dataframe tbody tr th {\n",
       "        vertical-align: top;\n",
       "    }\n",
       "\n",
       "    .dataframe thead th {\n",
       "        text-align: right;\n",
       "    }\n",
       "</style>\n",
       "<table border=\"1\" class=\"dataframe\">\n",
       "  <thead>\n",
       "    <tr style=\"text-align: right;\">\n",
       "      <th></th>\n",
       "      <th>ID</th>\n",
       "      <th>PAYMENT_TERM</th>\n",
       "      <th>INSTALLMENT_PERCENT</th>\n",
       "      <th>LOAN_AMOUNT</th>\n",
       "      <th>ALLOW</th>\n",
       "      <th>AGE</th>\n",
       "      <th>JOB_TYPE</th>\n",
       "      <th>DEPENDENTS</th>\n",
       "      <th>TELEPHONE</th>\n",
       "      <th>FOREIGN_WORKER</th>\n",
       "      <th>EMPLOYMENT_DURATION</th>\n",
       "      <th>CURRENT_RESIDENCE_DURATION</th>\n",
       "      <th>CHECKING_BALANCE</th>\n",
       "      <th>EXISTING_SAVINGS</th>\n",
       "      <th>EXISTING_CREDITS_COUNT</th>\n",
       "    </tr>\n",
       "  </thead>\n",
       "  <tbody>\n",
       "    <tr>\n",
       "      <th>count</th>\n",
       "      <td>3.971000e+03</td>\n",
       "      <td>3947.000000</td>\n",
       "      <td>3946.000000</td>\n",
       "      <td>3953.000000</td>\n",
       "      <td>3971.000000</td>\n",
       "      <td>3890.000000</td>\n",
       "      <td>3882.000000</td>\n",
       "      <td>3887.000000</td>\n",
       "      <td>3887.000000</td>\n",
       "      <td>3881.000000</td>\n",
       "      <td>3895.000000</td>\n",
       "      <td>3889.000000</td>\n",
       "      <td>3971.000000</td>\n",
       "      <td>3971.000000</td>\n",
       "      <td>3971.000000</td>\n",
       "    </tr>\n",
       "    <tr>\n",
       "      <th>mean</th>\n",
       "      <td>6.602624e+05</td>\n",
       "      <td>652.303015</td>\n",
       "      <td>2.978966</td>\n",
       "      <td>3472.713129</td>\n",
       "      <td>0.665827</td>\n",
       "      <td>35.994859</td>\n",
       "      <td>2.429418</td>\n",
       "      <td>1.160792</td>\n",
       "      <td>0.410342</td>\n",
       "      <td>0.975779</td>\n",
       "      <td>4.226187</td>\n",
       "      <td>2.862947</td>\n",
       "      <td>143.100859</td>\n",
       "      <td>612.445749</td>\n",
       "      <td>1.287081</td>\n",
       "    </tr>\n",
       "    <tr>\n",
       "      <th>std</th>\n",
       "      <td>3.727368e+05</td>\n",
       "      <td>337.994364</td>\n",
       "      <td>1.122108</td>\n",
       "      <td>2489.348994</td>\n",
       "      <td>0.471760</td>\n",
       "      <td>10.633494</td>\n",
       "      <td>0.931451</td>\n",
       "      <td>0.367387</td>\n",
       "      <td>0.491959</td>\n",
       "      <td>0.153753</td>\n",
       "      <td>3.594771</td>\n",
       "      <td>1.116417</td>\n",
       "      <td>1438.437579</td>\n",
       "      <td>2654.301650</td>\n",
       "      <td>0.500561</td>\n",
       "    </tr>\n",
       "    <tr>\n",
       "      <th>min</th>\n",
       "      <td>9.800000e+01</td>\n",
       "      <td>120.000000</td>\n",
       "      <td>1.000000</td>\n",
       "      <td>250.000000</td>\n",
       "      <td>0.000000</td>\n",
       "      <td>19.000000</td>\n",
       "      <td>0.000000</td>\n",
       "      <td>1.000000</td>\n",
       "      <td>0.000000</td>\n",
       "      <td>0.000000</td>\n",
       "      <td>0.000000</td>\n",
       "      <td>1.000000</td>\n",
       "      <td>-2797.250000</td>\n",
       "      <td>0.000000</td>\n",
       "      <td>1.000000</td>\n",
       "    </tr>\n",
       "    <tr>\n",
       "      <th>25%</th>\n",
       "      <td>3.418460e+05</td>\n",
       "      <td>390.000000</td>\n",
       "      <td>2.000000</td>\n",
       "      <td>1328.000000</td>\n",
       "      <td>0.000000</td>\n",
       "      <td>28.000000</td>\n",
       "      <td>2.000000</td>\n",
       "      <td>1.000000</td>\n",
       "      <td>0.000000</td>\n",
       "      <td>1.000000</td>\n",
       "      <td>1.000000</td>\n",
       "      <td>2.000000</td>\n",
       "      <td>0.000000</td>\n",
       "      <td>0.000000</td>\n",
       "      <td>1.000000</td>\n",
       "    </tr>\n",
       "    <tr>\n",
       "      <th>50%</th>\n",
       "      <td>6.672140e+05</td>\n",
       "      <td>651.000000</td>\n",
       "      <td>3.000000</td>\n",
       "      <td>3229.000000</td>\n",
       "      <td>1.000000</td>\n",
       "      <td>36.000000</td>\n",
       "      <td>3.000000</td>\n",
       "      <td>1.000000</td>\n",
       "      <td>0.000000</td>\n",
       "      <td>1.000000</td>\n",
       "      <td>4.000000</td>\n",
       "      <td>3.000000</td>\n",
       "      <td>0.000000</td>\n",
       "      <td>32.720000</td>\n",
       "      <td>1.000000</td>\n",
       "    </tr>\n",
       "    <tr>\n",
       "      <th>75%</th>\n",
       "      <td>9.766990e+05</td>\n",
       "      <td>899.000000</td>\n",
       "      <td>4.000000</td>\n",
       "      <td>5317.000000</td>\n",
       "      <td>1.000000</td>\n",
       "      <td>44.000000</td>\n",
       "      <td>3.000000</td>\n",
       "      <td>1.000000</td>\n",
       "      <td>1.000000</td>\n",
       "      <td>1.000000</td>\n",
       "      <td>7.000000</td>\n",
       "      <td>4.000000</td>\n",
       "      <td>0.000000</td>\n",
       "      <td>364.845000</td>\n",
       "      <td>2.000000</td>\n",
       "    </tr>\n",
       "    <tr>\n",
       "      <th>max</th>\n",
       "      <td>1.320082e+06</td>\n",
       "      <td>1984.000000</td>\n",
       "      <td>6.000000</td>\n",
       "      <td>11676.000000</td>\n",
       "      <td>1.000000</td>\n",
       "      <td>74.000000</td>\n",
       "      <td>3.000000</td>\n",
       "      <td>2.000000</td>\n",
       "      <td>1.000000</td>\n",
       "      <td>1.000000</td>\n",
       "      <td>18.000000</td>\n",
       "      <td>6.000000</td>\n",
       "      <td>14928.780000</td>\n",
       "      <td>29203.900000</td>\n",
       "      <td>3.000000</td>\n",
       "    </tr>\n",
       "  </tbody>\n",
       "</table>\n",
       "</div>"
      ],
      "text/plain": [
       "                 ID  PAYMENT_TERM  INSTALLMENT_PERCENT   LOAN_AMOUNT  \\\n",
       "count  3.971000e+03   3947.000000          3946.000000   3953.000000   \n",
       "mean   6.602624e+05    652.303015             2.978966   3472.713129   \n",
       "std    3.727368e+05    337.994364             1.122108   2489.348994   \n",
       "min    9.800000e+01    120.000000             1.000000    250.000000   \n",
       "25%    3.418460e+05    390.000000             2.000000   1328.000000   \n",
       "50%    6.672140e+05    651.000000             3.000000   3229.000000   \n",
       "75%    9.766990e+05    899.000000             4.000000   5317.000000   \n",
       "max    1.320082e+06   1984.000000             6.000000  11676.000000   \n",
       "\n",
       "             ALLOW          AGE     JOB_TYPE   DEPENDENTS    TELEPHONE  \\\n",
       "count  3971.000000  3890.000000  3882.000000  3887.000000  3887.000000   \n",
       "mean      0.665827    35.994859     2.429418     1.160792     0.410342   \n",
       "std       0.471760    10.633494     0.931451     0.367387     0.491959   \n",
       "min       0.000000    19.000000     0.000000     1.000000     0.000000   \n",
       "25%       0.000000    28.000000     2.000000     1.000000     0.000000   \n",
       "50%       1.000000    36.000000     3.000000     1.000000     0.000000   \n",
       "75%       1.000000    44.000000     3.000000     1.000000     1.000000   \n",
       "max       1.000000    74.000000     3.000000     2.000000     1.000000   \n",
       "\n",
       "       FOREIGN_WORKER  EMPLOYMENT_DURATION  CURRENT_RESIDENCE_DURATION  \\\n",
       "count     3881.000000          3895.000000                 3889.000000   \n",
       "mean         0.975779             4.226187                    2.862947   \n",
       "std          0.153753             3.594771                    1.116417   \n",
       "min          0.000000             0.000000                    1.000000   \n",
       "25%          1.000000             1.000000                    2.000000   \n",
       "50%          1.000000             4.000000                    3.000000   \n",
       "75%          1.000000             7.000000                    4.000000   \n",
       "max          1.000000            18.000000                    6.000000   \n",
       "\n",
       "       CHECKING_BALANCE  EXISTING_SAVINGS  EXISTING_CREDITS_COUNT  \n",
       "count       3971.000000       3971.000000             3971.000000  \n",
       "mean         143.100859        612.445749                1.287081  \n",
       "std         1438.437579       2654.301650                0.500561  \n",
       "min        -2797.250000          0.000000                1.000000  \n",
       "25%            0.000000          0.000000                1.000000  \n",
       "50%            0.000000         32.720000                1.000000  \n",
       "75%            0.000000        364.845000                2.000000  \n",
       "max        14928.780000      29203.900000                3.000000  "
      ]
     },
     "execution_count": 30,
     "metadata": {},
     "output_type": "execute_result"
    }
   ],
   "source": [
    "df.describe()"
   ]
  },
  {
   "cell_type": "code",
   "execution_count": 31,
   "metadata": {
    "scrolled": true
   },
   "outputs": [
    {
     "data": {
      "text/html": [
       "<div>\n",
       "<style scoped>\n",
       "    .dataframe tbody tr th:only-of-type {\n",
       "        vertical-align: middle;\n",
       "    }\n",
       "\n",
       "    .dataframe tbody tr th {\n",
       "        vertical-align: top;\n",
       "    }\n",
       "\n",
       "    .dataframe thead th {\n",
       "        text-align: right;\n",
       "    }\n",
       "</style>\n",
       "<table border=\"1\" class=\"dataframe\">\n",
       "  <thead>\n",
       "    <tr style=\"text-align: right;\">\n",
       "      <th></th>\n",
       "      <th>INSTALLMENT_PLANS</th>\n",
       "      <th>LOAN_PURPOSE</th>\n",
       "      <th>OTHERS_ON_LOAN</th>\n",
       "      <th>SEX</th>\n",
       "      <th>PROPERTY</th>\n",
       "      <th>HOUSING</th>\n",
       "      <th>CREDIT_HISTORY</th>\n",
       "      <th>CHECKING</th>\n",
       "      <th>CHECKING_BALANCE_DP</th>\n",
       "    </tr>\n",
       "  </thead>\n",
       "  <tbody>\n",
       "    <tr>\n",
       "      <th>count</th>\n",
       "      <td>3950</td>\n",
       "      <td>3951</td>\n",
       "      <td>3949</td>\n",
       "      <td>3892</td>\n",
       "      <td>3890</td>\n",
       "      <td>3884</td>\n",
       "      <td>3971</td>\n",
       "      <td>3971</td>\n",
       "      <td>3971</td>\n",
       "    </tr>\n",
       "    <tr>\n",
       "      <th>unique</th>\n",
       "      <td>3</td>\n",
       "      <td>11</td>\n",
       "      <td>3</td>\n",
       "      <td>2</td>\n",
       "      <td>4</td>\n",
       "      <td>3</td>\n",
       "      <td>5</td>\n",
       "      <td>2</td>\n",
       "      <td>3</td>\n",
       "    </tr>\n",
       "    <tr>\n",
       "      <th>top</th>\n",
       "      <td>NONE</td>\n",
       "      <td>CAR_NEW</td>\n",
       "      <td>NONE</td>\n",
       "      <td>M</td>\n",
       "      <td>SAVINGS_INSURANCE</td>\n",
       "      <td>OWN</td>\n",
       "      <td>NO_CREDITS</td>\n",
       "      <td>NO_CHECKING</td>\n",
       "      <td>Zerado</td>\n",
       "    </tr>\n",
       "    <tr>\n",
       "      <th>freq</th>\n",
       "      <td>2764</td>\n",
       "      <td>747</td>\n",
       "      <td>3288</td>\n",
       "      <td>2403</td>\n",
       "      <td>1295</td>\n",
       "      <td>2482</td>\n",
       "      <td>1597</td>\n",
       "      <td>2508</td>\n",
       "      <td>2581</td>\n",
       "    </tr>\n",
       "  </tbody>\n",
       "</table>\n",
       "</div>"
      ],
      "text/plain": [
       "       INSTALLMENT_PLANS LOAN_PURPOSE OTHERS_ON_LOAN   SEX           PROPERTY  \\\n",
       "count               3950         3951           3949  3892               3890   \n",
       "unique                 3           11              3     2                  4   \n",
       "top                 NONE      CAR_NEW           NONE     M  SAVINGS_INSURANCE   \n",
       "freq                2764          747           3288  2403               1295   \n",
       "\n",
       "       HOUSING CREDIT_HISTORY     CHECKING CHECKING_BALANCE_DP  \n",
       "count     3884           3971         3971                3971  \n",
       "unique       3              5            2                   3  \n",
       "top        OWN     NO_CREDITS  NO_CHECKING              Zerado  \n",
       "freq      2482           1597         2508                2581  "
      ]
     },
     "execution_count": 31,
     "metadata": {},
     "output_type": "execute_result"
    }
   ],
   "source": [
    "df.describe(include = 'O')"
   ]
  },
  {
   "cell_type": "code",
   "execution_count": 32,
   "metadata": {
    "scrolled": true
   },
   "outputs": [
    {
     "name": "stdout",
     "output_type": "stream",
     "text": [
      "<class 'pandas.core.frame.DataFrame'>\n",
      "Int64Index: 3971 entries, 0 to 3998\n",
      "Data columns (total 24 columns):\n",
      " #   Column                      Non-Null Count  Dtype  \n",
      "---  ------                      --------------  -----  \n",
      " 0   ID                          3971 non-null   int64  \n",
      " 1   PAYMENT_TERM                3947 non-null   float64\n",
      " 2   INSTALLMENT_PLANS           3950 non-null   object \n",
      " 3   INSTALLMENT_PERCENT         3946 non-null   float64\n",
      " 4   LOAN_PURPOSE                3951 non-null   object \n",
      " 5   LOAN_AMOUNT                 3953 non-null   float64\n",
      " 6   OTHERS_ON_LOAN              3949 non-null   object \n",
      " 7   ALLOW                       3971 non-null   int64  \n",
      " 8   SEX                         3892 non-null   object \n",
      " 9   AGE                         3890 non-null   float64\n",
      " 10  JOB_TYPE                    3882 non-null   float64\n",
      " 11  DEPENDENTS                  3887 non-null   float64\n",
      " 12  TELEPHONE                   3887 non-null   float64\n",
      " 13  FOREIGN_WORKER              3881 non-null   float64\n",
      " 14  EMPLOYMENT_DURATION         3895 non-null   float64\n",
      " 15  PROPERTY                    3890 non-null   object \n",
      " 16  HOUSING                     3884 non-null   object \n",
      " 17  CURRENT_RESIDENCE_DURATION  3889 non-null   float64\n",
      " 18  CHECKING_BALANCE            3971 non-null   float64\n",
      " 19  CREDIT_HISTORY              3971 non-null   object \n",
      " 20  EXISTING_SAVINGS            3971 non-null   float64\n",
      " 21  EXISTING_CREDITS_COUNT      3971 non-null   float64\n",
      " 22  CHECKING                    3971 non-null   object \n",
      " 23  CHECKING_BALANCE_DP         3971 non-null   object \n",
      "dtypes: float64(13), int64(2), object(9)\n",
      "memory usage: 775.6+ KB\n"
     ]
    }
   ],
   "source": [
    "df.info()"
   ]
  },
  {
   "cell_type": "markdown",
   "metadata": {},
   "source": [
    "#### 1.4.1 Valores faltantes"
   ]
  },
  {
   "cell_type": "code",
   "execution_count": 33,
   "metadata": {
    "scrolled": false
   },
   "outputs": [
    {
     "name": "stdout",
     "output_type": "stream",
     "text": [
      "Valores nulos antes da transformação: \n",
      "\n",
      "ID                             0\n",
      "PAYMENT_TERM                  24\n",
      "INSTALLMENT_PLANS             21\n",
      "INSTALLMENT_PERCENT           25\n",
      "LOAN_PURPOSE                  20\n",
      "LOAN_AMOUNT                   18\n",
      "OTHERS_ON_LOAN                22\n",
      "ALLOW                          0\n",
      "SEX                           79\n",
      "AGE                           81\n",
      "JOB_TYPE                      89\n",
      "DEPENDENTS                    84\n",
      "TELEPHONE                     84\n",
      "FOREIGN_WORKER                90\n",
      "EMPLOYMENT_DURATION           76\n",
      "PROPERTY                      81\n",
      "HOUSING                       87\n",
      "CURRENT_RESIDENCE_DURATION    82\n",
      "CHECKING_BALANCE               0\n",
      "CREDIT_HISTORY                 0\n",
      "EXISTING_SAVINGS               0\n",
      "EXISTING_CREDITS_COUNT         0\n",
      "CHECKING                       0\n",
      "CHECKING_BALANCE_DP            0\n",
      "dtype: int64\n",
      "\n"
     ]
    }
   ],
   "source": [
    "print(\"Valores nulos antes da transformação: \\n\\n{}\\n\".format(df.isnull().sum(axis = 0)))"
   ]
  },
  {
   "cell_type": "code",
   "execution_count": 34,
   "metadata": {
    "scrolled": false
   },
   "outputs": [
    {
     "data": {
      "text/plain": [
       "M    2403\n",
       "F    1489\n",
       "Name: SEX, dtype: int64"
      ]
     },
     "execution_count": 34,
     "metadata": {},
     "output_type": "execute_result"
    }
   ],
   "source": [
    "df['SEX'].value_counts()"
   ]
  },
  {
   "cell_type": "code",
   "execution_count": 35,
   "metadata": {
    "scrolled": false
   },
   "outputs": [
    {
     "data": {
      "text/plain": [
       "19.0    318\n",
       "36.0    138\n",
       "40.0    134\n",
       "37.0    133\n",
       "31.0    132\n",
       "34.0    129\n",
       "41.0    127\n",
       "33.0    126\n",
       "39.0    123\n",
       "42.0    122\n",
       "32.0    122\n",
       "28.0    120\n",
       "38.0    120\n",
       "29.0    115\n",
       "30.0    114\n",
       "45.0    106\n",
       "43.0    106\n",
       "35.0    104\n",
       "46.0    101\n",
       "27.0    100\n",
       "44.0     98\n",
       "47.0     96\n",
       "26.0     93\n",
       "24.0     86\n",
       "25.0     79\n",
       "48.0     76\n",
       "49.0     75\n",
       "22.0     71\n",
       "50.0     68\n",
       "20.0     62\n",
       "21.0     61\n",
       "51.0     61\n",
       "23.0     60\n",
       "52.0     56\n",
       "53.0     48\n",
       "54.0     45\n",
       "55.0     41\n",
       "56.0     24\n",
       "57.0     23\n",
       "58.0     19\n",
       "60.0     15\n",
       "59.0     15\n",
       "61.0      7\n",
       "65.0      5\n",
       "63.0      3\n",
       "66.0      3\n",
       "62.0      3\n",
       "74.0      2\n",
       "64.0      2\n",
       "73.0      1\n",
       "67.0      1\n",
       "70.0      1\n",
       "Name: AGE, dtype: int64"
      ]
     },
     "execution_count": 35,
     "metadata": {},
     "output_type": "execute_result"
    }
   ],
   "source": [
    "df['AGE'].value_counts()"
   ]
  },
  {
   "cell_type": "code",
   "execution_count": 36,
   "metadata": {
    "scrolled": true
   },
   "outputs": [
    {
     "data": {
      "text/plain": [
       "3.0    2646\n",
       "1.0     521\n",
       "2.0     486\n",
       "0.0     229\n",
       "Name: JOB_TYPE, dtype: int64"
      ]
     },
     "execution_count": 36,
     "metadata": {},
     "output_type": "execute_result"
    }
   ],
   "source": [
    "df['JOB_TYPE'].value_counts()"
   ]
  },
  {
   "cell_type": "code",
   "execution_count": 37,
   "metadata": {},
   "outputs": [
    {
     "data": {
      "text/plain": [
       "1.0    3262\n",
       "2.0     625\n",
       "Name: DEPENDENTS, dtype: int64"
      ]
     },
     "execution_count": 37,
     "metadata": {},
     "output_type": "execute_result"
    }
   ],
   "source": [
    "df['DEPENDENTS'].value_counts()"
   ]
  },
  {
   "cell_type": "code",
   "execution_count": 38,
   "metadata": {},
   "outputs": [
    {
     "data": {
      "text/plain": [
       "0.0    2292\n",
       "1.0    1595\n",
       "Name: TELEPHONE, dtype: int64"
      ]
     },
     "execution_count": 38,
     "metadata": {},
     "output_type": "execute_result"
    }
   ],
   "source": [
    "df['TELEPHONE'].value_counts()"
   ]
  },
  {
   "cell_type": "code",
   "execution_count": 39,
   "metadata": {},
   "outputs": [
    {
     "data": {
      "text/plain": [
       "1.0    3787\n",
       "0.0      94\n",
       "Name: FOREIGN_WORKER, dtype: int64"
      ]
     },
     "execution_count": 39,
     "metadata": {},
     "output_type": "execute_result"
    }
   ],
   "source": [
    "df['FOREIGN_WORKER'].value_counts()"
   ]
  },
  {
   "cell_type": "code",
   "execution_count": 40,
   "metadata": {},
   "outputs": [
    {
     "data": {
      "text/plain": [
       "0.0     927\n",
       "5.0     386\n",
       "7.0     368\n",
       "6.0     346\n",
       "1.0     313\n",
       "3.0     286\n",
       "2.0     275\n",
       "4.0     274\n",
       "8.0     191\n",
       "9.0     179\n",
       "10.0    141\n",
       "11.0     89\n",
       "12.0     72\n",
       "13.0     23\n",
       "14.0     11\n",
       "15.0     10\n",
       "16.0      2\n",
       "18.0      1\n",
       "17.0      1\n",
       "Name: EMPLOYMENT_DURATION, dtype: int64"
      ]
     },
     "execution_count": 40,
     "metadata": {},
     "output_type": "execute_result"
    }
   ],
   "source": [
    "df['EMPLOYMENT_DURATION'].value_counts()"
   ]
  },
  {
   "cell_type": "code",
   "execution_count": 41,
   "metadata": {},
   "outputs": [
    {
     "data": {
      "text/plain": [
       "SAVINGS_INSURANCE    1295\n",
       "CAR_OTHER            1196\n",
       "REAL_ESTATE           846\n",
       "UNKNOWN               553\n",
       "Name: PROPERTY, dtype: int64"
      ]
     },
     "execution_count": 41,
     "metadata": {},
     "output_type": "execute_result"
    }
   ],
   "source": [
    "df['PROPERTY'].value_counts()"
   ]
  },
  {
   "cell_type": "code",
   "execution_count": 42,
   "metadata": {},
   "outputs": [
    {
     "data": {
      "text/plain": [
       "OWN     2482\n",
       "RENT     827\n",
       "FREE     575\n",
       "Name: HOUSING, dtype: int64"
      ]
     },
     "execution_count": 42,
     "metadata": {},
     "output_type": "execute_result"
    }
   ],
   "source": [
    "df['HOUSING'].value_counts()"
   ]
  },
  {
   "cell_type": "code",
   "execution_count": 43,
   "metadata": {},
   "outputs": [
    {
     "data": {
      "text/plain": [
       "3.0    1295\n",
       "2.0     980\n",
       "4.0     844\n",
       "1.0     485\n",
       "5.0     282\n",
       "6.0       3\n",
       "Name: CURRENT_RESIDENCE_DURATION, dtype: int64"
      ]
     },
     "execution_count": 43,
     "metadata": {},
     "output_type": "execute_result"
    }
   ],
   "source": [
    "df['CURRENT_RESIDENCE_DURATION'].value_counts()"
   ]
  },
  {
   "cell_type": "code",
   "execution_count": 44,
   "metadata": {},
   "outputs": [],
   "source": [
    "# Trocando pelo valor mais frequente\n",
    "df = df.fillna(value = {'SEX': 'M', \n",
    "                        'AGE': 19.0, \n",
    "                        'JOB_TYPE': 3.0,\n",
    "                        'DEPENDENTS': 1.0,\n",
    "                        'TELEPHONE': 0.0,\n",
    "                        'FOREIGN_WORKER': 1.0, \n",
    "                        'EMPLOYMENT_DURATION': 0.0,\n",
    "                        'PROPERTY': 'UNKNOWN', \n",
    "                        'HOUSING': 'OWN',\n",
    "                        'CURRENT_RESIDENCE_DURATION': 3.0})"
   ]
  },
  {
   "cell_type": "code",
   "execution_count": 45,
   "metadata": {
    "scrolled": false
   },
   "outputs": [
    {
     "name": "stdout",
     "output_type": "stream",
     "text": [
      "Valores nulos após a transformação: \n",
      "\n",
      "ID                             0\n",
      "PAYMENT_TERM                  24\n",
      "INSTALLMENT_PLANS             21\n",
      "INSTALLMENT_PERCENT           25\n",
      "LOAN_PURPOSE                  20\n",
      "LOAN_AMOUNT                   18\n",
      "OTHERS_ON_LOAN                22\n",
      "ALLOW                          0\n",
      "SEX                            0\n",
      "AGE                            0\n",
      "JOB_TYPE                       0\n",
      "DEPENDENTS                     0\n",
      "TELEPHONE                      0\n",
      "FOREIGN_WORKER                 0\n",
      "EMPLOYMENT_DURATION            0\n",
      "PROPERTY                       0\n",
      "HOUSING                        0\n",
      "CURRENT_RESIDENCE_DURATION     0\n",
      "CHECKING_BALANCE               0\n",
      "CREDIT_HISTORY                 0\n",
      "EXISTING_SAVINGS               0\n",
      "EXISTING_CREDITS_COUNT         0\n",
      "CHECKING                       0\n",
      "CHECKING_BALANCE_DP            0\n",
      "dtype: int64\n",
      "\n"
     ]
    }
   ],
   "source": [
    "print(\"Valores nulos após a transformação: \\n\\n{}\\n\".format(df.isnull().sum(axis = 0)))"
   ]
  },
  {
   "cell_type": "markdown",
   "metadata": {},
   "source": [
    "#### 1.3.2 Verificação e tratamento do tipo das colunas"
   ]
  },
  {
   "cell_type": "code",
   "execution_count": 46,
   "metadata": {
    "scrolled": true
   },
   "outputs": [
    {
     "data": {
      "text/html": [
       "<div>\n",
       "<style scoped>\n",
       "    .dataframe tbody tr th:only-of-type {\n",
       "        vertical-align: middle;\n",
       "    }\n",
       "\n",
       "    .dataframe tbody tr th {\n",
       "        vertical-align: top;\n",
       "    }\n",
       "\n",
       "    .dataframe thead th {\n",
       "        text-align: right;\n",
       "    }\n",
       "</style>\n",
       "<table border=\"1\" class=\"dataframe\">\n",
       "  <thead>\n",
       "    <tr style=\"text-align: right;\">\n",
       "      <th></th>\n",
       "      <th>ID</th>\n",
       "      <th>PAYMENT_TERM</th>\n",
       "      <th>INSTALLMENT_PLANS</th>\n",
       "      <th>INSTALLMENT_PERCENT</th>\n",
       "      <th>LOAN_PURPOSE</th>\n",
       "      <th>LOAN_AMOUNT</th>\n",
       "      <th>OTHERS_ON_LOAN</th>\n",
       "      <th>ALLOW</th>\n",
       "      <th>SEX</th>\n",
       "      <th>AGE</th>\n",
       "      <th>...</th>\n",
       "      <th>EMPLOYMENT_DURATION</th>\n",
       "      <th>PROPERTY</th>\n",
       "      <th>HOUSING</th>\n",
       "      <th>CURRENT_RESIDENCE_DURATION</th>\n",
       "      <th>CHECKING_BALANCE</th>\n",
       "      <th>CREDIT_HISTORY</th>\n",
       "      <th>EXISTING_SAVINGS</th>\n",
       "      <th>EXISTING_CREDITS_COUNT</th>\n",
       "      <th>CHECKING</th>\n",
       "      <th>CHECKING_BALANCE_DP</th>\n",
       "    </tr>\n",
       "  </thead>\n",
       "  <tbody>\n",
       "    <tr>\n",
       "      <th>57</th>\n",
       "      <td>558052</td>\n",
       "      <td>279.0</td>\n",
       "      <td>NONE</td>\n",
       "      <td>2.0</td>\n",
       "      <td>CAR_NEW</td>\n",
       "      <td>2274.0</td>\n",
       "      <td>NONE</td>\n",
       "      <td>0</td>\n",
       "      <td>M</td>\n",
       "      <td>19.0</td>\n",
       "      <td>...</td>\n",
       "      <td>0.0</td>\n",
       "      <td>UNKNOWN</td>\n",
       "      <td>OWN</td>\n",
       "      <td>3.0</td>\n",
       "      <td>0.0</td>\n",
       "      <td>NO_CREDITS</td>\n",
       "      <td>0.0</td>\n",
       "      <td>1.0</td>\n",
       "      <td>NO_CHECKING</td>\n",
       "      <td>Zerado</td>\n",
       "    </tr>\n",
       "  </tbody>\n",
       "</table>\n",
       "<p>1 rows × 24 columns</p>\n",
       "</div>"
      ],
      "text/plain": [
       "        ID  PAYMENT_TERM INSTALLMENT_PLANS  INSTALLMENT_PERCENT LOAN_PURPOSE  \\\n",
       "57  558052         279.0              NONE                  2.0      CAR_NEW   \n",
       "\n",
       "    LOAN_AMOUNT OTHERS_ON_LOAN  ALLOW SEX   AGE  ...  EMPLOYMENT_DURATION  \\\n",
       "57       2274.0           NONE      0   M  19.0  ...                  0.0   \n",
       "\n",
       "    PROPERTY  HOUSING  CURRENT_RESIDENCE_DURATION  CHECKING_BALANCE  \\\n",
       "57   UNKNOWN      OWN                         3.0               0.0   \n",
       "\n",
       "   CREDIT_HISTORY EXISTING_SAVINGS  EXISTING_CREDITS_COUNT     CHECKING  \\\n",
       "57     NO_CREDITS              0.0                     1.0  NO_CHECKING   \n",
       "\n",
       "   CHECKING_BALANCE_DP  \n",
       "57              Zerado  \n",
       "\n",
       "[1 rows x 24 columns]"
      ]
     },
     "execution_count": 46,
     "metadata": {},
     "output_type": "execute_result"
    }
   ],
   "source": [
    "df.sample()"
   ]
  },
  {
   "cell_type": "code",
   "execution_count": 47,
   "metadata": {
    "scrolled": true
   },
   "outputs": [
    {
     "name": "stdout",
     "output_type": "stream",
     "text": [
      "<class 'pandas.core.frame.DataFrame'>\n",
      "Int64Index: 3971 entries, 0 to 3998\n",
      "Data columns (total 24 columns):\n",
      " #   Column                      Non-Null Count  Dtype  \n",
      "---  ------                      --------------  -----  \n",
      " 0   ID                          3971 non-null   int64  \n",
      " 1   PAYMENT_TERM                3947 non-null   float64\n",
      " 2   INSTALLMENT_PLANS           3950 non-null   object \n",
      " 3   INSTALLMENT_PERCENT         3946 non-null   float64\n",
      " 4   LOAN_PURPOSE                3951 non-null   object \n",
      " 5   LOAN_AMOUNT                 3953 non-null   float64\n",
      " 6   OTHERS_ON_LOAN              3949 non-null   object \n",
      " 7   ALLOW                       3971 non-null   int64  \n",
      " 8   SEX                         3971 non-null   object \n",
      " 9   AGE                         3971 non-null   float64\n",
      " 10  JOB_TYPE                    3971 non-null   float64\n",
      " 11  DEPENDENTS                  3971 non-null   float64\n",
      " 12  TELEPHONE                   3971 non-null   float64\n",
      " 13  FOREIGN_WORKER              3971 non-null   float64\n",
      " 14  EMPLOYMENT_DURATION         3971 non-null   float64\n",
      " 15  PROPERTY                    3971 non-null   object \n",
      " 16  HOUSING                     3971 non-null   object \n",
      " 17  CURRENT_RESIDENCE_DURATION  3971 non-null   float64\n",
      " 18  CHECKING_BALANCE            3971 non-null   float64\n",
      " 19  CREDIT_HISTORY              3971 non-null   object \n",
      " 20  EXISTING_SAVINGS            3971 non-null   float64\n",
      " 21  EXISTING_CREDITS_COUNT      3971 non-null   float64\n",
      " 22  CHECKING                    3971 non-null   object \n",
      " 23  CHECKING_BALANCE_DP         3971 non-null   object \n",
      "dtypes: float64(13), int64(2), object(9)\n",
      "memory usage: 775.6+ KB\n"
     ]
    }
   ],
   "source": [
    "df.info()"
   ]
  },
  {
   "cell_type": "markdown",
   "metadata": {},
   "source": [
    "Podemos observar que algumas colunas nós podemos realizar a alteração do tipo, como nas colunas a seguir:\n",
    "\n",
    "    AGE - Alteração para o tipo object (realizarei um filtro)\n",
    "    JOB_TYPE - Alteração para o tipo int\n",
    "    DEPENDENTS - Alteração para o tipo int\n",
    "    TELEPHONE - Alteração para o tipo int\n",
    "    FOREIGN_WORKER - Alteração para o tipo int\n",
    "    EMPLOYMENT_DURATION - Alteração para o tipo int\n",
    "    CURRENT_RESIDENCE_DURATION - Alteração para o tipo int"
   ]
  },
  {
   "cell_type": "code",
   "execution_count": 48,
   "metadata": {
    "scrolled": false
   },
   "outputs": [
    {
     "data": {
      "text/html": [
       "<div>\n",
       "<style scoped>\n",
       "    .dataframe tbody tr th:only-of-type {\n",
       "        vertical-align: middle;\n",
       "    }\n",
       "\n",
       "    .dataframe tbody tr th {\n",
       "        vertical-align: top;\n",
       "    }\n",
       "\n",
       "    .dataframe thead th {\n",
       "        text-align: right;\n",
       "    }\n",
       "</style>\n",
       "<table border=\"1\" class=\"dataframe\">\n",
       "  <thead>\n",
       "    <tr style=\"text-align: right;\">\n",
       "      <th></th>\n",
       "      <th>AGE</th>\n",
       "    </tr>\n",
       "    <tr>\n",
       "      <th>AGE</th>\n",
       "      <th></th>\n",
       "    </tr>\n",
       "  </thead>\n",
       "  <tbody>\n",
       "    <tr>\n",
       "      <th>19.0</th>\n",
       "      <td>399</td>\n",
       "    </tr>\n",
       "    <tr>\n",
       "      <th>20.0</th>\n",
       "      <td>62</td>\n",
       "    </tr>\n",
       "    <tr>\n",
       "      <th>21.0</th>\n",
       "      <td>61</td>\n",
       "    </tr>\n",
       "    <tr>\n",
       "      <th>22.0</th>\n",
       "      <td>71</td>\n",
       "    </tr>\n",
       "    <tr>\n",
       "      <th>23.0</th>\n",
       "      <td>60</td>\n",
       "    </tr>\n",
       "    <tr>\n",
       "      <th>24.0</th>\n",
       "      <td>86</td>\n",
       "    </tr>\n",
       "    <tr>\n",
       "      <th>25.0</th>\n",
       "      <td>79</td>\n",
       "    </tr>\n",
       "    <tr>\n",
       "      <th>26.0</th>\n",
       "      <td>93</td>\n",
       "    </tr>\n",
       "    <tr>\n",
       "      <th>27.0</th>\n",
       "      <td>100</td>\n",
       "    </tr>\n",
       "    <tr>\n",
       "      <th>28.0</th>\n",
       "      <td>120</td>\n",
       "    </tr>\n",
       "    <tr>\n",
       "      <th>29.0</th>\n",
       "      <td>115</td>\n",
       "    </tr>\n",
       "    <tr>\n",
       "      <th>30.0</th>\n",
       "      <td>114</td>\n",
       "    </tr>\n",
       "    <tr>\n",
       "      <th>31.0</th>\n",
       "      <td>132</td>\n",
       "    </tr>\n",
       "    <tr>\n",
       "      <th>32.0</th>\n",
       "      <td>122</td>\n",
       "    </tr>\n",
       "    <tr>\n",
       "      <th>33.0</th>\n",
       "      <td>126</td>\n",
       "    </tr>\n",
       "    <tr>\n",
       "      <th>34.0</th>\n",
       "      <td>129</td>\n",
       "    </tr>\n",
       "    <tr>\n",
       "      <th>35.0</th>\n",
       "      <td>104</td>\n",
       "    </tr>\n",
       "    <tr>\n",
       "      <th>36.0</th>\n",
       "      <td>138</td>\n",
       "    </tr>\n",
       "    <tr>\n",
       "      <th>37.0</th>\n",
       "      <td>133</td>\n",
       "    </tr>\n",
       "    <tr>\n",
       "      <th>38.0</th>\n",
       "      <td>120</td>\n",
       "    </tr>\n",
       "    <tr>\n",
       "      <th>39.0</th>\n",
       "      <td>123</td>\n",
       "    </tr>\n",
       "    <tr>\n",
       "      <th>40.0</th>\n",
       "      <td>134</td>\n",
       "    </tr>\n",
       "    <tr>\n",
       "      <th>41.0</th>\n",
       "      <td>127</td>\n",
       "    </tr>\n",
       "    <tr>\n",
       "      <th>42.0</th>\n",
       "      <td>122</td>\n",
       "    </tr>\n",
       "    <tr>\n",
       "      <th>43.0</th>\n",
       "      <td>106</td>\n",
       "    </tr>\n",
       "    <tr>\n",
       "      <th>44.0</th>\n",
       "      <td>98</td>\n",
       "    </tr>\n",
       "    <tr>\n",
       "      <th>45.0</th>\n",
       "      <td>106</td>\n",
       "    </tr>\n",
       "    <tr>\n",
       "      <th>46.0</th>\n",
       "      <td>101</td>\n",
       "    </tr>\n",
       "    <tr>\n",
       "      <th>47.0</th>\n",
       "      <td>96</td>\n",
       "    </tr>\n",
       "    <tr>\n",
       "      <th>48.0</th>\n",
       "      <td>76</td>\n",
       "    </tr>\n",
       "    <tr>\n",
       "      <th>49.0</th>\n",
       "      <td>75</td>\n",
       "    </tr>\n",
       "    <tr>\n",
       "      <th>50.0</th>\n",
       "      <td>68</td>\n",
       "    </tr>\n",
       "    <tr>\n",
       "      <th>51.0</th>\n",
       "      <td>61</td>\n",
       "    </tr>\n",
       "    <tr>\n",
       "      <th>52.0</th>\n",
       "      <td>56</td>\n",
       "    </tr>\n",
       "    <tr>\n",
       "      <th>53.0</th>\n",
       "      <td>48</td>\n",
       "    </tr>\n",
       "    <tr>\n",
       "      <th>54.0</th>\n",
       "      <td>45</td>\n",
       "    </tr>\n",
       "    <tr>\n",
       "      <th>55.0</th>\n",
       "      <td>41</td>\n",
       "    </tr>\n",
       "    <tr>\n",
       "      <th>56.0</th>\n",
       "      <td>24</td>\n",
       "    </tr>\n",
       "    <tr>\n",
       "      <th>57.0</th>\n",
       "      <td>23</td>\n",
       "    </tr>\n",
       "    <tr>\n",
       "      <th>58.0</th>\n",
       "      <td>19</td>\n",
       "    </tr>\n",
       "    <tr>\n",
       "      <th>59.0</th>\n",
       "      <td>15</td>\n",
       "    </tr>\n",
       "    <tr>\n",
       "      <th>60.0</th>\n",
       "      <td>15</td>\n",
       "    </tr>\n",
       "    <tr>\n",
       "      <th>61.0</th>\n",
       "      <td>7</td>\n",
       "    </tr>\n",
       "    <tr>\n",
       "      <th>62.0</th>\n",
       "      <td>3</td>\n",
       "    </tr>\n",
       "    <tr>\n",
       "      <th>63.0</th>\n",
       "      <td>3</td>\n",
       "    </tr>\n",
       "    <tr>\n",
       "      <th>64.0</th>\n",
       "      <td>2</td>\n",
       "    </tr>\n",
       "    <tr>\n",
       "      <th>65.0</th>\n",
       "      <td>5</td>\n",
       "    </tr>\n",
       "    <tr>\n",
       "      <th>66.0</th>\n",
       "      <td>3</td>\n",
       "    </tr>\n",
       "    <tr>\n",
       "      <th>67.0</th>\n",
       "      <td>1</td>\n",
       "    </tr>\n",
       "    <tr>\n",
       "      <th>70.0</th>\n",
       "      <td>1</td>\n",
       "    </tr>\n",
       "    <tr>\n",
       "      <th>73.0</th>\n",
       "      <td>1</td>\n",
       "    </tr>\n",
       "    <tr>\n",
       "      <th>74.0</th>\n",
       "      <td>2</td>\n",
       "    </tr>\n",
       "  </tbody>\n",
       "</table>\n",
       "</div>"
      ],
      "text/plain": [
       "      AGE\n",
       "AGE      \n",
       "19.0  399\n",
       "20.0   62\n",
       "21.0   61\n",
       "22.0   71\n",
       "23.0   60\n",
       "24.0   86\n",
       "25.0   79\n",
       "26.0   93\n",
       "27.0  100\n",
       "28.0  120\n",
       "29.0  115\n",
       "30.0  114\n",
       "31.0  132\n",
       "32.0  122\n",
       "33.0  126\n",
       "34.0  129\n",
       "35.0  104\n",
       "36.0  138\n",
       "37.0  133\n",
       "38.0  120\n",
       "39.0  123\n",
       "40.0  134\n",
       "41.0  127\n",
       "42.0  122\n",
       "43.0  106\n",
       "44.0   98\n",
       "45.0  106\n",
       "46.0  101\n",
       "47.0   96\n",
       "48.0   76\n",
       "49.0   75\n",
       "50.0   68\n",
       "51.0   61\n",
       "52.0   56\n",
       "53.0   48\n",
       "54.0   45\n",
       "55.0   41\n",
       "56.0   24\n",
       "57.0   23\n",
       "58.0   19\n",
       "59.0   15\n",
       "60.0   15\n",
       "61.0    7\n",
       "62.0    3\n",
       "63.0    3\n",
       "64.0    2\n",
       "65.0    5\n",
       "66.0    3\n",
       "67.0    1\n",
       "70.0    1\n",
       "73.0    1\n",
       "74.0    2"
      ]
     },
     "execution_count": 48,
     "metadata": {},
     "output_type": "execute_result"
    }
   ],
   "source": [
    "# agrupando por número de acomodações\n",
    "df.groupby('AGE').agg({'AGE': 'count'})"
   ]
  },
  {
   "cell_type": "code",
   "execution_count": 49,
   "metadata": {},
   "outputs": [],
   "source": [
    "# Alteração para o tipo int da coluna JOB_TYPE\n",
    "df['AGE'] = df['AGE'].astype(int)\n",
    "# Alteração para o tipo int da coluna JOB_TYPE\n",
    "df['JOB_TYPE'] = df['JOB_TYPE'].astype(int)\n",
    "# Alteração para o tipo int da coluna DEPENDENTS\n",
    "df['DEPENDENTS'] = df['DEPENDENTS'].astype(int)\n",
    "# Alteração para o tipo int da coluna TELEPHONE\n",
    "df['TELEPHONE'] = df['TELEPHONE'].astype(int)\n",
    "# Alteração para o tipo int da coluna FOREIGN_WORKER\n",
    "df['FOREIGN_WORKER'] = df['FOREIGN_WORKER'].astype(int)\n",
    "# Alteração para o tipo int da coluna EMPLOYMENT_DURATION\n",
    "df['EMPLOYMENT_DURATION'] = df['EMPLOYMENT_DURATION'].astype(int)\n",
    "# Alteração para o tipo int da coluna CURRENT_RESIDENCE_DURATION\n",
    "df['CURRENT_RESIDENCE_DURATION'] = df['CURRENT_RESIDENCE_DURATION'].astype(int)"
   ]
  },
  {
   "cell_type": "code",
   "execution_count": 50,
   "metadata": {
    "scrolled": false
   },
   "outputs": [
    {
     "name": "stdout",
     "output_type": "stream",
     "text": [
      "<class 'pandas.core.frame.DataFrame'>\n",
      "Int64Index: 3971 entries, 0 to 3998\n",
      "Data columns (total 24 columns):\n",
      " #   Column                      Non-Null Count  Dtype  \n",
      "---  ------                      --------------  -----  \n",
      " 0   ID                          3971 non-null   int64  \n",
      " 1   PAYMENT_TERM                3947 non-null   float64\n",
      " 2   INSTALLMENT_PLANS           3950 non-null   object \n",
      " 3   INSTALLMENT_PERCENT         3946 non-null   float64\n",
      " 4   LOAN_PURPOSE                3951 non-null   object \n",
      " 5   LOAN_AMOUNT                 3953 non-null   float64\n",
      " 6   OTHERS_ON_LOAN              3949 non-null   object \n",
      " 7   ALLOW                       3971 non-null   int64  \n",
      " 8   SEX                         3971 non-null   object \n",
      " 9   AGE                         3971 non-null   int32  \n",
      " 10  JOB_TYPE                    3971 non-null   int32  \n",
      " 11  DEPENDENTS                  3971 non-null   int32  \n",
      " 12  TELEPHONE                   3971 non-null   int32  \n",
      " 13  FOREIGN_WORKER              3971 non-null   int32  \n",
      " 14  EMPLOYMENT_DURATION         3971 non-null   int32  \n",
      " 15  PROPERTY                    3971 non-null   object \n",
      " 16  HOUSING                     3971 non-null   object \n",
      " 17  CURRENT_RESIDENCE_DURATION  3971 non-null   int32  \n",
      " 18  CHECKING_BALANCE            3971 non-null   float64\n",
      " 19  CREDIT_HISTORY              3971 non-null   object \n",
      " 20  EXISTING_SAVINGS            3971 non-null   float64\n",
      " 21  EXISTING_CREDITS_COUNT      3971 non-null   float64\n",
      " 22  CHECKING                    3971 non-null   object \n",
      " 23  CHECKING_BALANCE_DP         3971 non-null   object \n",
      "dtypes: float64(6), int32(7), int64(2), object(9)\n",
      "memory usage: 667.0+ KB\n"
     ]
    }
   ],
   "source": [
    "df.info()"
   ]
  },
  {
   "cell_type": "markdown",
   "metadata": {},
   "source": [
    "#### 1.3.3 Verificação de dados inconsistentes"
   ]
  },
  {
   "cell_type": "code",
   "execution_count": 51,
   "metadata": {},
   "outputs": [
    {
     "data": {
      "text/html": [
       "<div>\n",
       "<style scoped>\n",
       "    .dataframe tbody tr th:only-of-type {\n",
       "        vertical-align: middle;\n",
       "    }\n",
       "\n",
       "    .dataframe tbody tr th {\n",
       "        vertical-align: top;\n",
       "    }\n",
       "\n",
       "    .dataframe thead th {\n",
       "        text-align: right;\n",
       "    }\n",
       "</style>\n",
       "<table border=\"1\" class=\"dataframe\">\n",
       "  <thead>\n",
       "    <tr style=\"text-align: right;\">\n",
       "      <th></th>\n",
       "      <th>AGE</th>\n",
       "    </tr>\n",
       "    <tr>\n",
       "      <th>AGE</th>\n",
       "      <th></th>\n",
       "    </tr>\n",
       "  </thead>\n",
       "  <tbody>\n",
       "    <tr>\n",
       "      <th>19</th>\n",
       "      <td>399</td>\n",
       "    </tr>\n",
       "    <tr>\n",
       "      <th>20</th>\n",
       "      <td>62</td>\n",
       "    </tr>\n",
       "    <tr>\n",
       "      <th>21</th>\n",
       "      <td>61</td>\n",
       "    </tr>\n",
       "    <tr>\n",
       "      <th>22</th>\n",
       "      <td>71</td>\n",
       "    </tr>\n",
       "    <tr>\n",
       "      <th>23</th>\n",
       "      <td>60</td>\n",
       "    </tr>\n",
       "    <tr>\n",
       "      <th>24</th>\n",
       "      <td>86</td>\n",
       "    </tr>\n",
       "    <tr>\n",
       "      <th>25</th>\n",
       "      <td>79</td>\n",
       "    </tr>\n",
       "    <tr>\n",
       "      <th>26</th>\n",
       "      <td>93</td>\n",
       "    </tr>\n",
       "    <tr>\n",
       "      <th>27</th>\n",
       "      <td>100</td>\n",
       "    </tr>\n",
       "    <tr>\n",
       "      <th>28</th>\n",
       "      <td>120</td>\n",
       "    </tr>\n",
       "    <tr>\n",
       "      <th>29</th>\n",
       "      <td>115</td>\n",
       "    </tr>\n",
       "    <tr>\n",
       "      <th>30</th>\n",
       "      <td>114</td>\n",
       "    </tr>\n",
       "    <tr>\n",
       "      <th>31</th>\n",
       "      <td>132</td>\n",
       "    </tr>\n",
       "    <tr>\n",
       "      <th>32</th>\n",
       "      <td>122</td>\n",
       "    </tr>\n",
       "    <tr>\n",
       "      <th>33</th>\n",
       "      <td>126</td>\n",
       "    </tr>\n",
       "    <tr>\n",
       "      <th>34</th>\n",
       "      <td>129</td>\n",
       "    </tr>\n",
       "    <tr>\n",
       "      <th>35</th>\n",
       "      <td>104</td>\n",
       "    </tr>\n",
       "    <tr>\n",
       "      <th>36</th>\n",
       "      <td>138</td>\n",
       "    </tr>\n",
       "    <tr>\n",
       "      <th>37</th>\n",
       "      <td>133</td>\n",
       "    </tr>\n",
       "    <tr>\n",
       "      <th>38</th>\n",
       "      <td>120</td>\n",
       "    </tr>\n",
       "    <tr>\n",
       "      <th>39</th>\n",
       "      <td>123</td>\n",
       "    </tr>\n",
       "    <tr>\n",
       "      <th>40</th>\n",
       "      <td>134</td>\n",
       "    </tr>\n",
       "    <tr>\n",
       "      <th>41</th>\n",
       "      <td>127</td>\n",
       "    </tr>\n",
       "    <tr>\n",
       "      <th>42</th>\n",
       "      <td>122</td>\n",
       "    </tr>\n",
       "    <tr>\n",
       "      <th>43</th>\n",
       "      <td>106</td>\n",
       "    </tr>\n",
       "    <tr>\n",
       "      <th>44</th>\n",
       "      <td>98</td>\n",
       "    </tr>\n",
       "    <tr>\n",
       "      <th>45</th>\n",
       "      <td>106</td>\n",
       "    </tr>\n",
       "    <tr>\n",
       "      <th>46</th>\n",
       "      <td>101</td>\n",
       "    </tr>\n",
       "    <tr>\n",
       "      <th>47</th>\n",
       "      <td>96</td>\n",
       "    </tr>\n",
       "    <tr>\n",
       "      <th>48</th>\n",
       "      <td>76</td>\n",
       "    </tr>\n",
       "    <tr>\n",
       "      <th>49</th>\n",
       "      <td>75</td>\n",
       "    </tr>\n",
       "    <tr>\n",
       "      <th>50</th>\n",
       "      <td>68</td>\n",
       "    </tr>\n",
       "    <tr>\n",
       "      <th>51</th>\n",
       "      <td>61</td>\n",
       "    </tr>\n",
       "    <tr>\n",
       "      <th>52</th>\n",
       "      <td>56</td>\n",
       "    </tr>\n",
       "    <tr>\n",
       "      <th>53</th>\n",
       "      <td>48</td>\n",
       "    </tr>\n",
       "    <tr>\n",
       "      <th>54</th>\n",
       "      <td>45</td>\n",
       "    </tr>\n",
       "    <tr>\n",
       "      <th>55</th>\n",
       "      <td>41</td>\n",
       "    </tr>\n",
       "    <tr>\n",
       "      <th>56</th>\n",
       "      <td>24</td>\n",
       "    </tr>\n",
       "    <tr>\n",
       "      <th>57</th>\n",
       "      <td>23</td>\n",
       "    </tr>\n",
       "    <tr>\n",
       "      <th>58</th>\n",
       "      <td>19</td>\n",
       "    </tr>\n",
       "    <tr>\n",
       "      <th>59</th>\n",
       "      <td>15</td>\n",
       "    </tr>\n",
       "    <tr>\n",
       "      <th>60</th>\n",
       "      <td>15</td>\n",
       "    </tr>\n",
       "    <tr>\n",
       "      <th>61</th>\n",
       "      <td>7</td>\n",
       "    </tr>\n",
       "    <tr>\n",
       "      <th>62</th>\n",
       "      <td>3</td>\n",
       "    </tr>\n",
       "    <tr>\n",
       "      <th>63</th>\n",
       "      <td>3</td>\n",
       "    </tr>\n",
       "    <tr>\n",
       "      <th>64</th>\n",
       "      <td>2</td>\n",
       "    </tr>\n",
       "    <tr>\n",
       "      <th>65</th>\n",
       "      <td>5</td>\n",
       "    </tr>\n",
       "    <tr>\n",
       "      <th>66</th>\n",
       "      <td>3</td>\n",
       "    </tr>\n",
       "    <tr>\n",
       "      <th>67</th>\n",
       "      <td>1</td>\n",
       "    </tr>\n",
       "    <tr>\n",
       "      <th>70</th>\n",
       "      <td>1</td>\n",
       "    </tr>\n",
       "    <tr>\n",
       "      <th>73</th>\n",
       "      <td>1</td>\n",
       "    </tr>\n",
       "    <tr>\n",
       "      <th>74</th>\n",
       "      <td>2</td>\n",
       "    </tr>\n",
       "  </tbody>\n",
       "</table>\n",
       "</div>"
      ],
      "text/plain": [
       "     AGE\n",
       "AGE     \n",
       "19   399\n",
       "20    62\n",
       "21    61\n",
       "22    71\n",
       "23    60\n",
       "24    86\n",
       "25    79\n",
       "26    93\n",
       "27   100\n",
       "28   120\n",
       "29   115\n",
       "30   114\n",
       "31   132\n",
       "32   122\n",
       "33   126\n",
       "34   129\n",
       "35   104\n",
       "36   138\n",
       "37   133\n",
       "38   120\n",
       "39   123\n",
       "40   134\n",
       "41   127\n",
       "42   122\n",
       "43   106\n",
       "44    98\n",
       "45   106\n",
       "46   101\n",
       "47    96\n",
       "48    76\n",
       "49    75\n",
       "50    68\n",
       "51    61\n",
       "52    56\n",
       "53    48\n",
       "54    45\n",
       "55    41\n",
       "56    24\n",
       "57    23\n",
       "58    19\n",
       "59    15\n",
       "60    15\n",
       "61     7\n",
       "62     3\n",
       "63     3\n",
       "64     2\n",
       "65     5\n",
       "66     3\n",
       "67     1\n",
       "70     1\n",
       "73     1\n",
       "74     2"
      ]
     },
     "execution_count": 51,
     "metadata": {},
     "output_type": "execute_result"
    }
   ],
   "source": [
    "# agrupando por número de acomodações\n",
    "df.groupby('AGE').agg({'AGE': 'count'})"
   ]
  },
  {
   "cell_type": "code",
   "execution_count": 52,
   "metadata": {},
   "outputs": [],
   "source": [
    "df['AGE_FILTER'] = pd.cut(df['AGE'], \n",
    "                    bins = [0, 22, 27, 33, 40, 45, 55, sys.maxsize], \n",
    "                    labels = ['Curtindo a vida', 'Contas pra pagar', \n",
    "                              'De bem com a vida', 'Familia', \n",
    "                              'Barriga de chop', 'Cuidando da saúde', \n",
    "                              'Aposentado'])\n",
    "\n",
    "df['AGE_FILTER'] = df['AGE_FILTER'].astype(object)"
   ]
  },
  {
   "cell_type": "code",
   "execution_count": 53,
   "metadata": {},
   "outputs": [
    {
     "data": {
      "text/html": [
       "<div>\n",
       "<style scoped>\n",
       "    .dataframe tbody tr th:only-of-type {\n",
       "        vertical-align: middle;\n",
       "    }\n",
       "\n",
       "    .dataframe tbody tr th {\n",
       "        vertical-align: top;\n",
       "    }\n",
       "\n",
       "    .dataframe thead th {\n",
       "        text-align: right;\n",
       "    }\n",
       "</style>\n",
       "<table border=\"1\" class=\"dataframe\">\n",
       "  <thead>\n",
       "    <tr style=\"text-align: right;\">\n",
       "      <th></th>\n",
       "      <th>AGE_FILTER</th>\n",
       "    </tr>\n",
       "    <tr>\n",
       "      <th>AGE_FILTER</th>\n",
       "      <th></th>\n",
       "    </tr>\n",
       "  </thead>\n",
       "  <tbody>\n",
       "    <tr>\n",
       "      <th>Aposentado</th>\n",
       "      <td>124</td>\n",
       "    </tr>\n",
       "    <tr>\n",
       "      <th>Barriga de chop</th>\n",
       "      <td>559</td>\n",
       "    </tr>\n",
       "    <tr>\n",
       "      <th>Contas pra pagar</th>\n",
       "      <td>418</td>\n",
       "    </tr>\n",
       "    <tr>\n",
       "      <th>Cuidando da saúde</th>\n",
       "      <td>667</td>\n",
       "    </tr>\n",
       "    <tr>\n",
       "      <th>Curtindo a vida</th>\n",
       "      <td>593</td>\n",
       "    </tr>\n",
       "    <tr>\n",
       "      <th>De bem com a vida</th>\n",
       "      <td>729</td>\n",
       "    </tr>\n",
       "    <tr>\n",
       "      <th>Familia</th>\n",
       "      <td>881</td>\n",
       "    </tr>\n",
       "  </tbody>\n",
       "</table>\n",
       "</div>"
      ],
      "text/plain": [
       "                   AGE_FILTER\n",
       "AGE_FILTER                   \n",
       "Aposentado                124\n",
       "Barriga de chop           559\n",
       "Contas pra pagar          418\n",
       "Cuidando da saúde         667\n",
       "Curtindo a vida           593\n",
       "De bem com a vida         729\n",
       "Familia                   881"
      ]
     },
     "execution_count": 53,
     "metadata": {},
     "output_type": "execute_result"
    }
   ],
   "source": [
    "# agrupando por número de acomodações\n",
    "df.groupby('AGE_FILTER').agg({'AGE_FILTER': 'count'})"
   ]
  },
  {
   "cell_type": "markdown",
   "metadata": {},
   "source": [
    "### 1.5 Dataset LOANS"
   ]
  },
  {
   "cell_type": "code",
   "execution_count": 54,
   "metadata": {},
   "outputs": [
    {
     "data": {
      "text/html": [
       "<div>\n",
       "<style scoped>\n",
       "    .dataframe tbody tr th:only-of-type {\n",
       "        vertical-align: middle;\n",
       "    }\n",
       "\n",
       "    .dataframe tbody tr th {\n",
       "        vertical-align: top;\n",
       "    }\n",
       "\n",
       "    .dataframe thead th {\n",
       "        text-align: right;\n",
       "    }\n",
       "</style>\n",
       "<table border=\"1\" class=\"dataframe\">\n",
       "  <thead>\n",
       "    <tr style=\"text-align: right;\">\n",
       "      <th></th>\n",
       "      <th>ID</th>\n",
       "      <th>PAYMENT_TERM</th>\n",
       "      <th>INSTALLMENT_PERCENT</th>\n",
       "      <th>LOAN_AMOUNT</th>\n",
       "      <th>ALLOW</th>\n",
       "      <th>AGE</th>\n",
       "      <th>JOB_TYPE</th>\n",
       "      <th>DEPENDENTS</th>\n",
       "      <th>TELEPHONE</th>\n",
       "      <th>FOREIGN_WORKER</th>\n",
       "      <th>EMPLOYMENT_DURATION</th>\n",
       "      <th>CURRENT_RESIDENCE_DURATION</th>\n",
       "      <th>CHECKING_BALANCE</th>\n",
       "      <th>EXISTING_SAVINGS</th>\n",
       "      <th>EXISTING_CREDITS_COUNT</th>\n",
       "    </tr>\n",
       "  </thead>\n",
       "  <tbody>\n",
       "    <tr>\n",
       "      <th>count</th>\n",
       "      <td>3.971000e+03</td>\n",
       "      <td>3947.000000</td>\n",
       "      <td>3946.000000</td>\n",
       "      <td>3953.000000</td>\n",
       "      <td>3971.000000</td>\n",
       "      <td>3971.000000</td>\n",
       "      <td>3971.000000</td>\n",
       "      <td>3971.000000</td>\n",
       "      <td>3971.000000</td>\n",
       "      <td>3971.000000</td>\n",
       "      <td>3971.000000</td>\n",
       "      <td>3971.000000</td>\n",
       "      <td>3971.000000</td>\n",
       "      <td>3971.000000</td>\n",
       "      <td>3971.000000</td>\n",
       "    </tr>\n",
       "    <tr>\n",
       "      <th>mean</th>\n",
       "      <td>6.602624e+05</td>\n",
       "      <td>652.303015</td>\n",
       "      <td>2.978966</td>\n",
       "      <td>3472.713129</td>\n",
       "      <td>0.665827</td>\n",
       "      <td>35.648199</td>\n",
       "      <td>2.442206</td>\n",
       "      <td>1.157391</td>\n",
       "      <td>0.401662</td>\n",
       "      <td>0.976328</td>\n",
       "      <td>4.145303</td>\n",
       "      <td>2.865777</td>\n",
       "      <td>143.100859</td>\n",
       "      <td>612.445749</td>\n",
       "      <td>1.287081</td>\n",
       "    </tr>\n",
       "    <tr>\n",
       "      <th>std</th>\n",
       "      <td>3.727368e+05</td>\n",
       "      <td>337.994364</td>\n",
       "      <td>1.122108</td>\n",
       "      <td>2489.348994</td>\n",
       "      <td>0.471760</td>\n",
       "      <td>10.795226</td>\n",
       "      <td>0.924817</td>\n",
       "      <td>0.364215</td>\n",
       "      <td>0.490296</td>\n",
       "      <td>0.152043</td>\n",
       "      <td>3.606989</td>\n",
       "      <td>1.104999</td>\n",
       "      <td>1438.437579</td>\n",
       "      <td>2654.301650</td>\n",
       "      <td>0.500561</td>\n",
       "    </tr>\n",
       "    <tr>\n",
       "      <th>min</th>\n",
       "      <td>9.800000e+01</td>\n",
       "      <td>120.000000</td>\n",
       "      <td>1.000000</td>\n",
       "      <td>250.000000</td>\n",
       "      <td>0.000000</td>\n",
       "      <td>19.000000</td>\n",
       "      <td>0.000000</td>\n",
       "      <td>1.000000</td>\n",
       "      <td>0.000000</td>\n",
       "      <td>0.000000</td>\n",
       "      <td>0.000000</td>\n",
       "      <td>1.000000</td>\n",
       "      <td>-2797.250000</td>\n",
       "      <td>0.000000</td>\n",
       "      <td>1.000000</td>\n",
       "    </tr>\n",
       "    <tr>\n",
       "      <th>25%</th>\n",
       "      <td>3.418460e+05</td>\n",
       "      <td>390.000000</td>\n",
       "      <td>2.000000</td>\n",
       "      <td>1328.000000</td>\n",
       "      <td>0.000000</td>\n",
       "      <td>27.000000</td>\n",
       "      <td>2.000000</td>\n",
       "      <td>1.000000</td>\n",
       "      <td>0.000000</td>\n",
       "      <td>1.000000</td>\n",
       "      <td>0.000000</td>\n",
       "      <td>2.000000</td>\n",
       "      <td>0.000000</td>\n",
       "      <td>0.000000</td>\n",
       "      <td>1.000000</td>\n",
       "    </tr>\n",
       "    <tr>\n",
       "      <th>50%</th>\n",
       "      <td>6.672140e+05</td>\n",
       "      <td>651.000000</td>\n",
       "      <td>3.000000</td>\n",
       "      <td>3229.000000</td>\n",
       "      <td>1.000000</td>\n",
       "      <td>36.000000</td>\n",
       "      <td>3.000000</td>\n",
       "      <td>1.000000</td>\n",
       "      <td>0.000000</td>\n",
       "      <td>1.000000</td>\n",
       "      <td>4.000000</td>\n",
       "      <td>3.000000</td>\n",
       "      <td>0.000000</td>\n",
       "      <td>32.720000</td>\n",
       "      <td>1.000000</td>\n",
       "    </tr>\n",
       "    <tr>\n",
       "      <th>75%</th>\n",
       "      <td>9.766990e+05</td>\n",
       "      <td>899.000000</td>\n",
       "      <td>4.000000</td>\n",
       "      <td>5317.000000</td>\n",
       "      <td>1.000000</td>\n",
       "      <td>44.000000</td>\n",
       "      <td>3.000000</td>\n",
       "      <td>1.000000</td>\n",
       "      <td>1.000000</td>\n",
       "      <td>1.000000</td>\n",
       "      <td>7.000000</td>\n",
       "      <td>4.000000</td>\n",
       "      <td>0.000000</td>\n",
       "      <td>364.845000</td>\n",
       "      <td>2.000000</td>\n",
       "    </tr>\n",
       "    <tr>\n",
       "      <th>max</th>\n",
       "      <td>1.320082e+06</td>\n",
       "      <td>1984.000000</td>\n",
       "      <td>6.000000</td>\n",
       "      <td>11676.000000</td>\n",
       "      <td>1.000000</td>\n",
       "      <td>74.000000</td>\n",
       "      <td>3.000000</td>\n",
       "      <td>2.000000</td>\n",
       "      <td>1.000000</td>\n",
       "      <td>1.000000</td>\n",
       "      <td>18.000000</td>\n",
       "      <td>6.000000</td>\n",
       "      <td>14928.780000</td>\n",
       "      <td>29203.900000</td>\n",
       "      <td>3.000000</td>\n",
       "    </tr>\n",
       "  </tbody>\n",
       "</table>\n",
       "</div>"
      ],
      "text/plain": [
       "                 ID  PAYMENT_TERM  INSTALLMENT_PERCENT   LOAN_AMOUNT  \\\n",
       "count  3.971000e+03   3947.000000          3946.000000   3953.000000   \n",
       "mean   6.602624e+05    652.303015             2.978966   3472.713129   \n",
       "std    3.727368e+05    337.994364             1.122108   2489.348994   \n",
       "min    9.800000e+01    120.000000             1.000000    250.000000   \n",
       "25%    3.418460e+05    390.000000             2.000000   1328.000000   \n",
       "50%    6.672140e+05    651.000000             3.000000   3229.000000   \n",
       "75%    9.766990e+05    899.000000             4.000000   5317.000000   \n",
       "max    1.320082e+06   1984.000000             6.000000  11676.000000   \n",
       "\n",
       "             ALLOW          AGE     JOB_TYPE   DEPENDENTS    TELEPHONE  \\\n",
       "count  3971.000000  3971.000000  3971.000000  3971.000000  3971.000000   \n",
       "mean      0.665827    35.648199     2.442206     1.157391     0.401662   \n",
       "std       0.471760    10.795226     0.924817     0.364215     0.490296   \n",
       "min       0.000000    19.000000     0.000000     1.000000     0.000000   \n",
       "25%       0.000000    27.000000     2.000000     1.000000     0.000000   \n",
       "50%       1.000000    36.000000     3.000000     1.000000     0.000000   \n",
       "75%       1.000000    44.000000     3.000000     1.000000     1.000000   \n",
       "max       1.000000    74.000000     3.000000     2.000000     1.000000   \n",
       "\n",
       "       FOREIGN_WORKER  EMPLOYMENT_DURATION  CURRENT_RESIDENCE_DURATION  \\\n",
       "count     3971.000000          3971.000000                 3971.000000   \n",
       "mean         0.976328             4.145303                    2.865777   \n",
       "std          0.152043             3.606989                    1.104999   \n",
       "min          0.000000             0.000000                    1.000000   \n",
       "25%          1.000000             0.000000                    2.000000   \n",
       "50%          1.000000             4.000000                    3.000000   \n",
       "75%          1.000000             7.000000                    4.000000   \n",
       "max          1.000000            18.000000                    6.000000   \n",
       "\n",
       "       CHECKING_BALANCE  EXISTING_SAVINGS  EXISTING_CREDITS_COUNT  \n",
       "count       3971.000000       3971.000000             3971.000000  \n",
       "mean         143.100859        612.445749                1.287081  \n",
       "std         1438.437579       2654.301650                0.500561  \n",
       "min        -2797.250000          0.000000                1.000000  \n",
       "25%            0.000000          0.000000                1.000000  \n",
       "50%            0.000000         32.720000                1.000000  \n",
       "75%            0.000000        364.845000                2.000000  \n",
       "max        14928.780000      29203.900000                3.000000  "
      ]
     },
     "execution_count": 54,
     "metadata": {},
     "output_type": "execute_result"
    }
   ],
   "source": [
    "df.describe()"
   ]
  },
  {
   "cell_type": "code",
   "execution_count": 55,
   "metadata": {
    "scrolled": true
   },
   "outputs": [
    {
     "data": {
      "text/html": [
       "<div>\n",
       "<style scoped>\n",
       "    .dataframe tbody tr th:only-of-type {\n",
       "        vertical-align: middle;\n",
       "    }\n",
       "\n",
       "    .dataframe tbody tr th {\n",
       "        vertical-align: top;\n",
       "    }\n",
       "\n",
       "    .dataframe thead th {\n",
       "        text-align: right;\n",
       "    }\n",
       "</style>\n",
       "<table border=\"1\" class=\"dataframe\">\n",
       "  <thead>\n",
       "    <tr style=\"text-align: right;\">\n",
       "      <th></th>\n",
       "      <th>INSTALLMENT_PLANS</th>\n",
       "      <th>LOAN_PURPOSE</th>\n",
       "      <th>OTHERS_ON_LOAN</th>\n",
       "      <th>SEX</th>\n",
       "      <th>PROPERTY</th>\n",
       "      <th>HOUSING</th>\n",
       "      <th>CREDIT_HISTORY</th>\n",
       "      <th>CHECKING</th>\n",
       "      <th>CHECKING_BALANCE_DP</th>\n",
       "      <th>AGE_FILTER</th>\n",
       "    </tr>\n",
       "  </thead>\n",
       "  <tbody>\n",
       "    <tr>\n",
       "      <th>count</th>\n",
       "      <td>3950</td>\n",
       "      <td>3951</td>\n",
       "      <td>3949</td>\n",
       "      <td>3971</td>\n",
       "      <td>3971</td>\n",
       "      <td>3971</td>\n",
       "      <td>3971</td>\n",
       "      <td>3971</td>\n",
       "      <td>3971</td>\n",
       "      <td>3971</td>\n",
       "    </tr>\n",
       "    <tr>\n",
       "      <th>unique</th>\n",
       "      <td>3</td>\n",
       "      <td>11</td>\n",
       "      <td>3</td>\n",
       "      <td>2</td>\n",
       "      <td>4</td>\n",
       "      <td>3</td>\n",
       "      <td>5</td>\n",
       "      <td>2</td>\n",
       "      <td>3</td>\n",
       "      <td>7</td>\n",
       "    </tr>\n",
       "    <tr>\n",
       "      <th>top</th>\n",
       "      <td>NONE</td>\n",
       "      <td>CAR_NEW</td>\n",
       "      <td>NONE</td>\n",
       "      <td>M</td>\n",
       "      <td>SAVINGS_INSURANCE</td>\n",
       "      <td>OWN</td>\n",
       "      <td>NO_CREDITS</td>\n",
       "      <td>NO_CHECKING</td>\n",
       "      <td>Zerado</td>\n",
       "      <td>Familia</td>\n",
       "    </tr>\n",
       "    <tr>\n",
       "      <th>freq</th>\n",
       "      <td>2764</td>\n",
       "      <td>747</td>\n",
       "      <td>3288</td>\n",
       "      <td>2482</td>\n",
       "      <td>1295</td>\n",
       "      <td>2569</td>\n",
       "      <td>1597</td>\n",
       "      <td>2508</td>\n",
       "      <td>2581</td>\n",
       "      <td>881</td>\n",
       "    </tr>\n",
       "  </tbody>\n",
       "</table>\n",
       "</div>"
      ],
      "text/plain": [
       "       INSTALLMENT_PLANS LOAN_PURPOSE OTHERS_ON_LOAN   SEX           PROPERTY  \\\n",
       "count               3950         3951           3949  3971               3971   \n",
       "unique                 3           11              3     2                  4   \n",
       "top                 NONE      CAR_NEW           NONE     M  SAVINGS_INSURANCE   \n",
       "freq                2764          747           3288  2482               1295   \n",
       "\n",
       "       HOUSING CREDIT_HISTORY     CHECKING CHECKING_BALANCE_DP AGE_FILTER  \n",
       "count     3971           3971         3971                3971       3971  \n",
       "unique       3              5            2                   3          7  \n",
       "top        OWN     NO_CREDITS  NO_CHECKING              Zerado    Familia  \n",
       "freq      2569           1597         2508                2581        881  "
      ]
     },
     "execution_count": 55,
     "metadata": {},
     "output_type": "execute_result"
    }
   ],
   "source": [
    "df.describe(include = 'O')"
   ]
  },
  {
   "cell_type": "code",
   "execution_count": 56,
   "metadata": {
    "scrolled": true
   },
   "outputs": [
    {
     "name": "stdout",
     "output_type": "stream",
     "text": [
      "<class 'pandas.core.frame.DataFrame'>\n",
      "Int64Index: 3971 entries, 0 to 3998\n",
      "Data columns (total 25 columns):\n",
      " #   Column                      Non-Null Count  Dtype  \n",
      "---  ------                      --------------  -----  \n",
      " 0   ID                          3971 non-null   int64  \n",
      " 1   PAYMENT_TERM                3947 non-null   float64\n",
      " 2   INSTALLMENT_PLANS           3950 non-null   object \n",
      " 3   INSTALLMENT_PERCENT         3946 non-null   float64\n",
      " 4   LOAN_PURPOSE                3951 non-null   object \n",
      " 5   LOAN_AMOUNT                 3953 non-null   float64\n",
      " 6   OTHERS_ON_LOAN              3949 non-null   object \n",
      " 7   ALLOW                       3971 non-null   int64  \n",
      " 8   SEX                         3971 non-null   object \n",
      " 9   AGE                         3971 non-null   int32  \n",
      " 10  JOB_TYPE                    3971 non-null   int32  \n",
      " 11  DEPENDENTS                  3971 non-null   int32  \n",
      " 12  TELEPHONE                   3971 non-null   int32  \n",
      " 13  FOREIGN_WORKER              3971 non-null   int32  \n",
      " 14  EMPLOYMENT_DURATION         3971 non-null   int32  \n",
      " 15  PROPERTY                    3971 non-null   object \n",
      " 16  HOUSING                     3971 non-null   object \n",
      " 17  CURRENT_RESIDENCE_DURATION  3971 non-null   int32  \n",
      " 18  CHECKING_BALANCE            3971 non-null   float64\n",
      " 19  CREDIT_HISTORY              3971 non-null   object \n",
      " 20  EXISTING_SAVINGS            3971 non-null   float64\n",
      " 21  EXISTING_CREDITS_COUNT      3971 non-null   float64\n",
      " 22  CHECKING                    3971 non-null   object \n",
      " 23  CHECKING_BALANCE_DP         3971 non-null   object \n",
      " 24  AGE_FILTER                  3971 non-null   object \n",
      "dtypes: float64(6), int32(7), int64(2), object(10)\n",
      "memory usage: 698.0+ KB\n"
     ]
    }
   ],
   "source": [
    "df.info()"
   ]
  },
  {
   "cell_type": "markdown",
   "metadata": {},
   "source": [
    "#### 1.4.1 Valores faltantes"
   ]
  },
  {
   "cell_type": "code",
   "execution_count": 57,
   "metadata": {
    "scrolled": false
   },
   "outputs": [
    {
     "name": "stdout",
     "output_type": "stream",
     "text": [
      "Valores nulos antes da transformação: \n",
      "\n",
      "ID                             0\n",
      "PAYMENT_TERM                  24\n",
      "INSTALLMENT_PLANS             21\n",
      "INSTALLMENT_PERCENT           25\n",
      "LOAN_PURPOSE                  20\n",
      "LOAN_AMOUNT                   18\n",
      "OTHERS_ON_LOAN                22\n",
      "ALLOW                          0\n",
      "SEX                            0\n",
      "AGE                            0\n",
      "JOB_TYPE                       0\n",
      "DEPENDENTS                     0\n",
      "TELEPHONE                      0\n",
      "FOREIGN_WORKER                 0\n",
      "EMPLOYMENT_DURATION            0\n",
      "PROPERTY                       0\n",
      "HOUSING                        0\n",
      "CURRENT_RESIDENCE_DURATION     0\n",
      "CHECKING_BALANCE               0\n",
      "CREDIT_HISTORY                 0\n",
      "EXISTING_SAVINGS               0\n",
      "EXISTING_CREDITS_COUNT         0\n",
      "CHECKING                       0\n",
      "CHECKING_BALANCE_DP            0\n",
      "AGE_FILTER                     0\n",
      "dtype: int64\n",
      "\n"
     ]
    }
   ],
   "source": [
    "print(\"Valores nulos antes da transformação: \\n\\n{}\\n\".format(df.isnull().sum(axis = 0)))"
   ]
  },
  {
   "cell_type": "code",
   "execution_count": 58,
   "metadata": {
    "scrolled": true
   },
   "outputs": [
    {
     "data": {
      "text/plain": [
       "120.0     176\n",
       "124.0     166\n",
       "930.0     110\n",
       "240.0      80\n",
       "775.0      75\n",
       "         ... \n",
       "1891.0      1\n",
       "1710.0      1\n",
       "1560.0      1\n",
       "1984.0      1\n",
       "1860.0      1\n",
       "Name: PAYMENT_TERM, Length: 106, dtype: int64"
      ]
     },
     "execution_count": 58,
     "metadata": {},
     "output_type": "execute_result"
    }
   ],
   "source": [
    "df['PAYMENT_TERM'].value_counts()"
   ]
  },
  {
   "cell_type": "code",
   "execution_count": 59,
   "metadata": {
    "scrolled": false
   },
   "outputs": [
    {
     "data": {
      "text/plain": [
       "NONE      2764\n",
       "STORES     808\n",
       "BANK       378\n",
       "Name: INSTALLMENT_PLANS, dtype: int64"
      ]
     },
     "execution_count": 59,
     "metadata": {},
     "output_type": "execute_result"
    }
   ],
   "source": [
    "df['INSTALLMENT_PLANS'].value_counts()"
   ]
  },
  {
   "cell_type": "code",
   "execution_count": 60,
   "metadata": {
    "scrolled": true
   },
   "outputs": [
    {
     "data": {
      "text/plain": [
       "3.0    1290\n",
       "4.0     962\n",
       "2.0     943\n",
       "1.0     404\n",
       "5.0     335\n",
       "6.0      12\n",
       "Name: INSTALLMENT_PERCENT, dtype: int64"
      ]
     },
     "execution_count": 60,
     "metadata": {},
     "output_type": "execute_result"
    }
   ],
   "source": [
    "df['INSTALLMENT_PERCENT'].value_counts()"
   ]
  },
  {
   "cell_type": "code",
   "execution_count": 61,
   "metadata": {},
   "outputs": [
    {
     "data": {
      "text/plain": [
       "CAR_NEW       747\n",
       "FURNITURE     685\n",
       "CAR_USED      648\n",
       "RADIO_TV      598\n",
       "APPLIANCES    432\n",
       "REPAIRS       226\n",
       "VACATION      161\n",
       "RETRAINING    129\n",
       "EDUCATION     126\n",
       "BUSINESS      113\n",
       "OTHER          86\n",
       "Name: LOAN_PURPOSE, dtype: int64"
      ]
     },
     "execution_count": 61,
     "metadata": {},
     "output_type": "execute_result"
    }
   ],
   "source": [
    "df['LOAN_PURPOSE'].value_counts()"
   ]
  },
  {
   "cell_type": "code",
   "execution_count": 62,
   "metadata": {},
   "outputs": [
    {
     "data": {
      "text/plain": [
       "250.0     575\n",
       "1820.0      5\n",
       "1993.0      5\n",
       "2992.0      4\n",
       "1395.0      4\n",
       "         ... \n",
       "6585.0      1\n",
       "1886.0      1\n",
       "1292.0      1\n",
       "6434.0      1\n",
       "6172.0      1\n",
       "Name: LOAN_AMOUNT, Length: 2779, dtype: int64"
      ]
     },
     "execution_count": 62,
     "metadata": {},
     "output_type": "execute_result"
    }
   ],
   "source": [
    "df['LOAN_AMOUNT'].value_counts()"
   ]
  },
  {
   "cell_type": "code",
   "execution_count": 63,
   "metadata": {},
   "outputs": [
    {
     "data": {
      "text/plain": [
       "NONE            3288\n",
       "CO-APPLICANT     567\n",
       "GUARANTOR         94\n",
       "Name: OTHERS_ON_LOAN, dtype: int64"
      ]
     },
     "execution_count": 63,
     "metadata": {},
     "output_type": "execute_result"
    }
   ],
   "source": [
    "df['OTHERS_ON_LOAN'].value_counts()"
   ]
  },
  {
   "cell_type": "code",
   "execution_count": 64,
   "metadata": {},
   "outputs": [],
   "source": [
    "# Trocando pelo valor mais frequente\n",
    "df = df.fillna(value = {'PAYMENT_TERM': 120.0, \n",
    "                              'INSTALLMENT_PLANS': 'NONE', \n",
    "                              'INSTALLMENT_PERCENT': 3.0,\n",
    "                              'LOAN_PURPOSE': 'CAR_NEW',\n",
    "                              'LOAN_AMOUNT': 250.0,\n",
    "                              'OTHERS_ON_LOAN': 'NONE'})"
   ]
  },
  {
   "cell_type": "code",
   "execution_count": 65,
   "metadata": {
    "scrolled": false
   },
   "outputs": [
    {
     "name": "stdout",
     "output_type": "stream",
     "text": [
      "Valores nulos após a transformação: \n",
      "\n",
      "ID                            0\n",
      "PAYMENT_TERM                  0\n",
      "INSTALLMENT_PLANS             0\n",
      "INSTALLMENT_PERCENT           0\n",
      "LOAN_PURPOSE                  0\n",
      "LOAN_AMOUNT                   0\n",
      "OTHERS_ON_LOAN                0\n",
      "ALLOW                         0\n",
      "SEX                           0\n",
      "AGE                           0\n",
      "JOB_TYPE                      0\n",
      "DEPENDENTS                    0\n",
      "TELEPHONE                     0\n",
      "FOREIGN_WORKER                0\n",
      "EMPLOYMENT_DURATION           0\n",
      "PROPERTY                      0\n",
      "HOUSING                       0\n",
      "CURRENT_RESIDENCE_DURATION    0\n",
      "CHECKING_BALANCE              0\n",
      "CREDIT_HISTORY                0\n",
      "EXISTING_SAVINGS              0\n",
      "EXISTING_CREDITS_COUNT        0\n",
      "CHECKING                      0\n",
      "CHECKING_BALANCE_DP           0\n",
      "AGE_FILTER                    0\n",
      "dtype: int64\n",
      "\n"
     ]
    }
   ],
   "source": [
    "print(\"Valores nulos após a transformação: \\n\\n{}\\n\".format(df.isnull().sum(axis = 0)))"
   ]
  },
  {
   "cell_type": "markdown",
   "metadata": {},
   "source": [
    "#### 1.3.2 Verificação e tratamento do tipo das colunas"
   ]
  },
  {
   "cell_type": "code",
   "execution_count": 66,
   "metadata": {
    "scrolled": true
   },
   "outputs": [
    {
     "data": {
      "text/html": [
       "<div>\n",
       "<style scoped>\n",
       "    .dataframe tbody tr th:only-of-type {\n",
       "        vertical-align: middle;\n",
       "    }\n",
       "\n",
       "    .dataframe tbody tr th {\n",
       "        vertical-align: top;\n",
       "    }\n",
       "\n",
       "    .dataframe thead th {\n",
       "        text-align: right;\n",
       "    }\n",
       "</style>\n",
       "<table border=\"1\" class=\"dataframe\">\n",
       "  <thead>\n",
       "    <tr style=\"text-align: right;\">\n",
       "      <th></th>\n",
       "      <th>ID</th>\n",
       "      <th>PAYMENT_TERM</th>\n",
       "      <th>INSTALLMENT_PLANS</th>\n",
       "      <th>INSTALLMENT_PERCENT</th>\n",
       "      <th>LOAN_PURPOSE</th>\n",
       "      <th>LOAN_AMOUNT</th>\n",
       "      <th>OTHERS_ON_LOAN</th>\n",
       "      <th>ALLOW</th>\n",
       "      <th>SEX</th>\n",
       "      <th>AGE</th>\n",
       "      <th>...</th>\n",
       "      <th>PROPERTY</th>\n",
       "      <th>HOUSING</th>\n",
       "      <th>CURRENT_RESIDENCE_DURATION</th>\n",
       "      <th>CHECKING_BALANCE</th>\n",
       "      <th>CREDIT_HISTORY</th>\n",
       "      <th>EXISTING_SAVINGS</th>\n",
       "      <th>EXISTING_CREDITS_COUNT</th>\n",
       "      <th>CHECKING</th>\n",
       "      <th>CHECKING_BALANCE_DP</th>\n",
       "      <th>AGE_FILTER</th>\n",
       "    </tr>\n",
       "  </thead>\n",
       "  <tbody>\n",
       "    <tr>\n",
       "      <th>2579</th>\n",
       "      <td>679305</td>\n",
       "      <td>868.0</td>\n",
       "      <td>NONE</td>\n",
       "      <td>3.0</td>\n",
       "      <td>FURNITURE</td>\n",
       "      <td>4048.0</td>\n",
       "      <td>NONE</td>\n",
       "      <td>1</td>\n",
       "      <td>M</td>\n",
       "      <td>24</td>\n",
       "      <td>...</td>\n",
       "      <td>SAVINGS_INSURANCE</td>\n",
       "      <td>OWN</td>\n",
       "      <td>2</td>\n",
       "      <td>1583.79</td>\n",
       "      <td>PRIOR_PAYMENTS_DELAYED</td>\n",
       "      <td>237.32</td>\n",
       "      <td>2.0</td>\n",
       "      <td>CHECKING</td>\n",
       "      <td>Positivo</td>\n",
       "      <td>Contas pra pagar</td>\n",
       "    </tr>\n",
       "  </tbody>\n",
       "</table>\n",
       "<p>1 rows × 25 columns</p>\n",
       "</div>"
      ],
      "text/plain": [
       "          ID  PAYMENT_TERM INSTALLMENT_PLANS  INSTALLMENT_PERCENT  \\\n",
       "2579  679305         868.0              NONE                  3.0   \n",
       "\n",
       "     LOAN_PURPOSE  LOAN_AMOUNT OTHERS_ON_LOAN  ALLOW SEX  AGE  ...  \\\n",
       "2579    FURNITURE       4048.0           NONE      1   M   24  ...   \n",
       "\n",
       "               PROPERTY  HOUSING  CURRENT_RESIDENCE_DURATION  \\\n",
       "2579  SAVINGS_INSURANCE      OWN                           2   \n",
       "\n",
       "      CHECKING_BALANCE          CREDIT_HISTORY EXISTING_SAVINGS  \\\n",
       "2579           1583.79  PRIOR_PAYMENTS_DELAYED           237.32   \n",
       "\n",
       "     EXISTING_CREDITS_COUNT  CHECKING  CHECKING_BALANCE_DP        AGE_FILTER  \n",
       "2579                    2.0  CHECKING             Positivo  Contas pra pagar  \n",
       "\n",
       "[1 rows x 25 columns]"
      ]
     },
     "execution_count": 66,
     "metadata": {},
     "output_type": "execute_result"
    }
   ],
   "source": [
    "df.sample()"
   ]
  },
  {
   "cell_type": "code",
   "execution_count": 67,
   "metadata": {
    "scrolled": true
   },
   "outputs": [
    {
     "name": "stdout",
     "output_type": "stream",
     "text": [
      "<class 'pandas.core.frame.DataFrame'>\n",
      "Int64Index: 3971 entries, 0 to 3998\n",
      "Data columns (total 25 columns):\n",
      " #   Column                      Non-Null Count  Dtype  \n",
      "---  ------                      --------------  -----  \n",
      " 0   ID                          3971 non-null   int64  \n",
      " 1   PAYMENT_TERM                3971 non-null   float64\n",
      " 2   INSTALLMENT_PLANS           3971 non-null   object \n",
      " 3   INSTALLMENT_PERCENT         3971 non-null   float64\n",
      " 4   LOAN_PURPOSE                3971 non-null   object \n",
      " 5   LOAN_AMOUNT                 3971 non-null   float64\n",
      " 6   OTHERS_ON_LOAN              3971 non-null   object \n",
      " 7   ALLOW                       3971 non-null   int64  \n",
      " 8   SEX                         3971 non-null   object \n",
      " 9   AGE                         3971 non-null   int32  \n",
      " 10  JOB_TYPE                    3971 non-null   int32  \n",
      " 11  DEPENDENTS                  3971 non-null   int32  \n",
      " 12  TELEPHONE                   3971 non-null   int32  \n",
      " 13  FOREIGN_WORKER              3971 non-null   int32  \n",
      " 14  EMPLOYMENT_DURATION         3971 non-null   int32  \n",
      " 15  PROPERTY                    3971 non-null   object \n",
      " 16  HOUSING                     3971 non-null   object \n",
      " 17  CURRENT_RESIDENCE_DURATION  3971 non-null   int32  \n",
      " 18  CHECKING_BALANCE            3971 non-null   float64\n",
      " 19  CREDIT_HISTORY              3971 non-null   object \n",
      " 20  EXISTING_SAVINGS            3971 non-null   float64\n",
      " 21  EXISTING_CREDITS_COUNT      3971 non-null   float64\n",
      " 22  CHECKING                    3971 non-null   object \n",
      " 23  CHECKING_BALANCE_DP         3971 non-null   object \n",
      " 24  AGE_FILTER                  3971 non-null   object \n",
      "dtypes: float64(6), int32(7), int64(2), object(10)\n",
      "memory usage: 698.0+ KB\n"
     ]
    }
   ],
   "source": [
    "df.info()"
   ]
  },
  {
   "cell_type": "markdown",
   "metadata": {},
   "source": [
    "Podemos observar que algumas colunas nós podemos realizar a alteração do tipo, como nas colunas a seguir:\n",
    "\n",
    "    INSTALLMENT_PERCENT - Alteração para o tipo int"
   ]
  },
  {
   "cell_type": "code",
   "execution_count": 68,
   "metadata": {},
   "outputs": [],
   "source": [
    "# Alteração para o tipo int da coluna INSTALLMENT_PERCENT\n",
    "df['INSTALLMENT_PERCENT'] = df['INSTALLMENT_PERCENT'].astype(int)"
   ]
  },
  {
   "cell_type": "markdown",
   "metadata": {},
   "source": [
    "### 2. Análise Exploratória dos dados"
   ]
  },
  {
   "cell_type": "code",
   "execution_count": 69,
   "metadata": {},
   "outputs": [
    {
     "data": {
      "image/png": "[encoded data removed]",
      "text/plain": [
       "<Figure size 1440x720 with 16 Axes>"
      ]
     },
     "metadata": {
      "needs_background": "light"
     },
     "output_type": "display_data"
    }
   ],
   "source": [
    "df.hist(bins = 70, figsize = (20, 10));"
   ]
  },
  {
   "cell_type": "code",
   "execution_count": 70,
   "metadata": {},
   "outputs": [
    {
     "name": "stderr",
     "output_type": "stream",
     "text": [
      "C:\\Users\\Lucas\\AppData\\Roaming\\Python\\Python37\\site-packages\\seaborn\\_decorators.py:43: FutureWarning: Pass the following variable as a keyword arg: x. From version 0.12, the only valid positional argument will be `data`, and passing other arguments without an explicit keyword will result in an error or misinterpretation.\n",
      "  FutureWarning\n",
      "C:\\Users\\Lucas\\AppData\\Roaming\\Python\\Python37\\site-packages\\seaborn\\_decorators.py:43: FutureWarning: Pass the following variable as a keyword arg: x. From version 0.12, the only valid positional argument will be `data`, and passing other arguments without an explicit keyword will result in an error or misinterpretation.\n",
      "  FutureWarning\n",
      "C:\\Users\\Lucas\\AppData\\Roaming\\Python\\Python37\\site-packages\\seaborn\\_decorators.py:43: FutureWarning: Pass the following variable as a keyword arg: x. From version 0.12, the only valid positional argument will be `data`, and passing other arguments without an explicit keyword will result in an error or misinterpretation.\n",
      "  FutureWarning\n",
      "C:\\Users\\Lucas\\AppData\\Roaming\\Python\\Python37\\site-packages\\seaborn\\_decorators.py:43: FutureWarning: Pass the following variable as a keyword arg: x. From version 0.12, the only valid positional argument will be `data`, and passing other arguments without an explicit keyword will result in an error or misinterpretation.\n",
      "  FutureWarning\n",
      "C:\\Users\\Lucas\\AppData\\Roaming\\Python\\Python37\\site-packages\\seaborn\\_decorators.py:43: FutureWarning: Pass the following variable as a keyword arg: x. From version 0.12, the only valid positional argument will be `data`, and passing other arguments without an explicit keyword will result in an error or misinterpretation.\n",
      "  FutureWarning\n",
      "C:\\Users\\Lucas\\AppData\\Roaming\\Python\\Python37\\site-packages\\seaborn\\_decorators.py:43: FutureWarning: Pass the following variable as a keyword arg: x. From version 0.12, the only valid positional argument will be `data`, and passing other arguments without an explicit keyword will result in an error or misinterpretation.\n",
      "  FutureWarning\n"
     ]
    },
    {
     "data": {
      "text/plain": [
       "<matplotlib.axes._subplots.AxesSubplot at 0x3ef6933c08>"
      ]
     },
     "execution_count": 70,
     "metadata": {},
     "output_type": "execute_result"
    },
    {
     "data": {
      "image/png": "[encoded data removed]",
      "text/plain": [
       "<Figure size 1728x1152 with 6 Axes>"
      ]
     },
     "metadata": {
      "needs_background": "light"
     },
     "output_type": "display_data"
    }
   ],
   "source": [
    "plt.figure(figsize = (24, 16))\n",
    "\n",
    "plt.subplot(2, 4, 1)\n",
    "sns.countplot(df['INSTALLMENT_PLANS'], order = df['INSTALLMENT_PLANS'].value_counts().index, palette = 'cool')\n",
    "plt.subplot(2, 4, 2)\n",
    "sns.countplot(df['OTHERS_ON_LOAN'], order = df['OTHERS_ON_LOAN'].value_counts().index, palette = 'cool')\n",
    "plt.subplot(2, 4, 3)\n",
    "sns.countplot(df['SEX'], order = df['SEX'].value_counts().index, palette = 'cool')\n",
    "plt.subplot(2, 4, 4)\n",
    "sns.countplot(df['PROPERTY'], order = df['PROPERTY'].value_counts().index, palette = 'cool')\n",
    "plt.subplot(2, 4, 5)\n",
    "sns.countplot(df['HOUSING'], order = df['HOUSING'].value_counts().index, palette = 'cool')\n",
    "plt.subplot(2, 4, 6)\n",
    "sns.countplot(df['CHECKING_BALANCE_DP'], order = df['CHECKING_BALANCE_DP'].value_counts().index, palette = 'cool')"
   ]
  },
  {
   "cell_type": "code",
   "execution_count": 71,
   "metadata": {},
   "outputs": [
    {
     "name": "stderr",
     "output_type": "stream",
     "text": [
      "C:\\Users\\Lucas\\AppData\\Roaming\\Python\\Python37\\site-packages\\seaborn\\_decorators.py:43: FutureWarning: Pass the following variable as a keyword arg: x. From version 0.12, the only valid positional argument will be `data`, and passing other arguments without an explicit keyword will result in an error or misinterpretation.\n",
      "  FutureWarning\n"
     ]
    },
    {
     "data": {
      "text/plain": [
       "<matplotlib.axes._subplots.AxesSubplot at 0x3ef684dbc8>"
      ]
     },
     "execution_count": 71,
     "metadata": {},
     "output_type": "execute_result"
    },
    {
     "data": {
      "image/png": "[encoded data removed]",
      "text/plain": [
       "<Figure size 864x432 with 1 Axes>"
      ]
     },
     "metadata": {
      "needs_background": "light"
     },
     "output_type": "display_data"
    }
   ],
   "source": [
    "plt.figure(figsize = (12, 6))\n",
    "sns.countplot(df['AGE_FILTER'], order = df['AGE_FILTER'].value_counts().index, palette = 'cool')"
   ]
  },
  {
   "cell_type": "code",
   "execution_count": 72,
   "metadata": {
    "scrolled": false
   },
   "outputs": [
    {
     "name": "stderr",
     "output_type": "stream",
     "text": [
      "C:\\Users\\Lucas\\AppData\\Roaming\\Python\\Python37\\site-packages\\seaborn\\_decorators.py:43: FutureWarning: Pass the following variable as a keyword arg: x. From version 0.12, the only valid positional argument will be `data`, and passing other arguments without an explicit keyword will result in an error or misinterpretation.\n",
      "  FutureWarning\n"
     ]
    },
    {
     "data": {
      "text/plain": [
       "<matplotlib.axes._subplots.AxesSubplot at 0x3ef659af48>"
      ]
     },
     "execution_count": 72,
     "metadata": {},
     "output_type": "execute_result"
    },
    {
     "data": {
      "image/png": "[encoded data removed]",
      "text/plain": [
       "<Figure size 864x432 with 1 Axes>"
      ]
     },
     "metadata": {
      "needs_background": "light"
     },
     "output_type": "display_data"
    }
   ],
   "source": [
    "plt.figure(figsize = (12, 6))\n",
    "sns.countplot(df['LOAN_PURPOSE'], order = df['LOAN_PURPOSE'].value_counts().index, palette = 'cool')"
   ]
  },
  {
   "cell_type": "code",
   "execution_count": 73,
   "metadata": {},
   "outputs": [
    {
     "name": "stderr",
     "output_type": "stream",
     "text": [
      "C:\\Users\\Lucas\\AppData\\Roaming\\Python\\Python37\\site-packages\\seaborn\\_decorators.py:43: FutureWarning: Pass the following variable as a keyword arg: x. From version 0.12, the only valid positional argument will be `data`, and passing other arguments without an explicit keyword will result in an error or misinterpretation.\n",
      "  FutureWarning\n"
     ]
    },
    {
     "data": {
      "text/plain": [
       "<matplotlib.axes._subplots.AxesSubplot at 0x3ef642f888>"
      ]
     },
     "execution_count": 73,
     "metadata": {},
     "output_type": "execute_result"
    },
    {
     "data": {
      "image/png": "[encoded data removed]",
      "text/plain": [
       "<Figure size 864x432 with 1 Axes>"
      ]
     },
     "metadata": {
      "needs_background": "light"
     },
     "output_type": "display_data"
    }
   ],
   "source": [
    "plt.figure(figsize = (12, 6))\n",
    "\n",
    "sns.countplot(df['CREDIT_HISTORY'], order = df['CREDIT_HISTORY'].value_counts().index, palette = 'cool')"
   ]
  },
  {
   "cell_type": "markdown",
   "metadata": {},
   "source": [
    "#### 2.1 Matriz de Correlação Bivariada"
   ]
  },
  {
   "cell_type": "code",
   "execution_count": 74,
   "metadata": {},
   "outputs": [
    {
     "data": {
      "text/plain": [
       "Text(0.5, 1.0, 'Mapa de Correlação das variáveis númericas')"
      ]
     },
     "execution_count": 74,
     "metadata": {},
     "output_type": "execute_result"
    },
    {
     "data": {
      "image/png": "[encoded data removed]",
      "text/plain": [
       "<Figure size 1296x720 with 2 Axes>"
      ]
     },
     "metadata": {
      "needs_background": "light"
     },
     "output_type": "display_data"
    }
   ],
   "source": [
    "plt.figure(figsize = (18, 10))\n",
    "\n",
    "sns.heatmap(df.corr(), linewidths = 0.1, vmax = 1.0, square = True, \n",
    "            cmap = 'coolwarm', linecolor = 'white', annot = True).set_title(\"Mapa de Correlação das variáveis númericas\")"
   ]
  },
  {
   "cell_type": "markdown",
   "metadata": {},
   "source": [
    "### 3. Modelagem e Avaliação de Modelos de Classificação\n",
    "\n",
    "Com os dados prontos, podemos selecionar um modelo de Machine Learning para treinar com nossos dados. Nesse exemplo, vamos utilizar um modelo de classificação básico, o de Árvore de Decisão.\n",
    "\n",
    "Para conseguir avaliar o desempenho do nosso modelo, vamos dividir os dados que temos entre dados de treino e de teste, e assim, após o treinamento, verificar como ele está se saindo com as predições."
   ]
  },
  {
   "cell_type": "markdown",
   "metadata": {},
   "source": [
    "Abaixo, separamos os dados que queremos predizer dos dados que utilizamos como informações para a predição."
   ]
  },
  {
   "cell_type": "code",
   "execution_count": 75,
   "metadata": {},
   "outputs": [],
   "source": [
    "df = df.sample(frac = 1, random_state = 123).reset_index(drop = True)"
   ]
  },
  {
   "cell_type": "markdown",
   "metadata": {},
   "source": [
    "#### Técnica de balanceamento"
   ]
  },
  {
   "cell_type": "code",
   "execution_count": 76,
   "metadata": {},
   "outputs": [
    {
     "data": {
      "image/png": "[encoded data removed]",
      "text/plain": [
       "<Figure size 648x360 with 1 Axes>"
      ]
     },
     "metadata": {
      "needs_background": "light"
     },
     "output_type": "display_data"
    }
   ],
   "source": [
    "vc = df['ALLOW'].value_counts()\n",
    "plt.figure(figsize = (9, 5))\n",
    "sns.barplot(x = vc.index, y = vc, palette = \"Set2\")\n",
    "plt.show()"
   ]
  },
  {
   "cell_type": "code",
   "execution_count": 77,
   "metadata": {},
   "outputs": [],
   "source": [
    "classe_maior = df[df.ALLOW ==  1]\n",
    "classe_menor  = df[df.ALLOW ==  0]"
   ]
  },
  {
   "cell_type": "code",
   "execution_count": 78,
   "metadata": {},
   "outputs": [
    {
     "data": {
      "text/plain": [
       "(2644, 25)"
      ]
     },
     "metadata": {},
     "output_type": "display_data"
    },
    {
     "data": {
      "text/plain": [
       "(1327, 25)"
      ]
     },
     "execution_count": 78,
     "metadata": {},
     "output_type": "execute_result"
    }
   ],
   "source": [
    "display(classe_maior.shape)\n",
    "classe_menor.shape"
   ]
  },
  {
   "cell_type": "code",
   "execution_count": 79,
   "metadata": {},
   "outputs": [],
   "source": [
    "classe_menor_up = resample(classe_menor, replace = True, n_samples = 2644, random_state = 123)"
   ]
  },
  {
   "cell_type": "code",
   "execution_count": 80,
   "metadata": {},
   "outputs": [],
   "source": [
    "df_balanced = pd.concat([classe_maior, classe_menor_up])"
   ]
  },
  {
   "cell_type": "code",
   "execution_count": 81,
   "metadata": {},
   "outputs": [
    {
     "data": {
      "text/plain": [
       "0    2644\n",
       "1    2644\n",
       "Name: ALLOW, dtype: int64"
      ]
     },
     "execution_count": 81,
     "metadata": {},
     "output_type": "execute_result"
    }
   ],
   "source": [
    "df_balanced['ALLOW'].value_counts()"
   ]
  },
  {
   "cell_type": "code",
   "execution_count": 82,
   "metadata": {},
   "outputs": [
    {
     "data": {
      "image/png": "[encoded data removed]",
      "text/plain": [
       "<Figure size 648x360 with 1 Axes>"
      ]
     },
     "metadata": {
      "needs_background": "light"
     },
     "output_type": "display_data"
    }
   ],
   "source": [
    "vc = df_balanced['ALLOW'].value_counts()\n",
    "plt.figure(figsize = (9, 5))\n",
    "sns.barplot(x = vc.index, y = vc, palette = \"Set2\")\n",
    "plt.show()"
   ]
  },
  {
   "cell_type": "markdown",
   "metadata": {},
   "source": [
    "#### 3.1 Seleção de Variaveis características e variaveis-alvo"
   ]
  },
  {
   "cell_type": "code",
   "execution_count": 83,
   "metadata": {
    "scrolled": true
   },
   "outputs": [
    {
     "data": {
      "text/plain": [
       "Index(['ID', 'PAYMENT_TERM', 'INSTALLMENT_PLANS', 'INSTALLMENT_PERCENT',\n",
       "       'LOAN_PURPOSE', 'LOAN_AMOUNT', 'OTHERS_ON_LOAN', 'ALLOW', 'SEX', 'AGE',\n",
       "       'JOB_TYPE', 'DEPENDENTS', 'TELEPHONE', 'FOREIGN_WORKER',\n",
       "       'EMPLOYMENT_DURATION', 'PROPERTY', 'HOUSING',\n",
       "       'CURRENT_RESIDENCE_DURATION', 'CHECKING_BALANCE', 'CREDIT_HISTORY',\n",
       "       'EXISTING_SAVINGS', 'EXISTING_CREDITS_COUNT', 'CHECKING',\n",
       "       'CHECKING_BALANCE_DP', 'AGE_FILTER'],\n",
       "      dtype='object')"
      ]
     },
     "execution_count": 83,
     "metadata": {},
     "output_type": "execute_result"
    }
   ],
   "source": [
    "df_balanced.columns"
   ]
  },
  {
   "cell_type": "code",
   "execution_count": 84,
   "metadata": {},
   "outputs": [],
   "source": [
    "# Definição das colunas que serão features\n",
    "X = df_balanced[[\"CHECKING_BALANCE\", \"PAYMENT_TERM\", \"CREDIT_HISTORY\", \"LOAN_PURPOSE\", \"LOAN_AMOUNT\", \"EXISTING_SAVINGS\", \"EMPLOYMENT_DURATION\",\n",
    "                 \"INSTALLMENT_PERCENT\", \"SEX\", \"OTHERS_ON_LOAN\", \"CURRENT_RESIDENCE_DURATION\", \"PROPERTY\", \"AGE\", \n",
    "                 \"INSTALLMENT_PLANS\", \"HOUSING\", \"EXISTING_CREDITS_COUNT\", \"JOB_TYPE\", \n",
    "                 \"DEPENDENTS\", \"TELEPHONE\", \"FOREIGN_WORKER\", \n",
    "                 \"CHECKING\", \"CHECKING_BALANCE_DP\", \n",
    "                 \"AGE_FILTER\"]].copy()\n",
    "\n",
    "# Definição da variável-alvo\n",
    "y = df_balanced[\"ALLOW\"].copy()"
   ]
  },
  {
   "cell_type": "markdown",
   "metadata": {},
   "source": [
    "#### 3.2 Divisão do conjunto de dados de treinamento e teste"
   ]
  },
  {
   "cell_type": "code",
   "execution_count": 85,
   "metadata": {
    "scrolled": true
   },
   "outputs": [
    {
     "name": "stdout",
     "output_type": "stream",
     "text": [
      "Variáveis treino = (4494, 23) \n",
      "Target treino =  (4494,) \n",
      "Variáveis teste = (794, 23) \n",
      "Target teste =  (794,)\n"
     ]
    }
   ],
   "source": [
    "X_train, X_val, y_train, y_val = train_test_split(X, y, test_size = 0.15, random_state = 123)\n",
    "print(\"Variáveis treino =\",X_train.shape, \"\\nTarget treino = \", y_train.shape, \n",
    "      \"\\nVariáveis teste =\", X_val.shape, \"\\nTarget teste = \", y_val.shape)"
   ]
  },
  {
   "cell_type": "markdown",
   "metadata": {},
   "source": [
    "#### 3.3 Métricas de avaliação dos modelos de Classificação"
   ]
  },
  {
   "cell_type": "code",
   "execution_count": 86,
   "metadata": {},
   "outputs": [],
   "source": [
    "def models_confusion_matrix(y_pred):\n",
    "    sns.heatmap(confusion_matrix(y_val, y_pred), annot = True, fmt = 'd')\n",
    "    plt.title(\"Matriz de confusão\")\n",
    "    plt.xlabel(\"Previsto\")\n",
    "    plt.ylabel(\"Valor Real\")\n",
    "    plt.show()"
   ]
  },
  {
   "cell_type": "code",
   "execution_count": 87,
   "metadata": {},
   "outputs": [],
   "source": [
    "def classification_metrics(y_pred):\n",
    "    accuracy = accuracy_score(y_val, y_pred)\n",
    "    print(\"Acurácia:\", accuracy)\n",
    "    recall = recall_score(y_val, y_pred)\n",
    "    print(\"Recall:\", recall)\n",
    "    precision = precision_score(y_val, y_pred)\n",
    "    print(\"Precision:\", precision)\n",
    "    f1 = f1_score(y_val, y_pred)\n",
    "    print(\"F1-Score:\", f1)\n",
    "    roc = roc_auc_score(y_val, y_pred)\n",
    "    print(\"ROC:\", roc)\n",
    "    \n",
    "    return accuracy, recall, precision, f1, roc"
   ]
  },
  {
   "cell_type": "code",
   "execution_count": 88,
   "metadata": {},
   "outputs": [],
   "source": [
    "r_probs = [0 for _ in range(len(y_val))]\n",
    "r_auc = roc_auc_score(y_val, r_probs)\n",
    "r_fpr, r_tpr, _ = roc_curve(y_val, r_probs)"
   ]
  },
  {
   "cell_type": "markdown",
   "metadata": {},
   "source": [
    "#### 3.4 Pré-processamento dos dados"
   ]
  },
  {
   "cell_type": "code",
   "execution_count": 89,
   "metadata": {
    "scrolled": false
   },
   "outputs": [
    {
     "name": "stdout",
     "output_type": "stream",
     "text": [
      "<class 'pandas.core.frame.DataFrame'>\n",
      "Int64Index: 5288 entries, 0 to 3616\n",
      "Data columns (total 23 columns):\n",
      " #   Column                      Non-Null Count  Dtype  \n",
      "---  ------                      --------------  -----  \n",
      " 0   CHECKING_BALANCE            5288 non-null   float64\n",
      " 1   PAYMENT_TERM                5288 non-null   float64\n",
      " 2   CREDIT_HISTORY              5288 non-null   object \n",
      " 3   LOAN_PURPOSE                5288 non-null   object \n",
      " 4   LOAN_AMOUNT                 5288 non-null   float64\n",
      " 5   EXISTING_SAVINGS            5288 non-null   float64\n",
      " 6   EMPLOYMENT_DURATION         5288 non-null   int32  \n",
      " 7   INSTALLMENT_PERCENT         5288 non-null   int32  \n",
      " 8   SEX                         5288 non-null   object \n",
      " 9   OTHERS_ON_LOAN              5288 non-null   object \n",
      " 10  CURRENT_RESIDENCE_DURATION  5288 non-null   int32  \n",
      " 11  PROPERTY                    5288 non-null   object \n",
      " 12  AGE                         5288 non-null   int32  \n",
      " 13  INSTALLMENT_PLANS           5288 non-null   object \n",
      " 14  HOUSING                     5288 non-null   object \n",
      " 15  EXISTING_CREDITS_COUNT      5288 non-null   float64\n",
      " 16  JOB_TYPE                    5288 non-null   int32  \n",
      " 17  DEPENDENTS                  5288 non-null   int32  \n",
      " 18  TELEPHONE                   5288 non-null   int32  \n",
      " 19  FOREIGN_WORKER              5288 non-null   int32  \n",
      " 20  CHECKING                    5288 non-null   object \n",
      " 21  CHECKING_BALANCE_DP         5288 non-null   object \n",
      " 22  AGE_FILTER                  5288 non-null   object \n",
      "dtypes: float64(5), int32(8), object(10)\n",
      "memory usage: 826.2+ KB\n"
     ]
    }
   ],
   "source": [
    "X.info()"
   ]
  },
  {
   "cell_type": "code",
   "execution_count": 90,
   "metadata": {},
   "outputs": [],
   "source": [
    "# Pré-processamento das features categóricas (OneHotEncoder)\n",
    "categorical_features_ohe = [2, 3, 8, 9, 11, 13, 14, 20, 21, 22]\n",
    "categorical_transformer_ohe= Pipeline(steps=[\n",
    "    ('onehot', OneHotEncoder(handle_unknown='ignore'))])"
   ]
  },
  {
   "cell_type": "code",
   "execution_count": 91,
   "metadata": {},
   "outputs": [],
   "source": [
    "from sklearn.preprocessing import Normalizer\n",
    "from sklearn.preprocessing import MinMaxScaler"
   ]
  },
  {
   "cell_type": "code",
   "execution_count": 92,
   "metadata": {},
   "outputs": [],
   "source": [
    "# Pré-processamento das features numéricas (StandardScaler)\n",
    "numeric_features = [0, 1, 4, 5, 6, 7, 12]\n",
    "numeric_transformer = Pipeline(steps=[\n",
    "    ('scaler', MinMaxScaler())])\n",
    "\n",
    "# StandardScaler()"
   ]
  },
  {
   "cell_type": "code",
   "execution_count": 93,
   "metadata": {},
   "outputs": [],
   "source": [
    "# Juntando o pré-processamento das features categóricas e númericas\n",
    "preprocessor_classification = ColumnTransformer(\n",
    "    transformers=[\n",
    "        ('cat_ohe', categorical_transformer_ohe, categorical_features_ohe),\n",
    "        ('num', numeric_transformer, numeric_features)])"
   ]
  },
  {
   "cell_type": "markdown",
   "metadata": {},
   "source": [
    "### 3.5 Modelagem dos modelos de Classificação"
   ]
  },
  {
   "cell_type": "markdown",
   "metadata": {},
   "source": [
    "##### 3.5.1. Modelo base de Decision Tree"
   ]
  },
  {
   "cell_type": "code",
   "execution_count": 94,
   "metadata": {},
   "outputs": [
    {
     "name": "stdout",
     "output_type": "stream",
     "text": [
      "Pipeline(steps=[('preprocessor',\n",
      "                 ColumnTransformer(transformers=[('cat_ohe',\n",
      "                                                  Pipeline(steps=[('onehot',\n",
      "                                                                   OneHotEncoder(handle_unknown='ignore'))]),\n",
      "                                                  [2, 3, 8, 9, 11, 13, 14, 20,\n",
      "                                                   21, 22]),\n",
      "                                                 ('num',\n",
      "                                                  Pipeline(steps=[('scaler',\n",
      "                                                                   MinMaxScaler())]),\n",
      "                                                  [0, 1, 4, 5, 6, 7, 12])])),\n",
      "                ('classification', DecisionTreeClassifier(random_state=123))])\n"
     ]
    }
   ],
   "source": [
    "# Criando o pré-processamento e o Pipeline\n",
    "pipeline = Pipeline(steps=[('preprocessor', preprocessor_classification),\n",
    "                           ('classification', DecisionTreeClassifier(random_state = 123))])\n",
    "\n",
    "\n",
    "# Utilizando o pipeline para treinar o modelo de Decision Tree na base de treinamento\n",
    "dt = pipeline.fit(X_train, (y_train))\n",
    "# Previsão do modelo de Decision Tree na base de teste\n",
    "y_pred_dt = dt.predict(X_val)\n",
    "fpr_dt, tpr_dt, _ = roc_curve(y_val, y_pred_dt)\n",
    "print (dt)"
   ]
  },
  {
   "cell_type": "code",
   "execution_count": 95,
   "metadata": {
    "scrolled": true
   },
   "outputs": [
    {
     "name": "stdout",
     "output_type": "stream",
     "text": [
      "Acurácia: 0.8476070528967254\n",
      "Recall: 0.7740259740259741\n",
      "Precision: 0.8975903614457831\n",
      "F1-Score: 0.8312412831241283\n",
      "ROC: 0.8454481948369479\n"
     ]
    },
    {
     "data": {
      "text/plain": [
       "(0.8476070528967254,\n",
       " 0.7740259740259741,\n",
       " 0.8975903614457831,\n",
       " 0.8312412831241283,\n",
       " 0.8454481948369479)"
      ]
     },
     "execution_count": 95,
     "metadata": {},
     "output_type": "execute_result"
    }
   ],
   "source": [
    "# Métricas de avaliação para o modelo de Decision Tree\n",
    "classification_metrics(y_pred_dt)"
   ]
  },
  {
   "cell_type": "code",
   "execution_count": 96,
   "metadata": {},
   "outputs": [
    {
     "data": {
      "image/png": "[encoded data removed]",
      "text/plain": [
       "<Figure size 432x288 with 2 Axes>"
      ]
     },
     "metadata": {
      "needs_background": "light"
     },
     "output_type": "display_data"
    }
   ],
   "source": [
    "# Matriz de confusão para o modelo Decision Tree\n",
    "models_confusion_matrix(y_pred_dt)"
   ]
  },
  {
   "cell_type": "code",
   "execution_count": 97,
   "metadata": {},
   "outputs": [
    {
     "name": "stdout",
     "output_type": "stream",
     "text": [
      "              precision    recall  f1-score   support\n",
      "\n",
      "           0       0.81      0.92      0.86       409\n",
      "           1       0.90      0.77      0.83       385\n",
      "\n",
      "    accuracy                           0.85       794\n",
      "   macro avg       0.85      0.85      0.85       794\n",
      "weighted avg       0.85      0.85      0.85       794\n",
      "\n"
     ]
    }
   ],
   "source": [
    "print(classification_report(y_val, y_pred_dt))"
   ]
  },
  {
   "cell_type": "markdown",
   "metadata": {},
   "source": [
    "##### 3.5.2. Random Forest"
   ]
  },
  {
   "cell_type": "code",
   "execution_count": 98,
   "metadata": {},
   "outputs": [
    {
     "name": "stdout",
     "output_type": "stream",
     "text": [
      "Pipeline(steps=[('preprocessor',\n",
      "                 ColumnTransformer(transformers=[('cat_ohe',\n",
      "                                                  Pipeline(steps=[('onehot',\n",
      "                                                                   OneHotEncoder(handle_unknown='ignore'))]),\n",
      "                                                  [2, 3, 8, 9, 11, 13, 14, 20,\n",
      "                                                   21, 22]),\n",
      "                                                 ('num',\n",
      "                                                  Pipeline(steps=[('scaler',\n",
      "                                                                   MinMaxScaler())]),\n",
      "                                                  [0, 1, 4, 5, 6, 7, 12])])),\n",
      "                ('classification', RandomForestClassifier(random_state=123))])\n"
     ]
    }
   ],
   "source": [
    "# Criando o pré-processamento e o Pipeline\n",
    "pipeline = Pipeline(steps=[('preprocessor', preprocessor_classification),\n",
    "                           ('classification', RandomForestClassifier(random_state = 123))])\n",
    "\n",
    "\n",
    "# Utilizando o pipeline para treinar o modelo de Random Forest na base de treinamento\n",
    "rf = pipeline.fit(X_train, (y_train))\n",
    "# Previsão do modelo de Random Forest na base de teste\n",
    "y_pred_rf = rf.predict(X_val)\n",
    "fpr_rf, tpr_rf, _ = roc_curve(y_val, y_pred_rf)\n",
    "print (rf)"
   ]
  },
  {
   "cell_type": "code",
   "execution_count": 99,
   "metadata": {},
   "outputs": [
    {
     "name": "stdout",
     "output_type": "stream",
     "text": [
      "Acurácia: 0.8879093198992444\n",
      "Recall: 0.8571428571428571\n",
      "Precision: 0.9065934065934066\n",
      "F1-Score: 0.8811748998664887\n",
      "ROC: 0.8870066363953895\n"
     ]
    }
   ],
   "source": [
    "# Métricas de avaliação para o modelo de Random Forest\n",
    "accuracy_rf, recall_rf, precision_rf, f1_rf, roc_rf = classification_metrics(y_pred_rf)"
   ]
  },
  {
   "cell_type": "code",
   "execution_count": 100,
   "metadata": {},
   "outputs": [
    {
     "data": {
      "image/png": "[encoded data removed]",
      "text/plain": [
       "<Figure size 432x288 with 2 Axes>"
      ]
     },
     "metadata": {
      "needs_background": "light"
     },
     "output_type": "display_data"
    }
   ],
   "source": [
    "# Matriz de confusão para o modelo Random Forest\n",
    "models_confusion_matrix(y_pred_rf)"
   ]
  },
  {
   "cell_type": "code",
   "execution_count": 101,
   "metadata": {},
   "outputs": [
    {
     "name": "stdout",
     "output_type": "stream",
     "text": [
      "              precision    recall  f1-score   support\n",
      "\n",
      "           0       0.87      0.92      0.89       409\n",
      "           1       0.91      0.86      0.88       385\n",
      "\n",
      "    accuracy                           0.89       794\n",
      "   macro avg       0.89      0.89      0.89       794\n",
      "weighted avg       0.89      0.89      0.89       794\n",
      "\n"
     ]
    }
   ],
   "source": [
    "print(classification_report(y_val, y_pred_rf))"
   ]
  },
  {
   "cell_type": "markdown",
   "metadata": {},
   "source": [
    "##### 3.5.3. Extra Tree Classifier"
   ]
  },
  {
   "cell_type": "code",
   "execution_count": 102,
   "metadata": {},
   "outputs": [
    {
     "name": "stdout",
     "output_type": "stream",
     "text": [
      "Pipeline(steps=[('preprocessor',\n",
      "                 ColumnTransformer(transformers=[('cat_ohe',\n",
      "                                                  Pipeline(steps=[('onehot',\n",
      "                                                                   OneHotEncoder(handle_unknown='ignore'))]),\n",
      "                                                  [2, 3, 8, 9, 11, 13, 14, 20,\n",
      "                                                   21, 22]),\n",
      "                                                 ('num',\n",
      "                                                  Pipeline(steps=[('scaler',\n",
      "                                                                   MinMaxScaler())]),\n",
      "                                                  [0, 1, 4, 5, 6, 7, 12])])),\n",
      "                ('classification', ExtraTreesClassifier(random_state=123))])\n"
     ]
    }
   ],
   "source": [
    "# Criando o pré-processamento e o Pipeline\n",
    "pipeline = Pipeline(steps=[('preprocessor', preprocessor_classification),\n",
    "                           ('classification', ExtraTreesClassifier(random_state = 123))])\n",
    "\n",
    "\n",
    "# Utilizando o pipeline para treinar o modelo de Random Forest na base de treinamento\n",
    "et = pipeline.fit(X_train, (y_train))\n",
    "# Previsão do modelo de Random Forest na base de teste\n",
    "y_pred_et = et.predict(X_val)\n",
    "fpr_et, tpr_et, _ = roc_curve(y_val, y_pred_et)\n",
    "print (et)"
   ]
  },
  {
   "cell_type": "code",
   "execution_count": 103,
   "metadata": {},
   "outputs": [
    {
     "name": "stdout",
     "output_type": "stream",
     "text": [
      "Acurácia: 0.8992443324937027\n",
      "Recall: 0.8831168831168831\n",
      "Precision: 0.9066666666666666\n",
      "F1-Score: 0.894736842105263\n",
      "ROC: 0.8987711554948717\n"
     ]
    }
   ],
   "source": [
    "# Métricas de avaliação para o modelo de Random Forest\n",
    "accuracy_et, recall_et, precision_et, f1_et, roc_et = classification_metrics(y_pred_et)"
   ]
  },
  {
   "cell_type": "code",
   "execution_count": 104,
   "metadata": {},
   "outputs": [
    {
     "data": {
      "image/png": "[encoded data removed]",
      "text/plain": [
       "<Figure size 432x288 with 2 Axes>"
      ]
     },
     "metadata": {
      "needs_background": "light"
     },
     "output_type": "display_data"
    }
   ],
   "source": [
    "# Matriz de confusão para o modelo Random Forest\n",
    "models_confusion_matrix(y_pred_et)"
   ]
  },
  {
   "cell_type": "code",
   "execution_count": 105,
   "metadata": {},
   "outputs": [
    {
     "name": "stdout",
     "output_type": "stream",
     "text": [
      "              precision    recall  f1-score   support\n",
      "\n",
      "           0       0.89      0.91      0.90       409\n",
      "           1       0.91      0.88      0.89       385\n",
      "\n",
      "    accuracy                           0.90       794\n",
      "   macro avg       0.90      0.90      0.90       794\n",
      "weighted avg       0.90      0.90      0.90       794\n",
      "\n"
     ]
    }
   ],
   "source": [
    "print(classification_report(y_val, y_pred_et))"
   ]
  },
  {
   "cell_type": "markdown",
   "metadata": {},
   "source": [
    "##### 3.5.3. Logistic Regression"
   ]
  },
  {
   "cell_type": "code",
   "execution_count": 106,
   "metadata": {},
   "outputs": [
    {
     "name": "stdout",
     "output_type": "stream",
     "text": [
      "Pipeline(steps=[('preprocessor',\n",
      "                 ColumnTransformer(transformers=[('cat_ohe',\n",
      "                                                  Pipeline(steps=[('onehot',\n",
      "                                                                   OneHotEncoder(handle_unknown='ignore'))]),\n",
      "                                                  [2, 3, 8, 9, 11, 13, 14, 20,\n",
      "                                                   21, 22]),\n",
      "                                                 ('num',\n",
      "                                                  Pipeline(steps=[('scaler',\n",
      "                                                                   MinMaxScaler())]),\n",
      "                                                  [0, 1, 4, 5, 6, 7, 12])])),\n",
      "                ('classification', LogisticRegression(random_state=123))])\n"
     ]
    },
    {
     "name": "stderr",
     "output_type": "stream",
     "text": [
      "C:\\Users\\Lucas\\AppData\\Roaming\\Python\\Python37\\site-packages\\sklearn\\linear_model\\_logistic.py:764: ConvergenceWarning: lbfgs failed to converge (status=1):\n",
      "STOP: TOTAL NO. of ITERATIONS REACHED LIMIT.\n",
      "\n",
      "Increase the number of iterations (max_iter) or scale the data as shown in:\n",
      "    https://scikit-learn.org/stable/modules/preprocessing.html\n",
      "Please also refer to the documentation for alternative solver options:\n",
      "    https://scikit-learn.org/stable/modules/linear_model.html#logistic-regression\n",
      "  extra_warning_msg=_LOGISTIC_SOLVER_CONVERGENCE_MSG)\n"
     ]
    }
   ],
   "source": [
    "# Criando o pré-processamento e o Pipeline\n",
    "pipeline = Pipeline(steps=[('preprocessor', preprocessor_classification),\n",
    "                           ('classification', LogisticRegression(random_state = 123))])\n",
    "\n",
    "\n",
    "# Utilizando o pipeline para treinar o modelo de Logistic Regression na base de treinamento\n",
    "rl = pipeline.fit(X_train, (y_train))\n",
    "# Previsão do modelo de Logistic Regression na base de teste\n",
    "y_pred_rl = rl.predict(X_val)\n",
    "fpr_rl, tpr_rl, _ = roc_curve(y_val, y_pred_rl)\n",
    "print (rl)"
   ]
  },
  {
   "cell_type": "code",
   "execution_count": 107,
   "metadata": {},
   "outputs": [
    {
     "name": "stdout",
     "output_type": "stream",
     "text": [
      "Acurácia: 0.7317380352644837\n",
      "Recall: 0.7480519480519481\n",
      "Precision: 0.7128712871287128\n",
      "F1-Score: 0.7300380228136882\n",
      "ROC: 0.7322166830724288\n"
     ]
    }
   ],
   "source": [
    "# Métricas de avaliação para o modelo de Logistic Regression\n",
    "accuracy_rl, recall_rl, precision_rl, f1_rl, roc_rl = classification_metrics(y_pred_rl)"
   ]
  },
  {
   "cell_type": "code",
   "execution_count": 108,
   "metadata": {},
   "outputs": [
    {
     "data": {
      "image/png": "[encoded data removed]",
      "text/plain": [
       "<Figure size 432x288 with 2 Axes>"
      ]
     },
     "metadata": {
      "needs_background": "light"
     },
     "output_type": "display_data"
    }
   ],
   "source": [
    "# Matriz de confusão para o modelo Logistic Regression\n",
    "models_confusion_matrix(y_pred_rl)"
   ]
  },
  {
   "cell_type": "code",
   "execution_count": 109,
   "metadata": {},
   "outputs": [
    {
     "name": "stdout",
     "output_type": "stream",
     "text": [
      "              precision    recall  f1-score   support\n",
      "\n",
      "           0       0.75      0.72      0.73       409\n",
      "           1       0.71      0.75      0.73       385\n",
      "\n",
      "    accuracy                           0.73       794\n",
      "   macro avg       0.73      0.73      0.73       794\n",
      "weighted avg       0.73      0.73      0.73       794\n",
      "\n"
     ]
    }
   ],
   "source": [
    "print(classification_report(y_val, y_pred_rl))"
   ]
  },
  {
   "cell_type": "markdown",
   "metadata": {},
   "source": [
    "##### 3.5.4. LGBM"
   ]
  },
  {
   "cell_type": "code",
   "execution_count": 110,
   "metadata": {},
   "outputs": [
    {
     "name": "stdout",
     "output_type": "stream",
     "text": [
      "Pipeline(steps=[('preprocessor',\n",
      "                 ColumnTransformer(transformers=[('cat_ohe',\n",
      "                                                  Pipeline(steps=[('onehot',\n",
      "                                                                   OneHotEncoder(handle_unknown='ignore'))]),\n",
      "                                                  [2, 3, 8, 9, 11, 13, 14, 20,\n",
      "                                                   21, 22]),\n",
      "                                                 ('num',\n",
      "                                                  Pipeline(steps=[('scaler',\n",
      "                                                                   MinMaxScaler())]),\n",
      "                                                  [0, 1, 4, 5, 6, 7, 12])])),\n",
      "                ('classification', LGBMClassifier(random_state=123))])\n"
     ]
    }
   ],
   "source": [
    "# Criando o pré-processamento e o Pipeline\n",
    "pipeline = Pipeline(steps=[('preprocessor', preprocessor_classification),\n",
    "                           ('classification', LGBMClassifier(random_state = 123))])\n",
    "\n",
    "\n",
    "# Utilizando o pipeline para treinar o modelo de LGBM na base de treinamento\n",
    "lgbmc = pipeline.fit(X_train, (y_train))\n",
    "# Previsão do modelo de LGBM na base de teste\n",
    "y_pred_lgbmc = lgbmc.predict(X_val)\n",
    "fpr_lgbmc, tpr_lgbmc, _ = roc_curve(y_val, y_pred_lgbmc)\n",
    "print (lgbmc)"
   ]
  },
  {
   "cell_type": "code",
   "execution_count": 111,
   "metadata": {},
   "outputs": [
    {
     "name": "stdout",
     "output_type": "stream",
     "text": [
      "Acurácia: 0.8551637279596978\n",
      "Recall: 0.8363636363636363\n",
      "Precision: 0.8609625668449198\n",
      "F1-Score: 0.8484848484848485\n",
      "ROC: 0.854612136030229\n"
     ]
    }
   ],
   "source": [
    "# Métricas de avaliação para o modelo de LGBM\n",
    "accuracy_lgbmc, recall_lgbmc, precision_lgbmc, f1_lgbmc, roc_lgbmc = classification_metrics(y_pred_lgbmc)"
   ]
  },
  {
   "cell_type": "code",
   "execution_count": 112,
   "metadata": {},
   "outputs": [
    {
     "data": {
      "image/png": "[encoded data removed]",
      "text/plain": [
       "<Figure size 432x288 with 2 Axes>"
      ]
     },
     "metadata": {
      "needs_background": "light"
     },
     "output_type": "display_data"
    }
   ],
   "source": [
    "# Matriz de confusão para o modelo LGBM\n",
    "models_confusion_matrix(y_pred_lgbmc)"
   ]
  },
  {
   "cell_type": "code",
   "execution_count": 113,
   "metadata": {},
   "outputs": [
    {
     "name": "stdout",
     "output_type": "stream",
     "text": [
      "              precision    recall  f1-score   support\n",
      "\n",
      "           0       0.85      0.87      0.86       409\n",
      "           1       0.86      0.84      0.85       385\n",
      "\n",
      "    accuracy                           0.86       794\n",
      "   macro avg       0.86      0.85      0.85       794\n",
      "weighted avg       0.86      0.86      0.86       794\n",
      "\n"
     ]
    }
   ],
   "source": [
    "print(classification_report(y_val, y_pred_lgbmc))"
   ]
  },
  {
   "cell_type": "markdown",
   "metadata": {},
   "source": [
    "##### 3.5.5. Neural Networks"
   ]
  },
  {
   "cell_type": "code",
   "execution_count": 114,
   "metadata": {},
   "outputs": [],
   "source": [
    "def createModel():\n",
    "    classifier = Sequential()\n",
    "    # input layer\n",
    "    classifier.add(Dense(units = 8, activation = 'relu', \n",
    "                        kernel_initializer = 'normal', input_dim = 50))\n",
    "    classifier.add(Dropout(0.2))\n",
    "    # hidden layer\n",
    "    classifier.add(Dense(units = 8, activation = 'relu', \n",
    "                        kernel_initializer = 'normal'))\n",
    "    classifier.add(Dropout(0.2))\n",
    "    # output layer\n",
    "    classifier.add(Dense(units = 1, activation = 'sigmoid'))\n",
    "    # compile\n",
    "    classifier.compile(optimizer = 'adam', loss = 'binary_crossentropy',\n",
    "                      metrics = ['binary_accuracy'])\n",
    "    return classifier"
   ]
  },
  {
   "cell_type": "code",
   "execution_count": 115,
   "metadata": {
    "scrolled": true
   },
   "outputs": [
    {
     "name": "stdout",
     "output_type": "stream",
     "text": [
      "Epoch 1/50\n",
      "450/450 [==============================] - 5s 1ms/step - loss: 0.5910 - binary_accuracy: 0.6992\n",
      "Epoch 2/50\n",
      "450/450 [==============================] - 1s 1ms/step - loss: 0.5309 - binary_accuracy: 0.7299\n",
      "Epoch 3/50\n",
      "450/450 [==============================] - 1s 1ms/step - loss: 0.5093 - binary_accuracy: 0.7379\n",
      "Epoch 4/50\n",
      "450/450 [==============================] - 1s 1ms/step - loss: 0.4986 - binary_accuracy: 0.7497\n",
      "Epoch 5/50\n",
      "450/450 [==============================] - 1s 1ms/step - loss: 0.4924 - binary_accuracy: 0.7474\n",
      "Epoch 6/50\n",
      "450/450 [==============================] - 1s 1ms/step - loss: 0.4917 - binary_accuracy: 0.7494\n",
      "Epoch 7/50\n",
      "450/450 [==============================] - 1s 1ms/step - loss: 0.4829 - binary_accuracy: 0.7512\n",
      "Epoch 8/50\n",
      "450/450 [==============================] - 1s 1ms/step - loss: 0.4758 - binary_accuracy: 0.7546\n",
      "Epoch 9/50\n",
      "450/450 [==============================] - 1s 1ms/step - loss: 0.4744 - binary_accuracy: 0.7592\n",
      "Epoch 10/50\n",
      "450/450 [==============================] - 1s 1ms/step - loss: 0.4719 - binary_accuracy: 0.7548\n",
      "Epoch 11/50\n",
      "450/450 [==============================] - 1s 2ms/step - loss: 0.4727 - binary_accuracy: 0.7615\n",
      "Epoch 12/50\n",
      "450/450 [==============================] - 1s 1ms/step - loss: 0.4686 - binary_accuracy: 0.7666\n",
      "Epoch 13/50\n",
      "450/450 [==============================] - 1s 1ms/step - loss: 0.4691 - binary_accuracy: 0.7715\n",
      "Epoch 14/50\n",
      "450/450 [==============================] - 1s 1ms/step - loss: 0.4719 - binary_accuracy: 0.7661\n",
      "Epoch 15/50\n",
      "450/450 [==============================] - 1s 1ms/step - loss: 0.4615 - binary_accuracy: 0.7686\n",
      "Epoch 16/50\n",
      "450/450 [==============================] - 1s 1ms/step - loss: 0.4632 - binary_accuracy: 0.7746\n",
      "Epoch 17/50\n",
      "450/450 [==============================] - 1s 2ms/step - loss: 0.4623 - binary_accuracy: 0.7728\n",
      "Epoch 18/50\n",
      "450/450 [==============================] - 1s 1ms/step - loss: 0.4556 - binary_accuracy: 0.7755\n",
      "Epoch 19/50\n",
      "450/450 [==============================] - 1s 1ms/step - loss: 0.4556 - binary_accuracy: 0.7730\n",
      "Epoch 20/50\n",
      "450/450 [==============================] - 1s 2ms/step - loss: 0.4535 - binary_accuracy: 0.7659\n",
      "Epoch 21/50\n",
      "450/450 [==============================] - 1s 2ms/step - loss: 0.4481 - binary_accuracy: 0.7741\n",
      "Epoch 22/50\n",
      "450/450 [==============================] - 1s 2ms/step - loss: 0.4501 - binary_accuracy: 0.7670\n",
      "Epoch 23/50\n",
      "450/450 [==============================] - 1s 2ms/step - loss: 0.4436 - binary_accuracy: 0.7753\n",
      "Epoch 24/50\n",
      "450/450 [==============================] - 1s 2ms/step - loss: 0.4499 - binary_accuracy: 0.7661\n",
      "Epoch 25/50\n",
      "450/450 [==============================] - 1s 1ms/step - loss: 0.4511 - binary_accuracy: 0.7715\n",
      "Epoch 26/50\n",
      "450/450 [==============================] - 1s 1ms/step - loss: 0.4525 - binary_accuracy: 0.7690\n",
      "Epoch 27/50\n",
      "450/450 [==============================] - 1s 1ms/step - loss: 0.4434 - binary_accuracy: 0.7828\n",
      "Epoch 28/50\n",
      "450/450 [==============================] - 1s 2ms/step - loss: 0.4425 - binary_accuracy: 0.7761\n",
      "Epoch 29/50\n",
      "450/450 [==============================] - 1s 1ms/step - loss: 0.4416 - binary_accuracy: 0.7753\n",
      "Epoch 30/50\n",
      "450/450 [==============================] - 1s 1ms/step - loss: 0.4454 - binary_accuracy: 0.7813\n",
      "Epoch 31/50\n",
      "450/450 [==============================] - 1s 1ms/step - loss: 0.4422 - binary_accuracy: 0.7788\n",
      "Epoch 32/50\n",
      "450/450 [==============================] - 1s 1ms/step - loss: 0.4420 - binary_accuracy: 0.7790\n",
      "Epoch 33/50\n",
      "450/450 [==============================] - 1s 2ms/step - loss: 0.4364 - binary_accuracy: 0.7793\n",
      "Epoch 34/50\n",
      "450/450 [==============================] - 1s 2ms/step - loss: 0.4392 - binary_accuracy: 0.7819\n",
      "Epoch 35/50\n",
      "450/450 [==============================] - 1s 1ms/step - loss: 0.4447 - binary_accuracy: 0.7724\n",
      "Epoch 36/50\n",
      "450/450 [==============================] - 1s 1ms/step - loss: 0.4410 - binary_accuracy: 0.7797\n",
      "Epoch 37/50\n",
      "450/450 [==============================] - 1s 1ms/step - loss: 0.4361 - binary_accuracy: 0.7828\n",
      "Epoch 38/50\n",
      "450/450 [==============================] - 1s 2ms/step - loss: 0.4274 - binary_accuracy: 0.7882\n",
      "Epoch 39/50\n",
      "450/450 [==============================] - 1s 2ms/step - loss: 0.4335 - binary_accuracy: 0.7911\n",
      "Epoch 40/50\n",
      "450/450 [==============================] - 1s 1ms/step - loss: 0.4390 - binary_accuracy: 0.7813\n",
      "Epoch 41/50\n",
      "450/450 [==============================] - 1s 1ms/step - loss: 0.4364 - binary_accuracy: 0.7786\n",
      "Epoch 42/50\n",
      "450/450 [==============================] - 1s 2ms/step - loss: 0.4370 - binary_accuracy: 0.7766\n",
      "Epoch 43/50\n",
      "450/450 [==============================] - 1s 2ms/step - loss: 0.4302 - binary_accuracy: 0.7741\n",
      "Epoch 44/50\n",
      "450/450 [==============================] - 1s 2ms/step - loss: 0.4327 - binary_accuracy: 0.7826\n",
      "Epoch 45/50\n",
      "450/450 [==============================] - 1s 2ms/step - loss: 0.4305 - binary_accuracy: 0.7826\n",
      "Epoch 46/50\n",
      "450/450 [==============================] - 1s 2ms/step - loss: 0.4356 - binary_accuracy: 0.7813\n",
      "Epoch 47/50\n",
      "450/450 [==============================] - 1s 2ms/step - loss: 0.4306 - binary_accuracy: 0.7808\n",
      "Epoch 48/50\n",
      "450/450 [==============================] - 1s 1ms/step - loss: 0.4310 - binary_accuracy: 0.7884\n",
      "Epoch 49/50\n",
      "450/450 [==============================] - 1s 1ms/step - loss: 0.4372 - binary_accuracy: 0.7797\n",
      "Epoch 50/50\n",
      "450/450 [==============================] - 1s 2ms/step - loss: 0.4301 - binary_accuracy: 0.7833\n"
     ]
    },
    {
     "name": "stderr",
     "output_type": "stream",
     "text": [
      "C:\\Users\\Lucas\\AppData\\Roaming\\Python\\Python37\\site-packages\\tensorflow\\python\\keras\\engine\\sequential.py:455: UserWarning: `model.predict_classes()` is deprecated and will be removed after 2021-01-01. Please use instead:* `np.argmax(model.predict(x), axis=-1)`,   if your model does multi-class classification   (e.g. if it uses a `softmax` last-layer activation).* `(model.predict(x) > 0.5).astype(\"int32\")`,   if your model does binary classification   (e.g. if it uses a `sigmoid` last-layer activation).\n",
      "  warnings.warn('`model.predict_classes()` is deprecated and '\n"
     ]
    },
    {
     "name": "stdout",
     "output_type": "stream",
     "text": [
      "Pipeline(steps=[('preprocessor',\n",
      "                 ColumnTransformer(transformers=[('cat_ohe',\n",
      "                                                  Pipeline(steps=[('onehot',\n",
      "                                                                   OneHotEncoder(handle_unknown='ignore'))]),\n",
      "                                                  [2, 3, 8, 9, 11, 13, 14, 20,\n",
      "                                                   21, 22]),\n",
      "                                                 ('num',\n",
      "                                                  Pipeline(steps=[('scaler',\n",
      "                                                                   MinMaxScaler())]),\n",
      "                                                  [0, 1, 4, 5, 6, 7, 12])])),\n",
      "                ('classification',\n",
      "                 <tensorflow.python.keras.wrappers.scikit_learn.KerasClassifier object at 0x0000003EF5D043C8>)])\n"
     ]
    }
   ],
   "source": [
    "# Criando o pré-processamento e o Pipeline\n",
    "pipeline = Pipeline(steps=[('preprocessor', preprocessor_classification),\n",
    "                           ('classification', KerasClassifier(build_fn = createModel, epochs = 50, batch_size = 10))])\n",
    "\n",
    "rn = pipeline.fit(X_train, (y_train))\n",
    "# Previsão do modelo de LGBM na base de teste\n",
    "y_pred_rn = rn.predict(X_val)\n",
    "fpr_rn, tpr_rn, _ = roc_curve(y_val, y_pred_rn)\n",
    "print (rn)"
   ]
  },
  {
   "cell_type": "code",
   "execution_count": 116,
   "metadata": {},
   "outputs": [
    {
     "name": "stdout",
     "output_type": "stream",
     "text": [
      "Acurácia: 0.760705289672544\n",
      "Recall: 0.7974025974025974\n",
      "Precision: 0.7326968973747017\n",
      "F1-Score: 0.763681592039801\n",
      "ROC: 0.7617819832978758\n"
     ]
    }
   ],
   "source": [
    "# Métricas de avaliação para o modelo de rn\n",
    "accuracy_rn, recall_rn, precision_rn, f1_rn, roc_rn = classification_metrics(y_pred_rn)"
   ]
  },
  {
   "cell_type": "code",
   "execution_count": 117,
   "metadata": {},
   "outputs": [
    {
     "data": {
      "image/png": "[encoded data removed]",
      "text/plain": [
       "<Figure size 432x288 with 2 Axes>"
      ]
     },
     "metadata": {
      "needs_background": "light"
     },
     "output_type": "display_data"
    }
   ],
   "source": [
    "# Matriz de confusão para o modelo rn\n",
    "models_confusion_matrix(y_pred_rn)"
   ]
  },
  {
   "cell_type": "markdown",
   "metadata": {},
   "source": [
    "### 3.6 Comparando os resultados dos modelos de Classificação"
   ]
  },
  {
   "cell_type": "code",
   "execution_count": 118,
   "metadata": {},
   "outputs": [
    {
     "data": {
      "text/html": [
       "<div>\n",
       "<style scoped>\n",
       "    .dataframe tbody tr th:only-of-type {\n",
       "        vertical-align: middle;\n",
       "    }\n",
       "\n",
       "    .dataframe tbody tr th {\n",
       "        vertical-align: top;\n",
       "    }\n",
       "\n",
       "    .dataframe thead th {\n",
       "        text-align: right;\n",
       "    }\n",
       "</style>\n",
       "<table border=\"1\" class=\"dataframe\">\n",
       "  <thead>\n",
       "    <tr style=\"text-align: right;\">\n",
       "      <th></th>\n",
       "      <th>Model</th>\n",
       "      <th>Accuracy (%)</th>\n",
       "      <th>Recall (%)</th>\n",
       "      <th>Precision (%)</th>\n",
       "      <th>F1 (%)</th>\n",
       "    </tr>\n",
       "  </thead>\n",
       "  <tbody>\n",
       "    <tr>\n",
       "      <th>0</th>\n",
       "      <td>Random Forest</td>\n",
       "      <td>0.887909</td>\n",
       "      <td>0.857143</td>\n",
       "      <td>0.906593</td>\n",
       "      <td>0.881175</td>\n",
       "    </tr>\n",
       "    <tr>\n",
       "      <th>1</th>\n",
       "      <td>Extra Tree</td>\n",
       "      <td>0.899244</td>\n",
       "      <td>0.883117</td>\n",
       "      <td>0.906667</td>\n",
       "      <td>0.894737</td>\n",
       "    </tr>\n",
       "    <tr>\n",
       "      <th>2</th>\n",
       "      <td>Logistic Regression</td>\n",
       "      <td>0.731738</td>\n",
       "      <td>0.748052</td>\n",
       "      <td>0.712871</td>\n",
       "      <td>0.730038</td>\n",
       "    </tr>\n",
       "    <tr>\n",
       "      <th>3</th>\n",
       "      <td>LGBM</td>\n",
       "      <td>0.855164</td>\n",
       "      <td>0.836364</td>\n",
       "      <td>0.860963</td>\n",
       "      <td>0.848485</td>\n",
       "    </tr>\n",
       "    <tr>\n",
       "      <th>4</th>\n",
       "      <td>Neural Networks</td>\n",
       "      <td>0.760705</td>\n",
       "      <td>0.797403</td>\n",
       "      <td>0.732697</td>\n",
       "      <td>0.763682</td>\n",
       "    </tr>\n",
       "  </tbody>\n",
       "</table>\n",
       "</div>"
      ],
      "text/plain": [
       "                 Model  Accuracy (%)  Recall (%)  Precision (%)    F1 (%)\n",
       "0        Random Forest      0.887909    0.857143       0.906593  0.881175\n",
       "1           Extra Tree      0.899244    0.883117       0.906667  0.894737\n",
       "2  Logistic Regression      0.731738    0.748052       0.712871  0.730038\n",
       "3                 LGBM      0.855164    0.836364       0.860963  0.848485\n",
       "4      Neural Networks      0.760705    0.797403       0.732697  0.763682"
      ]
     },
     "execution_count": 118,
     "metadata": {},
     "output_type": "execute_result"
    }
   ],
   "source": [
    "models = [('Random Forest', accuracy_rf, recall_rf, precision_rf, f1_rf),\n",
    "          ('Extra Tree', accuracy_et, recall_et, precision_et, f1_et),\n",
    "          ('Logistic Regression', accuracy_rl, recall_rl, precision_rl, f1_rl),\n",
    "          ('LGBM', accuracy_lgbmc, recall_lgbmc, precision_lgbmc, f1_lgbmc),\n",
    "          ('Neural Networks', accuracy_rn, recall_rn, precision_rn, f1_rn)]\n",
    "\n",
    "df_all_models = pd.DataFrame(models, columns = ['Model', 'Accuracy (%)', 'Recall (%)', 'Precision (%)', 'F1 (%)'])\n",
    "\n",
    "df_all_models"
   ]
  },
  {
   "cell_type": "code",
   "execution_count": 119,
   "metadata": {
    "scrolled": false
   },
   "outputs": [
    {
     "data": {
      "image/png": "[encoded data removed]",
      "text/plain": [
       "<Figure size 864x432 with 1 Axes>"
      ]
     },
     "metadata": {
      "needs_background": "light"
     },
     "output_type": "display_data"
    }
   ],
   "source": [
    "plt.figure(figsize = (12, 6))\n",
    "\n",
    "sns.barplot(y = df_all_models['Model'], x = df_all_models['Accuracy (%)'], palette = 'icefire')\n",
    "plt.xlabel(\"Models\")\n",
    "plt.title('Accuracy')\n",
    "plt.show()"
   ]
  },
  {
   "cell_type": "code",
   "execution_count": 120,
   "metadata": {},
   "outputs": [
    {
     "data": {
      "image/png": "[encoded data removed]",
      "text/plain": [
       "<Figure size 864x576 with 1 Axes>"
      ]
     },
     "metadata": {
      "needs_background": "light"
     },
     "output_type": "display_data"
    }
   ],
   "source": [
    "plt.figure(figsize = (12, 8))\n",
    "\n",
    "plt.plot(r_fpr, r_tpr, linestyle='--', label='Random prediction (AUROC = %0.3f)' % r_auc)\n",
    "\n",
    "plt.plot(fpr_rf, tpr_rf, marker='.', label='Random Forest (AUROC = %0.3f)' % roc_rf)\n",
    "plt.plot(fpr_et, tpr_et, marker='.', label='Extra Tree (AUROC = %0.3f)' % roc_et)\n",
    "plt.plot(fpr_rl, tpr_rl, marker='.', label='Logistic Regression (AUROC = %0.3f)' % roc_rl)\n",
    "plt.plot(fpr_lgbmc, tpr_lgbmc, marker='.', label='LGBM (AUROC = %0.3f)' % roc_lgbmc)\n",
    "plt.plot(fpr_rn, tpr_rn, marker='.', label='Neural Networks (AUROC = %0.3f)' % roc_rn)\n",
    "plt.title('ROC Plot')\n",
    "plt.xlabel('False Positive Rate')\n",
    "plt.ylabel('True Positive Rate')\n",
    "plt.legend() \n",
    "plt.show()"
   ]
  },
  {
   "cell_type": "markdown",
   "metadata": {},
   "source": [
    "### 3.8 Hiperparâmetros dos melhores modelos"
   ]
  },
  {
   "cell_type": "markdown",
   "metadata": {},
   "source": [
    "##### 3.8.1 Random Forest"
   ]
  },
  {
   "cell_type": "code",
   "execution_count": null,
   "metadata": {},
   "outputs": [],
   "source": [
    "param_grid_rf = {'max_depth': [None, 20, 30],\n",
    "                 'max_features': ['sqrt', 0.2, 0.3],\n",
    "                 'bootstrap': [False, True]}\n",
    "\n",
    "model_rf = RandomForestClassifier(n_estimators = 1200, random_state = 123)\n",
    "\n",
    "# Criando o pré-processamento e o Pipeline utilizando o RandomizerSearchCV\n",
    "gridcv_rf = Pipeline(steps=[('preprocessor', preprocessor_classification),\n",
    "                            ('gridsearch_rf', GridSearchCV(estimator = model_rf, param_grid = param_grid_rf, \n",
    "                                                           cv = 5, refit = True, return_train_score = True))])\n",
    "\n",
    "# Utilizando o pipeline para treinar o modelo de Random Forest na base de treinamento\n",
    "gridcv_rf.fit(X_train, (y_train))"
   ]
  },
  {
   "cell_type": "code",
   "execution_count": null,
   "metadata": {},
   "outputs": [],
   "source": [
    "# verificando os melhores hiperparâmetros encontrados\n",
    "gridcv_rf[1].best_params_"
   ]
  },
  {
   "cell_type": "code",
   "execution_count": null,
   "metadata": {},
   "outputs": [],
   "source": [
    "# instanciando com os melhores hiperparâmetros\n",
    "best_gridcv_rf  = gridcv_rf[1].best_estimator_"
   ]
  },
  {
   "cell_type": "code",
   "execution_count": null,
   "metadata": {},
   "outputs": [],
   "source": [
    "# Criando o pré-processamento e o Pipeline\n",
    "pipeline = Pipeline(steps=[('preprocessor', preprocessor_classification),\n",
    "                           ('classifier', best_gridcv_rf)])\n",
    "\n",
    "\n",
    "# Utilizando o pipeline para treinar o modelo de Random Forest na base de treinamento\n",
    "rf_gridcv = pipeline.fit(X_train, (y_train))\n",
    "# Previsão do modelo de Random Forest na base de teste\n",
    "y_pred_rf_gridcv = rf_gridcv.predict(X_val)\n",
    "print (rf_gridcv)"
   ]
  },
  {
   "cell_type": "code",
   "execution_count": null,
   "metadata": {},
   "outputs": [],
   "source": [
    "# Métricas de avaliação para o modelo de LGBM\n",
    "accuracy_rf_gridcv, recall_rf_gridcv, precision_rf_gridcv, f1_rf_gridcv, roc_rf_gridcv = classification_metrics(y_pred_rf_gridcv)"
   ]
  },
  {
   "cell_type": "markdown",
   "metadata": {},
   "source": [
    "##### 3.8.2 Extra Tree"
   ]
  },
  {
   "cell_type": "code",
   "execution_count": null,
   "metadata": {},
   "outputs": [],
   "source": [
    "param_grid_et = {'n_estimators': [1000, 1200, 1500],\n",
    "                 'max_features': [0.2, 0.3, 0.4, 0.5],\n",
    "                 'min_samples_split': [3, 4, 5, 6]}\n",
    "\n",
    "model_et = ExtraTreesClassifier(criterion = 'gini', random_state = 123)\n",
    "\n",
    "# Criando o pré-processamento e o Pipeline utilizando o RandomizerSearchCV\n",
    "gridcv_et = Pipeline(steps=[('preprocessor', preprocessor_classification),\n",
    "                            ('gridsearch_rf', GridSearchCV(estimator = model_et, param_grid = param_grid_et, \n",
    "                                                                 cv = 5, refit = True, return_train_score = True))])\n",
    "\n",
    "# Utilizando o pipeline para treinar o modelo de Random Forest na base de treinamento\n",
    "gridcv_et.fit(X_train, (y_train))"
   ]
  },
  {
   "cell_type": "code",
   "execution_count": null,
   "metadata": {},
   "outputs": [],
   "source": [
    "# verificando os melhores hiperparâmetros encontrados\n",
    "gridcv_et[1].best_params_"
   ]
  },
  {
   "cell_type": "code",
   "execution_count": null,
   "metadata": {},
   "outputs": [],
   "source": [
    "# instanciando com os melhores hiperparâmetros\n",
    "best_gridcv_et = gridcv_et[1].best_estimator_"
   ]
  },
  {
   "cell_type": "code",
   "execution_count": null,
   "metadata": {},
   "outputs": [],
   "source": [
    "# Criando o pré-processamento e o Pipeline\n",
    "pipeline = Pipeline(steps=[('preprocessor', preprocessor_classification),\n",
    "                           ('classifier', best_gridcv_et)])\n",
    "\n",
    "\n",
    "# Utilizando o pipeline para treinar o modelo de Random Forest na base de treinamento\n",
    "et_gridcv = pipeline.fit(X_train, (y_train))\n",
    "# Previsão do modelo de Random Forest na base de teste\n",
    "y_pred_et_gridcv = et_gridcv.predict(X_val)\n",
    "print (et_gridcv)"
   ]
  },
  {
   "cell_type": "code",
   "execution_count": null,
   "metadata": {},
   "outputs": [],
   "source": [
    "# Métricas de avaliação para o modelo de LGBM\n",
    "accuracy_et_gridcv, recall_et_gridcv, precision_et_gridcv, f1_et_gridcv, roc_et_gridcv = classification_metrics(y_pred_et_gridcv)"
   ]
  },
  {
   "cell_type": "markdown",
   "metadata": {},
   "source": [
    "##### 3.8.3 LGBM"
   ]
  },
  {
   "cell_type": "code",
   "execution_count": null,
   "metadata": {},
   "outputs": [],
   "source": [
    "param_grid_lgbm = {'n_estimators': [1200, 1500, 2000],\n",
    "                   'learning_rate': [0.01, 0.02, 0.03],\n",
    "                   'min_child_samples': [5, 6, 7]}\n",
    "\n",
    "\n",
    "model_lg = LGBMClassifier(boosting_type = 'gbdt', objective = 'binary', metric = 'f1', random_state = 123)\n",
    "\n",
    "# Criando o pré-processamento e o Pipeline utilizando o RandomizerSearchCV\n",
    "gridcv_lg = Pipeline(steps=[('preprocessor', preprocessor_classification),\n",
    "                            ('gridsearch_lg', GridSearchCV(estimator = model_lg, param_grid = param_grid_lgbm, \n",
    "                                                                 cv = 5, refit = True, return_train_score = True))])\n",
    "\n",
    "# Utilizando o pipeline para treinar o modelo de Random Forest na base de treinamento\n",
    "gridcv_lg.fit(X_train, (y_train))"
   ]
  },
  {
   "cell_type": "code",
   "execution_count": null,
   "metadata": {},
   "outputs": [],
   "source": [
    "# verificando os melhores hiperparâmetros encontrados\n",
    "gridcv_lg[1].best_params_"
   ]
  },
  {
   "cell_type": "code",
   "execution_count": null,
   "metadata": {},
   "outputs": [],
   "source": [
    "# instanciando com os melhores hiperparâmetros\n",
    "best_gridcv_lg  = gridcv_lg[1].best_estimator_"
   ]
  },
  {
   "cell_type": "code",
   "execution_count": null,
   "metadata": {},
   "outputs": [],
   "source": [
    "# Criando o pré-processamento e o Pipeline\n",
    "pipeline = Pipeline(steps=[('preprocessor', preprocessor_classification),\n",
    "                           ('classifier', best_gridcv_lg)])\n",
    "\n",
    "\n",
    "# Utilizando o pipeline para treinar o modelo de Random Forest na base de treinamento\n",
    "lg_gridcv = pipeline.fit(X_train, (y_train))\n",
    "# Previsão do modelo de Random Forest na base de teste\n",
    "y_pred_lg_gridcv = lg_gridcv.predict(X_val)\n",
    "print (lg_gridcv)"
   ]
  },
  {
   "cell_type": "code",
   "execution_count": null,
   "metadata": {},
   "outputs": [],
   "source": [
    "# Métricas de avaliação para o modelo de LGBM\n",
    "accuracy_lg_gridcv, recall_lg_gridcv, precision_lg_gridcv, f1_lg_gridcv, roc_lg_gridcv = classification_metrics(y_pred_lg_gridcv)"
   ]
  },
  {
   "cell_type": "markdown",
   "metadata": {},
   "source": [
    "### 3.9 Treinando os melhores modelos com Validação Cruzada"
   ]
  },
  {
   "cell_type": "markdown",
   "metadata": {},
   "source": [
    "#### 3.9.1 Random Forest"
   ]
  },
  {
   "cell_type": "code",
   "execution_count": 121,
   "metadata": {},
   "outputs": [],
   "source": [
    "pipeline_rf = Pipeline(steps=[('preprocessor', preprocessor_classification),\n",
    "                              ('model_et', ExtraTreesClassifier(n_estimators = 1200, max_features = 0.5, min_samples_split = 4,\n",
    "                                                                criterion = 'gini', random_state = 123))])\n",
    "\n",
    "# Utilizando o pipeline para treinar o modelo de Random Forest na base de treinamento\n",
    "results_rf = cross_val_score(pipeline_rf, X, y, cv = 10, scoring = 'f1')"
   ]
  },
  {
   "cell_type": "code",
   "execution_count": 122,
   "metadata": {
    "scrolled": true
   },
   "outputs": [
    {
     "name": "stdout",
     "output_type": "stream",
     "text": [
      "Resultados: [0.91840607 0.90211132 0.91860465 0.90804598 0.91428571 0.93050193\n",
      " 0.89866157 0.91011236 0.90909091 0.91666667]\n",
      "Média de acertos: 0.9126487172630157\n",
      "Desvio padrão: 0.00867833225374888\n"
     ]
    }
   ],
   "source": [
    "# Probabilidade de cada teste\n",
    "print(f'Resultados: {results_rf}\\nMédia de acertos: {results_rf.mean()}\\nDesvio padrão: {results_rf.std()}')"
   ]
  },
  {
   "cell_type": "markdown",
   "metadata": {},
   "source": [
    "#### 3.9.2 Extra Tree"
   ]
  },
  {
   "cell_type": "code",
   "execution_count": 123,
   "metadata": {},
   "outputs": [],
   "source": [
    "# Criando o pré-processamento e o Pipeline para o treinamento do modelo Extra Tree\n",
    "pipeline_et = Pipeline(steps=[('preprocessor', preprocessor_classification),\n",
    "                              ('model_et', ExtraTreesClassifier(n_estimators = 1200, max_features = 0.5, min_samples_split = 4,\n",
    "                                                                criterion = 'gini', random_state = 123))])\n",
    "\n",
    "# Utilizando o pipeline para treinar o modelo de Random Forest na base de treinamento\n",
    "results_et = cross_val_score(pipeline_et, X, y, cv = 10, scoring = 'f1')"
   ]
  },
  {
   "cell_type": "code",
   "execution_count": 124,
   "metadata": {
    "scrolled": true
   },
   "outputs": [
    {
     "name": "stdout",
     "output_type": "stream",
     "text": [
      "Resultados: [0.91840607 0.90211132 0.91860465 0.90804598 0.91428571 0.93050193\n",
      " 0.89866157 0.91011236 0.90909091 0.91666667]\n",
      "Média de acertos: 0.9126487172630157\n",
      "Desvio padrão: 0.00867833225374888\n"
     ]
    }
   ],
   "source": [
    "# Probabilidade de cada teste\n",
    "print(f'Resultados: {results_et}\\nMédia de acertos: {results_et.mean()}\\nDesvio padrão: {results_et.std()}')"
   ]
  },
  {
   "cell_type": "markdown",
   "metadata": {},
   "source": [
    "#### 3.9.3 LGBM"
   ]
  },
  {
   "cell_type": "code",
   "execution_count": 125,
   "metadata": {
    "scrolled": true
   },
   "outputs": [],
   "source": [
    "# Criando o pré-processamento e o Pipeline para o treinamento do modelo LGBM\n",
    "pipeline_lgbm = Pipeline(steps=[('preprocessor', preprocessor_classification),\n",
    "                                ('model_lgbm', LGBMClassifier(n_estimators = 1200, num_leaves = 256, learning_rate = 0.01, boosting_type = 'gbdt', \n",
    "                                                              min_child_samples = 4, objective = 'binary', metric = 'f1',\n",
    "                                                              random_state = 123))])\n",
    "\n",
    "# Utilizando o pipeline para treinar o modelo de LGBM na base de treinamento\n",
    "results_lgbm = cross_val_score(pipeline_lgbm, X, y, cv = 10, scoring = 'f1')"
   ]
  },
  {
   "cell_type": "code",
   "execution_count": 126,
   "metadata": {
    "scrolled": false
   },
   "outputs": [
    {
     "name": "stdout",
     "output_type": "stream",
     "text": [
      "Resultados: [0.91362764 0.90384615 0.93023256 0.88671875 0.89883268 0.90039841\n",
      " 0.89059501 0.87334594 0.90697674 0.90421456]\n",
      "Média de acertos: 0.9008788441238302\n",
      "Desvio padrão: 0.014662990012180676\n"
     ]
    }
   ],
   "source": [
    "# Probabilidade de cada teste\n",
    "print(f'Resultados: {results_lgbm}\\nMédia de acertos: {results_lgbm.mean()}\\nDesvio padrão: {results_lgbm.std()}')"
   ]
  },
  {
   "cell_type": "markdown",
   "metadata": {},
   "source": [
    "#### 3.9.4 Voting Classifier"
   ]
  },
  {
   "cell_type": "code",
   "execution_count": 127,
   "metadata": {},
   "outputs": [],
   "source": [
    "rf_voting = RandomForestClassifier(n_estimators = 1200, criterion = 'entropy', max_depth = None, max_features = 0.2, \n",
    "                                   bootstrap = False, random_state = 123)\n",
    "\n",
    "et_voting = ExtraTreesClassifier(n_estimators = 1200, max_features = 0.5, min_samples_split = 4, \n",
    "                                 criterion = 'gini', random_state = 123)\n",
    "\n",
    "lg_voting = LGBMClassifier(n_estimators = 1200, num_leaves = 256, learning_rate = 0.01, boosting_type = 'gbdt', \n",
    "                           min_child_samples = 4, objective = 'binary', metric = 'f1', \n",
    "                           random_state = 123)"
   ]
  },
  {
   "cell_type": "code",
   "execution_count": 128,
   "metadata": {},
   "outputs": [
    {
     "name": "stdout",
     "output_type": "stream",
     "text": [
      "Pipeline(steps=[('preprocessor',\n",
      "                 ColumnTransformer(transformers=[('cat_ohe',\n",
      "                                                  Pipeline(steps=[('onehot',\n",
      "                                                                   OneHotEncoder(handle_unknown='ignore'))]),\n",
      "                                                  [2, 3, 8, 9, 11, 13, 14, 20,\n",
      "                                                   21, 22]),\n",
      "                                                 ('num',\n",
      "                                                  Pipeline(steps=[('scaler',\n",
      "                                                                   MinMaxScaler())]),\n",
      "                                                  [0, 1, 4, 5, 6, 7, 12])])),\n",
      "                ('voting_classifier',\n",
      "                 VotingClassifier(estimators=[('rf',\n",
      "                                               RandomForestClassifier(bootstrap=False,\n",
      "                                                                      criterion='entropy',\n",
      "                                                                      max_features=0.2,\n",
      "                                                                      n_estimators=1200,\n",
      "                                                                      random_state=123)),\n",
      "                                              ('et',\n",
      "                                               ExtraTreesClassifier(max_features=0.5,\n",
      "                                                                    min_samples_split=4,\n",
      "                                                                    n_estimators=1200,\n",
      "                                                                    random_state=123)),\n",
      "                                              ('lg',\n",
      "                                               LGBMClassifier(learning_rate=0.01,\n",
      "                                                              metric='f1',\n",
      "                                                              min_child_samples=4,\n",
      "                                                              n_estimators=1200,\n",
      "                                                              num_leaves=256,\n",
      "                                                              objective='binary',\n",
      "                                                              random_state=123))]))])\n"
     ]
    }
   ],
   "source": [
    "# Criando o pré-processamento e o Pipeline\n",
    "pipeline_vc = Pipeline(steps=[('preprocessor', preprocessor_classification),\n",
    "                              ('voting_classifier', VotingClassifier(estimators = [('rf', rf_voting), \n",
    "                                                                                   ('et', et_voting), \n",
    "                                                                                   ('lg', lg_voting)], \n",
    "                                                                                   voting = 'hard', flatten_transform = True))])\n",
    "vc = pipeline_vc.fit(X_train, y_train)\n",
    "# Previsão do modelo de LGBM na base de teste\n",
    "y_pred_vc = vc.predict(X_val)\n",
    "print(vc)"
   ]
  },
  {
   "cell_type": "code",
   "execution_count": 129,
   "metadata": {
    "scrolled": true
   },
   "outputs": [
    {
     "name": "stdout",
     "output_type": "stream",
     "text": [
      "Acurácia: 0.9042821158690176\n",
      "Recall: 0.8961038961038961\n",
      "Precision: 0.905511811023622\n",
      "F1-Score: 0.9007832898172323\n",
      "ROC: 0.9040421681008478\n"
     ]
    }
   ],
   "source": [
    "# Métricas de avaliação para o modelo de vc\n",
    "accuracy_vc, recall_vc, precision_vc, f1_vc, roc_vc = classification_metrics(y_pred_vc)"
   ]
  },
  {
   "cell_type": "code",
   "execution_count": 130,
   "metadata": {},
   "outputs": [
    {
     "data": {
      "image/png": "[encoded data removed]",
      "text/plain": [
       "<Figure size 432x288 with 2 Axes>"
      ]
     },
     "metadata": {
      "needs_background": "light"
     },
     "output_type": "display_data"
    }
   ],
   "source": [
    "# Matriz de confusão para o modelo vc\n",
    "models_confusion_matrix(y_pred_vc)"
   ]
  },
  {
   "cell_type": "code",
   "execution_count": 131,
   "metadata": {
    "scrolled": true
   },
   "outputs": [
    {
     "name": "stdout",
     "output_type": "stream",
     "text": [
      "              precision    recall  f1-score   support\n",
      "\n",
      "           0       0.90      0.91      0.91       409\n",
      "           1       0.91      0.90      0.90       385\n",
      "\n",
      "    accuracy                           0.90       794\n",
      "   macro avg       0.90      0.90      0.90       794\n",
      "weighted avg       0.90      0.90      0.90       794\n",
      "\n"
     ]
    }
   ],
   "source": [
    "print(classification_report(y_val, y_pred_vc))"
   ]
  },
  {
   "cell_type": "code",
   "execution_count": 132,
   "metadata": {},
   "outputs": [
    {
     "name": "stdout",
     "output_type": "stream",
     "text": [
      "Resultados: [0.91634981 0.91013384 0.94296578 0.91428571 0.91254753 0.92870906\n",
      " 0.90666667 0.90130354 0.92952381 0.91729323]\n",
      "Média de acertos: 0.9179778978693589\n",
      "Desvio padrão: 0.011775432213517121\n"
     ]
    }
   ],
   "source": [
    "# Utilizando o pipeline para treinar os modelos de Voting Classifier na base de treinamento\n",
    "results_vc = cross_val_score(pipeline_vc, X, y, cv = 10, scoring = 'f1')\n",
    "\n",
    "# Probabilidade de cada teste\n",
    "print(f'Resultados: {results_vc}\\nMédia de acertos: {results_vc.mean()}\\nDesvio padrão: {results_vc.std()}')"
   ]
  },
  {
   "cell_type": "markdown",
   "metadata": {},
   "source": [
    "#### 3.9.5 Modelo Final utilizando Voting Classifier"
   ]
  },
  {
   "cell_type": "code",
   "execution_count": 133,
   "metadata": {},
   "outputs": [],
   "source": [
    "# Criando o pré-processamento e o Pipeline\n",
    "pipeline_final = Pipeline(steps=[('preprocessor', preprocessor_classification),\n",
    "                                 ('voting_classifier', VotingClassifier(estimators = [('rf', rf_voting), \n",
    "                                                                                      ('et', et_voting), \n",
    "                                                                                      ('lg', lg_voting)], \n",
    "                                                                                      voting = 'hard', flatten_transform = True))])\n",
    "vc_final = pipeline_vc.fit(X, y)"
   ]
  },
  {
   "cell_type": "markdown",
   "metadata": {},
   "source": [
    "### 4. Submissão do Desafio\n",
    "\n",
    "Com o modelo pronto, o último passo é realizar a submissão. Será aceita somente uma submissão para o desafio, então teste bem antes de fazer o envio.\n",
    "\n",
    "MUDANÇA NO MECANISMO DE SUBMISSÃO\n",
    "\n",
    "Por conta de problemas com os limites do plano gratuito do Watson Machine Learning, alteramos o sistema de submissão para pedir um arquivo CSV. Para entregar o desafio, você deverá alterar o arquivo com a tabela-resposta disponível nesse repositório, preenchendo o valor da coluna ALLOW em todas as 1000 linhas com as predições do seu modelo (valores 0 ou 1). Iremos avaliar sua solução nos baseando nas respostas do arquivo CSV.\n",
    "\n",
    "Para realizar a submissão, você deverá acessar a página do desafio: https://maratona.dev/challenge/1 e enviar o arquivo CSV com as respostas, juntamente com um arquivo .zip, de até 10MB, contendo o código fonte da solução (lembre-se de remover dependências e datasets para não ocupar espaço). A página fará um teste para verificar se o arquivo CSV está no formato correto.\n",
    "\n",
    "Você poderá acompanhar o status da submissão acessando a página do desafio, logando na sua conta."
   ]
  },
  {
   "cell_type": "markdown",
   "metadata": {},
   "source": [
    "###### 4.1 Importação do Dataset"
   ]
  },
  {
   "cell_type": "code",
   "execution_count": 134,
   "metadata": {},
   "outputs": [
    {
     "data": {
      "text/html": [
       "<div>\n",
       "<style scoped>\n",
       "    .dataframe tbody tr th:only-of-type {\n",
       "        vertical-align: middle;\n",
       "    }\n",
       "\n",
       "    .dataframe tbody tr th {\n",
       "        vertical-align: top;\n",
       "    }\n",
       "\n",
       "    .dataframe thead th {\n",
       "        text-align: right;\n",
       "    }\n",
       "</style>\n",
       "<table border=\"1\" class=\"dataframe\">\n",
       "  <thead>\n",
       "    <tr style=\"text-align: right;\">\n",
       "      <th></th>\n",
       "      <th>ID</th>\n",
       "      <th>CHECKING_BALANCE</th>\n",
       "      <th>PAYMENT_TERM</th>\n",
       "      <th>CREDIT_HISTORY</th>\n",
       "      <th>LOAN_PURPOSE</th>\n",
       "      <th>LOAN_AMOUNT</th>\n",
       "      <th>EXISTING_SAVINGS</th>\n",
       "      <th>EMPLOYMENT_DURATION</th>\n",
       "      <th>INSTALLMENT_PERCENT</th>\n",
       "      <th>SEX</th>\n",
       "      <th>...</th>\n",
       "      <th>PROPERTY</th>\n",
       "      <th>AGE</th>\n",
       "      <th>INSTALLMENT_PLANS</th>\n",
       "      <th>HOUSING</th>\n",
       "      <th>EXISTING_CREDITS_COUNT</th>\n",
       "      <th>JOB_TYPE</th>\n",
       "      <th>DEPENDENTS</th>\n",
       "      <th>TELEPHONE</th>\n",
       "      <th>FOREIGN_WORKER</th>\n",
       "      <th>ALLOW</th>\n",
       "    </tr>\n",
       "  </thead>\n",
       "  <tbody>\n",
       "    <tr>\n",
       "      <th>0</th>\n",
       "      <td>1078506</td>\n",
       "      <td>25.84</td>\n",
       "      <td>465</td>\n",
       "      <td>NO_CREDITS</td>\n",
       "      <td>CAR_NEW</td>\n",
       "      <td>250</td>\n",
       "      <td>38.35</td>\n",
       "      <td>0</td>\n",
       "      <td>1</td>\n",
       "      <td>F</td>\n",
       "      <td>...</td>\n",
       "      <td>REAL_ESTATE</td>\n",
       "      <td>32</td>\n",
       "      <td>STORES</td>\n",
       "      <td>OWN</td>\n",
       "      <td>1</td>\n",
       "      <td>3</td>\n",
       "      <td>1</td>\n",
       "      <td>0</td>\n",
       "      <td>1</td>\n",
       "      <td>TO_FILL</td>\n",
       "    </tr>\n",
       "    <tr>\n",
       "      <th>1</th>\n",
       "      <td>947575</td>\n",
       "      <td>-439.72</td>\n",
       "      <td>120</td>\n",
       "      <td>ALL_CREDITS_PAID_BACK</td>\n",
       "      <td>CAR_NEW</td>\n",
       "      <td>250</td>\n",
       "      <td>1.62</td>\n",
       "      <td>0</td>\n",
       "      <td>2</td>\n",
       "      <td>M</td>\n",
       "      <td>...</td>\n",
       "      <td>REAL_ESTATE</td>\n",
       "      <td>25</td>\n",
       "      <td>STORES</td>\n",
       "      <td>RENT</td>\n",
       "      <td>1</td>\n",
       "      <td>3</td>\n",
       "      <td>1</td>\n",
       "      <td>0</td>\n",
       "      <td>1</td>\n",
       "      <td>TO_FILL</td>\n",
       "    </tr>\n",
       "    <tr>\n",
       "      <th>2</th>\n",
       "      <td>133043</td>\n",
       "      <td>169.45</td>\n",
       "      <td>527</td>\n",
       "      <td>PRIOR_PAYMENTS_DELAYED</td>\n",
       "      <td>RADIO_TV</td>\n",
       "      <td>2207</td>\n",
       "      <td>184.97</td>\n",
       "      <td>6</td>\n",
       "      <td>2</td>\n",
       "      <td>M</td>\n",
       "      <td>...</td>\n",
       "      <td>SAVINGS_INSURANCE</td>\n",
       "      <td>32</td>\n",
       "      <td>STORES</td>\n",
       "      <td>OWN</td>\n",
       "      <td>2</td>\n",
       "      <td>1</td>\n",
       "      <td>2</td>\n",
       "      <td>0</td>\n",
       "      <td>1</td>\n",
       "      <td>TO_FILL</td>\n",
       "    </tr>\n",
       "    <tr>\n",
       "      <th>3</th>\n",
       "      <td>1031383</td>\n",
       "      <td>NO_CHECKING</td>\n",
       "      <td>720</td>\n",
       "      <td>OUTSTANDING_CREDIT</td>\n",
       "      <td>CAR_USED</td>\n",
       "      <td>5064</td>\n",
       "      <td>731.03</td>\n",
       "      <td>6</td>\n",
       "      <td>4</td>\n",
       "      <td>M</td>\n",
       "      <td>...</td>\n",
       "      <td>CAR_OTHER</td>\n",
       "      <td>49</td>\n",
       "      <td>NONE</td>\n",
       "      <td>OWN</td>\n",
       "      <td>2</td>\n",
       "      <td>3</td>\n",
       "      <td>1</td>\n",
       "      <td>0</td>\n",
       "      <td>1</td>\n",
       "      <td>TO_FILL</td>\n",
       "    </tr>\n",
       "    <tr>\n",
       "      <th>4</th>\n",
       "      <td>491563</td>\n",
       "      <td>NO_CHECKING</td>\n",
       "      <td>420</td>\n",
       "      <td>OUTSTANDING_CREDIT</td>\n",
       "      <td>FURNITURE</td>\n",
       "      <td>3763</td>\n",
       "      <td>396.26</td>\n",
       "      <td>4</td>\n",
       "      <td>3</td>\n",
       "      <td>F</td>\n",
       "      <td>...</td>\n",
       "      <td>CAR_OTHER</td>\n",
       "      <td>46</td>\n",
       "      <td>STORES</td>\n",
       "      <td>OWN</td>\n",
       "      <td>1</td>\n",
       "      <td>1</td>\n",
       "      <td>2</td>\n",
       "      <td>1</td>\n",
       "      <td>1</td>\n",
       "      <td>TO_FILL</td>\n",
       "    </tr>\n",
       "  </tbody>\n",
       "</table>\n",
       "<p>5 rows × 22 columns</p>\n",
       "</div>"
      ],
      "text/plain": [
       "        ID CHECKING_BALANCE  PAYMENT_TERM          CREDIT_HISTORY  \\\n",
       "0  1078506            25.84           465              NO_CREDITS   \n",
       "1   947575          -439.72           120   ALL_CREDITS_PAID_BACK   \n",
       "2   133043           169.45           527  PRIOR_PAYMENTS_DELAYED   \n",
       "3  1031383      NO_CHECKING           720      OUTSTANDING_CREDIT   \n",
       "4   491563      NO_CHECKING           420      OUTSTANDING_CREDIT   \n",
       "\n",
       "  LOAN_PURPOSE  LOAN_AMOUNT EXISTING_SAVINGS  EMPLOYMENT_DURATION  \\\n",
       "0      CAR_NEW          250            38.35                    0   \n",
       "1      CAR_NEW          250             1.62                    0   \n",
       "2     RADIO_TV         2207           184.97                    6   \n",
       "3     CAR_USED         5064           731.03                    6   \n",
       "4    FURNITURE         3763           396.26                    4   \n",
       "\n",
       "   INSTALLMENT_PERCENT SEX  ...           PROPERTY  AGE INSTALLMENT_PLANS  \\\n",
       "0                    1   F  ...        REAL_ESTATE   32            STORES   \n",
       "1                    2   M  ...        REAL_ESTATE   25            STORES   \n",
       "2                    2   M  ...  SAVINGS_INSURANCE   32            STORES   \n",
       "3                    4   M  ...          CAR_OTHER   49              NONE   \n",
       "4                    3   F  ...          CAR_OTHER   46            STORES   \n",
       "\n",
       "   HOUSING EXISTING_CREDITS_COUNT JOB_TYPE  DEPENDENTS  TELEPHONE  \\\n",
       "0      OWN                      1        3           1          0   \n",
       "1     RENT                      1        3           1          0   \n",
       "2      OWN                      2        1           2          0   \n",
       "3      OWN                      2        3           1          0   \n",
       "4      OWN                      1        1           2          1   \n",
       "\n",
       "   FOREIGN_WORKER    ALLOW  \n",
       "0               1  TO_FILL  \n",
       "1               1  TO_FILL  \n",
       "2               1  TO_FILL  \n",
       "3               1  TO_FILL  \n",
       "4               1  TO_FILL  \n",
       "\n",
       "[5 rows x 22 columns]"
      ]
     },
     "execution_count": 134,
     "metadata": {},
     "output_type": "execute_result"
    }
   ],
   "source": [
    "answers = pd.read_csv(\"ANSWERS.csv\")\n",
    "answers_final = answers.copy()\n",
    "answers.head()"
   ]
  },
  {
   "cell_type": "markdown",
   "metadata": {},
   "source": [
    "###### 4.2 Pré-Processamento do Dataset"
   ]
  },
  {
   "cell_type": "code",
   "execution_count": 135,
   "metadata": {},
   "outputs": [
    {
     "data": {
      "text/plain": [
       "CHECKING       613\n",
       "NO_CHECKING    387\n",
       "Name: CHECKING, dtype: int64"
      ]
     },
     "execution_count": 135,
     "metadata": {},
     "output_type": "execute_result"
    }
   ],
   "source": [
    "answers['CHECKING'] = answers.loc[answers['CHECKING_BALANCE'] == \"NO_CHECKING\", 'CHECKING_BALANCE']\n",
    "answers = answers.fillna(value = {'CHECKING': 'CHECKING'})\n",
    "\n",
    "answers['CHECKING'].value_counts()"
   ]
  },
  {
   "cell_type": "code",
   "execution_count": 136,
   "metadata": {},
   "outputs": [],
   "source": [
    "answers.loc[answers['CHECKING_BALANCE'] == \"NO_CHECKING\", 'CHECKING_BALANCE'] = 0\n",
    "answers.loc[answers['EXISTING_SAVINGS'] == \"UNKNOWN\", 'EXISTING_SAVINGS'] = 0"
   ]
  },
  {
   "cell_type": "code",
   "execution_count": 137,
   "metadata": {},
   "outputs": [],
   "source": [
    "answers['CHECKING_BALANCE'] = answers['CHECKING_BALANCE'].astype(float)\n",
    "answers['EXISTING_SAVINGS'] = answers['EXISTING_SAVINGS'].astype(float)\n",
    "answers['AGE'] = answers['AGE'].astype(int)\n",
    "answers['JOB_TYPE'] = answers['JOB_TYPE'].astype(int)\n",
    "answers['DEPENDENTS'] = answers['DEPENDENTS'].astype(int)\n",
    "answers['TELEPHONE'] = answers['TELEPHONE'].astype(int)\n",
    "answers['FOREIGN_WORKER'] = answers['FOREIGN_WORKER'].astype(int)\n",
    "answers['EMPLOYMENT_DURATION'] = answers['EMPLOYMENT_DURATION'].astype(int)\n",
    "answers['CURRENT_RESIDENCE_DURATION'] = answers['CURRENT_RESIDENCE_DURATION'].astype(int)\n",
    "answers['INSTALLMENT_PERCENT'] = answers['INSTALLMENT_PERCENT'].astype(int)"
   ]
  },
  {
   "cell_type": "code",
   "execution_count": 138,
   "metadata": {},
   "outputs": [],
   "source": [
    "answers['CHECKING_BALANCE_DP'] = pd.cut(answers['CHECKING_BALANCE'], \n",
    "                                        bins = [-sys.maxsize -1, -1, 0, sys.maxsize], \n",
    "                                        labels = ['Negativo', 'Zerado', 'Positivo'])\n",
    "\n",
    "answers['CHECKING_BALANCE_DP'] = answers['CHECKING_BALANCE_DP'].astype(object)"
   ]
  },
  {
   "cell_type": "code",
   "execution_count": 139,
   "metadata": {},
   "outputs": [],
   "source": [
    "answers['AGE_FILTER'] = pd.cut(answers['AGE'], \n",
    "                    bins = [0, 22, 27, 33, 40, 45, 55, sys.maxsize], \n",
    "                    labels = ['Curtindo a vida', 'Contas pra pagar', \n",
    "                              'De bem com a vida', 'Familia', \n",
    "                              'Barriga de chop', 'Cuidando da saúde', \n",
    "                              'Aposentado'])\n",
    "\n",
    "answers['AGE_FILTER'] = answers['AGE_FILTER'].astype(object)"
   ]
  },
  {
   "cell_type": "markdown",
   "metadata": {},
   "source": [
    "###### 4.3 Preenchimento do dataset de submissão"
   ]
  },
  {
   "cell_type": "code",
   "execution_count": 140,
   "metadata": {},
   "outputs": [],
   "source": [
    "# Definição das colunas que serão features\n",
    "answers_test = answers[[\"CHECKING_BALANCE\", \"PAYMENT_TERM\", \"CREDIT_HISTORY\", \"LOAN_PURPOSE\", \"LOAN_AMOUNT\", \"EXISTING_SAVINGS\", \"EMPLOYMENT_DURATION\",\n",
    "                        \"INSTALLMENT_PERCENT\", \"SEX\", \"OTHERS_ON_LOAN\", \"CURRENT_RESIDENCE_DURATION\", \"PROPERTY\", \"AGE\", \n",
    "                        \"INSTALLMENT_PLANS\", \"HOUSING\", \"EXISTING_CREDITS_COUNT\", \"JOB_TYPE\", \n",
    "                        \"DEPENDENTS\", \"TELEPHONE\", \"FOREIGN_WORKER\", \n",
    "                        \"CHECKING\", \"CHECKING_BALANCE_DP\", \n",
    "                        \"AGE_FILTER\"]].copy()"
   ]
  },
  {
   "cell_type": "code",
   "execution_count": 141,
   "metadata": {},
   "outputs": [],
   "source": [
    "preprocessor_classification.fit_transform(answers_test)\n",
    "\n",
    "answers_final['ALLOW'] = vc_final.predict(answers_test)"
   ]
  },
  {
   "cell_type": "markdown",
   "metadata": {},
   "source": [
    "###### 4.3 Salvando o dataset de submissão"
   ]
  },
  {
   "cell_type": "code",
   "execution_count": 142,
   "metadata": {},
   "outputs": [],
   "source": [
    "compression_opts = dict(method = 'zip',\n",
    "                        archive_name = 'ANSWERS.csv') \n",
    "\n",
    "answers_final.to_csv('ANSWERS.zip', index = False,\n",
    "                     compression = compression_opts)"
   ]
  },
  {
   "cell_type": "markdown",
   "metadata": {},
   "source": [
    "## 5. Parabéns!\n",
    "\n",
    "Seu modelo está agora publicado. Quando estiver pronto para submeter o desafio, você pode acessar https://maratona.dev/challenge/1 , e utilizar as credenciais abaixo para realizar a submissão. Lembre-se de revisar todas as instruções no [README](https://github.com/maratonadev/desafio-1-2021) antes de submeter!"
   ]
  }
 ],
 "metadata": {
  "kernelspec": {
   "display_name": "Python 3 (ipykernel)",
   "language": "python",
   "name": "python3"
  },
  "language_info": {
   "codemirror_mode": {
    "name": "ipython",
    "version": 3
   },
   "file_extension": ".py",
   "mimetype": "text/x-python",
   "name": "python",
   "nbconvert_exporter": "python",
   "pygments_lexer": "ipython3",
   "version": "3.8.0"
  }
 },
 "nbformat": 4,
 "nbformat_minor": 1
}
